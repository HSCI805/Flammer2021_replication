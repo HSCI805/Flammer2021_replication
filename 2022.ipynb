{
  "cells": [
    {
      "cell_type": "markdown",
      "metadata": {
        "id": "view-in-github",
        "colab_type": "text"
      },
      "source": [
        "<a href=\"https://colab.research.google.com/github/HSCI805/Flammer2022/blob/main/2022.ipynb\" target=\"_parent\"><img src=\"https://colab.research.google.com/assets/colab-badge.svg\" alt=\"Open In Colab\"/></a>"
      ]
    },
    {
      "cell_type": "markdown",
      "source": [
        "# 1) Load source code"
      ],
      "metadata": {
        "id": "8d-IzlvCZwXR"
      }
    },
    {
      "cell_type": "code",
      "execution_count": 2,
      "metadata": {
        "colab": {
          "base_uri": "https://localhost:8080/",
          "height": 500
        },
        "id": "3g49UE6g6aot",
        "outputId": "e27b7b08-6cb5-4786-9ad5-e945eccc3da5"
      },
      "outputs": [
        {
          "output_type": "display_data",
          "data": {
            "text/html": [
              "<dl>\n",
              "\t<dt>$data</dt>\n",
              "\t\t<dd><table class=\"dataframe\">\n",
              "<caption>A matrix: 3 × 3 of type dbl</caption>\n",
              "<thead>\n",
              "\t<tr><th></th><th scope=col>Disease1</th><th scope=col>Disease2</th><th scope=col>Total</th></tr>\n",
              "</thead>\n",
              "<tbody>\n",
              "\t<tr><th scope=row>Exposed1</th><td>11</td><td>11</td><td>22</td></tr>\n",
              "\t<tr><th scope=row>Exposed2</th><td>23</td><td>22</td><td>45</td></tr>\n",
              "\t<tr><th scope=row>Total</th><td>34</td><td>33</td><td>67</td></tr>\n",
              "</tbody>\n",
              "</table>\n",
              "</dd>\n",
              "\t<dt>$measure</dt>\n",
              "\t\t<dd><table class=\"dataframe\">\n",
              "<caption>A matrix: 2 × 3 of type dbl</caption>\n",
              "<thead>\n",
              "\t<tr><th></th><th scope=col>estimate</th><th scope=col>lower</th><th scope=col>upper</th></tr>\n",
              "</thead>\n",
              "<tbody>\n",
              "\t<tr><th scope=row>Exposed1</th><td>1.0000000</td><td>       NA</td><td>      NA</td></tr>\n",
              "\t<tr><th scope=row>Exposed2</th><td>0.9777778</td><td>0.5849998</td><td>1.634273</td></tr>\n",
              "</tbody>\n",
              "</table>\n",
              "</dd>\n",
              "\t<dt>$p.value</dt>\n",
              "\t\t<dd><table class=\"dataframe\">\n",
              "<caption>A matrix: 2 × 3 of type dbl</caption>\n",
              "<thead>\n",
              "\t<tr><th></th><th scope=col>midp.exact</th><th scope=col>fisher.exact</th><th scope=col>chi.square</th></tr>\n",
              "</thead>\n",
              "<tbody>\n",
              "\t<tr><th scope=row>Exposed1</th><td>       NA</td><td>NA</td><td>       NA</td></tr>\n",
              "\t<tr><th scope=row>Exposed2</th><td>0.9339579</td><td> 1</td><td>0.9319187</td></tr>\n",
              "</tbody>\n",
              "</table>\n",
              "</dd>\n",
              "\t<dt>$correction</dt>\n",
              "\t\t<dd>FALSE</dd>\n",
              "</dl>\n"
            ],
            "text/markdown": "$data\n:   \nA matrix: 3 × 3 of type dbl\n\n| <!--/--> | Disease1 | Disease2 | Total |\n|---|---|---|---|\n| Exposed1 | 11 | 11 | 22 |\n| Exposed2 | 23 | 22 | 45 |\n| Total | 34 | 33 | 67 |\n\n\n$measure\n:   \nA matrix: 2 × 3 of type dbl\n\n| <!--/--> | estimate | lower | upper |\n|---|---|---|---|\n| Exposed1 | 1.0000000 |        NA |       NA |\n| Exposed2 | 0.9777778 | 0.5849998 | 1.634273 |\n\n\n$p.value\n:   \nA matrix: 2 × 3 of type dbl\n\n| <!--/--> | midp.exact | fisher.exact | chi.square |\n|---|---|---|---|\n| Exposed1 |        NA | NA |        NA |\n| Exposed2 | 0.9339579 |  1 | 0.9319187 |\n\n\n$correction\n:   FALSE\n\n\n",
            "text/latex": "\\begin{description}\n\\item[\\$data] A matrix: 3 × 3 of type dbl\n\\begin{tabular}{r|lll}\n  & Disease1 & Disease2 & Total\\\\\n\\hline\n\tExposed1 & 11 & 11 & 22\\\\\n\tExposed2 & 23 & 22 & 45\\\\\n\tTotal & 34 & 33 & 67\\\\\n\\end{tabular}\n\n\\item[\\$measure] A matrix: 2 × 3 of type dbl\n\\begin{tabular}{r|lll}\n  & estimate & lower & upper\\\\\n\\hline\n\tExposed1 & 1.0000000 &        NA &       NA\\\\\n\tExposed2 & 0.9777778 & 0.5849998 & 1.634273\\\\\n\\end{tabular}\n\n\\item[\\$p.value] A matrix: 2 × 3 of type dbl\n\\begin{tabular}{r|lll}\n  & midp.exact & fisher.exact & chi.square\\\\\n\\hline\n\tExposed1 &        NA & NA &        NA\\\\\n\tExposed2 & 0.9339579 &  1 & 0.9319187\\\\\n\\end{tabular}\n\n\\item[\\$correction] FALSE\n\\end{description}\n",
            "text/plain": [
              "$data\n",
              "          Outcome\n",
              "Predictor  Disease1 Disease2 Total\n",
              "  Exposed1       11       11    22\n",
              "  Exposed2       23       22    45\n",
              "  Total          34       33    67\n",
              "\n",
              "$measure\n",
              "          risk ratio with 95% C.I.\n",
              "Predictor   estimate     lower    upper\n",
              "  Exposed1 1.0000000        NA       NA\n",
              "  Exposed2 0.9777778 0.5849998 1.634273\n",
              "\n",
              "$p.value\n",
              "          two-sided\n",
              "Predictor  midp.exact fisher.exact chi.square\n",
              "  Exposed1         NA           NA         NA\n",
              "  Exposed2  0.9339579            1  0.9319187\n",
              "\n",
              "$correction\n",
              "[1] FALSE\n",
              "\n",
              "attr(,\"method\")\n",
              "[1] \"Unconditional MLE & normal approximation (Wald) CI\""
            ]
          },
          "metadata": {}
        }
      ],
      "source": [
        "if (0 & (!exists('riskratio')) )\n",
        "{\n",
        "  install.packages(\"epitools\")\n",
        "  library( epitools )  \n",
        "  \n",
        "} else\n",
        "{\n",
        "  source( 'https://raw.githubusercontent.com/cran/epitools/master/R/ormidp.test.R' )\n",
        "  source( 'https://raw.githubusercontent.com/cran/epitools/master/R/tab2by2.test.R' )\n",
        "  source('https://raw.githubusercontent.com/cran/epitools/master/R/table.margins.R' )\n",
        "  source( 'https://raw.githubusercontent.com/cran/epitools/master/R/riskratio.wald.R' )\n",
        "  source( 'https://raw.githubusercontent.com/cran/epitools/master/R/epitable.R' )\n",
        "\n",
        "  riskratio.wald( matrix( c(11,23,11,22), 2) )\n",
        "}\n"
      ]
    },
    {
      "cell_type": "code",
      "execution_count": 3,
      "metadata": {
        "id": "CHwSqbyTA9qb",
        "colab": {
          "base_uri": "https://localhost:8080/",
          "height": 192
        },
        "outputId": "304f1999-c02b-46f4-bdd1-ec9050026892"
      },
      "outputs": [
        {
          "output_type": "display_data",
          "data": {
            "text/html": [
              "<table class=\"dataframe\">\n",
              "<caption>A tibble: 3 × 4</caption>\n",
              "<thead>\n",
              "\t<tr><th scope=col>Year</th><th scope=col>Hospital</th><th scope=col>Percentage of cases with any kind of coercive measure</th><th scope=col>Percentage of involuntary cases</th></tr>\n",
              "\t<tr><th scope=col>&lt;dbl&gt;</th><th scope=col>&lt;chr&gt;</th><th scope=col>&lt;dbl&gt;</th><th scope=col>&lt;dbl&gt;</th></tr>\n",
              "</thead>\n",
              "<tbody>\n",
              "\t<tr><td>2019</td><td>K17</td><td>0.001</td><td>0.002</td></tr>\n",
              "\t<tr><td>2019</td><td>K9 </td><td>0.050</td><td>0.010</td></tr>\n",
              "\t<tr><td>2019</td><td>K34</td><td>0.006</td><td>0.015</td></tr>\n",
              "</tbody>\n",
              "</table>\n"
            ],
            "text/markdown": "\nA tibble: 3 × 4\n\n| Year &lt;dbl&gt; | Hospital &lt;chr&gt; | Percentage of cases with any kind of coercive measure &lt;dbl&gt; | Percentage of involuntary cases &lt;dbl&gt; |\n|---|---|---|---|\n| 2019 | K17 | 0.001 | 0.002 |\n| 2019 | K9  | 0.050 | 0.010 |\n| 2019 | K34 | 0.006 | 0.015 |\n\n",
            "text/latex": "A tibble: 3 × 4\n\\begin{tabular}{llll}\n Year & Hospital & Percentage of cases with any kind of coercive measure & Percentage of involuntary cases\\\\\n <dbl> & <chr> & <dbl> & <dbl>\\\\\n\\hline\n\t 2019 & K17 & 0.001 & 0.002\\\\\n\t 2019 & K9  & 0.050 & 0.010\\\\\n\t 2019 & K34 & 0.006 & 0.015\\\\\n\\end{tabular}\n",
            "text/plain": [
              "  Year Hospital Percentage of cases with any kind of coercive measure\n",
              "1 2019 K17      0.001                                                \n",
              "2 2019 K9       0.050                                                \n",
              "3 2019 K34      0.006                                                \n",
              "  Percentage of involuntary cases\n",
              "1 0.002                          \n",
              "2 0.010                          \n",
              "3 0.015                          "
            ]
          },
          "metadata": {}
        }
      ],
      "source": [
        "if ( !exists( 'df1' ) )  # run this code block only once (each time this Colab session is relaunched)\n",
        "{\n",
        "  library(readxl)\n",
        "\n",
        "  file_loc <-'/tmp/sheet1.xlsx'\n",
        "  download.file('https://github.com/HSCI805/Flammer2022/raw/main/Minimal_Dataset_Coercive_Measures_Agressive_Incidents.xlsx', file_loc )\n",
        "\n",
        "  df1 <- read_xlsx(file_loc, sheet=\"Coercion Cases and Measures\")\n",
        "  df2 <- read_xlsx(file_loc, sheet=\"Coercion Duration\")\n",
        "\n",
        "  df3 <- read_xlsx(file_loc, sheet=\"Coercion Hospitals\")\n",
        "  df4 <- read_xlsx(file_loc, sheet=\"Aggressive Incidents\" )\n",
        "\n",
        "}\n",
        "\n",
        "head( df3, 3) "
      ]
    },
    {
      "cell_type": "markdown",
      "metadata": {
        "id": "K8OwYkoCZbHZ"
      },
      "source": [
        "# 2) Meta data from readme\n",
        "\n",
        "\n",
        "```\n",
        "Readme: \"Minimal_Dataset_Coercive_Measures_Aggressive_Incidents\"\n",
        "\n",
        "Sheet \"Coercion Cases and Measures\" contains data for \n",
        "- the calculation of cases and percentages exposed to coercive interventions in 2020 compared to 2019\n",
        "- the calculation of number of coercive episodes in 2020 compared to 2019\n",
        "\n",
        "Sheet \"Coercion Duration\" contains data for\n",
        "- the calculation of the duration and cumulated duration of coercive episodes in 2020 compared to 2019 (to calculate durations, the data may need    to be aggregated appropriately)\n",
        "\n",
        "Sheet \"Coercion Hospitals\" contains data for\n",
        "- the calculation of variation between hospitals in the percentage of involuntary cases and the percentage of cases subjected    to any kind of coercive measure in 2019 and in 2020\n",
        "\n",
        "Sheet \"Aggressive Incidents\" contains data for\n",
        "- the calculation of cases and cases with aggressive incidents in 2020 compared to 2019\n",
        "- the calculation of the number of aggressive incidents in 2020 compared to 2019\n",
        "- the calculation of the variation between hospitals in the variation percentage of cases with aggressive incidents, the mean    SOAS-R score, and the percentage of aggressive incidents with injury consequences in 2019 and in 2020\n",
        " \n",
        " ```"
      ]
    },
    {
      "cell_type": "code",
      "source": [
        "if(0)\n",
        "{\n",
        "  source('https://raw.githubusercontent.com/cran/epiR/master/R/epi.2by2.R')\n",
        "  source('https://raw.githubusercontent.com/cran/epiR/master/R/zexact.R')\n",
        "  source('https://raw.githubusercontent.com/cran/epiR/master/R/zincrate.R')\n",
        "  source('https://raw.githubusercontent.com/cran/epiR/master/R/zRRwald.R')\n",
        "  source('https://raw.githubusercontent.com/cran/epiR/master/R/zRRtaylor.R')\n",
        "  source('https://raw.githubusercontent.com/cran/epiR/master/R/zRRscore.R')\n",
        "  source('https://raw.githubusercontent.com/cran/epiR/master/R/zORwald.R')\n",
        "  source('https://raw.githubusercontent.com/cran/epiR/master/R/zORscore.R')\n",
        "  source('https://raw.githubusercontent.com/cran/epiR/master/R/zlimit.R')\n",
        "  source('https://raw.githubusercontent.com/cran/epiR/master/R/zORml.R')\n",
        "  source('https://raw.githubusercontent.com/cran/epiR/master/R/zARwald.R')\n",
        "  source('https://raw.githubusercontent.com/cran/epiR/master/R/zARscore.R')\n",
        "  source('https://raw.githubusercontent.com/cran/epiR/master/R/zz2stat.R')\n",
        "  source('https://raw.githubusercontent.com/cran/epiR/master/R/zlimit.R')\n",
        "  source('https://raw.githubusercontent.com/cran/epiR/master/R/zMHRD.Sato.R')\n",
        "  source('https://raw.githubusercontent.com/cran/epiR/master/R/zMHRD.GR.R')\n",
        "\n",
        "  epi.2by2( c(13,2163,5,3349) )\n",
        "\n",
        "}"
      ],
      "metadata": {
        "id": "CRdil06Vktgx"
      },
      "execution_count": 4,
      "outputs": []
    },
    {
      "cell_type": "markdown",
      "source": [
        "# 3) Load dataset\n",
        "\n",
        "- Four spreadsheets were archived in the Excel file.\n",
        "\n",
        "- Only the longitudinal dataset ```df2``` contains dat on an individual level (via ```ID```)"
      ],
      "metadata": {
        "id": "UiAePCBiL9gy"
      }
    },
    {
      "cell_type": "code",
      "source": [
        "str(df1)\n",
        "str(df2)\n",
        "str(df3)\n",
        "str(df4)"
      ],
      "metadata": {
        "colab": {
          "base_uri": "https://localhost:8080/"
        },
        "id": "h2gr4SDoZSEe",
        "outputId": "35179d7b-cfcc-409f-913b-207be6db9363"
      },
      "execution_count": 5,
      "outputs": [
        {
          "output_type": "stream",
          "name": "stdout",
          "text": [
            "tibble [2 × 18] (S3: tbl_df/tbl/data.frame)\n",
            " $ Year                                                        : num [1:2] 2019 2020\n",
            " $ Number of cases                                             : num [1:2] 105782 97761\n",
            " $ Number of involuntary cases                                 : num [1:2] 13032 13824\n",
            " $ Number of cases with caring detention                       : num [1:2] 6138 6357\n",
            " $ Number of involuntary cases according to civil law          : num [1:2] 3321 3590\n",
            " $ Number of involuntary cases according to public law         : num [1:2] 3573 3877\n",
            " $ Number of cases subjected to any kind of coercive measures  : num [1:2] 6853 7912\n",
            " $ Number of cases subjected to mechanical restraint           : num [1:2] 4087 4134\n",
            " $ Number of cases subjected to seclusion                      : num [1:2] 3807 4989\n",
            " $ Number of cases subjected to physical restraint             : num [1:2] 100 94\n",
            " $ Number of cases subjected to emergency or forced medication : num [1:2] 907 946\n",
            " $ Number of cases subjected to coercive measures not specified: num [1:2] 55 45\n",
            " $ Total number of coercive episodes of any kind               : num [1:2] 26269 27514\n",
            " $ Number of mechanical restraint episodes                     : num [1:2] 10486 9188\n",
            " $ Number of seclusion episodes                                : num [1:2] 1373 15897\n",
            " $ Number of physical restraint episodes                       : num [1:2] 132 94\n",
            " $ Number of emergency or forced medications                   : num [1:2] 1758 1774\n",
            " $ Number of coercive measures not specified                   : num [1:2] 163 488\n",
            "tibble [49,600 × 4] (S3: tbl_df/tbl/data.frame)\n",
            " $ Year           : num [1:49600] 2020 2020 2020 2020 2020 ...\n",
            " $ ID             : num [1:49600] 10074 10839 10839 10839 6841 ...\n",
            " $ Kind of measure: chr [1:49600] \"seclusion\" \"physical restraint\" \"mechanical restraint\" \"seclusion\" ...\n",
            " $ Duration (hrs) : num [1:49600] 0 0 0 0 0 0 0 0 0 0 ...\n",
            "tibble [62 × 4] (S3: tbl_df/tbl/data.frame)\n",
            " $ Year                                                 : num [1:62] 2019 2019 2019 2019 2019 ...\n",
            " $ Hospital                                             : chr [1:62] \"K17\" \"K9\" \"K34\" \"K7\" ...\n",
            " $ Percentage of cases with any kind of coercive measure: num [1:62] 0.001 0.05 0.006 0.021 0.015 0.034 0.035 0.039 0.076 0.086 ...\n",
            " $ Percentage of involuntary cases                      : num [1:62] 0.002 0.01 0.015 0.016 0.034 0.034 0.056 0.058 0.065 0.065 ...\n",
            "tibble [20 × 7] (S3: tbl_df/tbl/data.frame)\n",
            " $ Year                                                   : num [1:20] 2020 2020 2020 2020 2020 2020 2020 2020 2020 2020 ...\n",
            " $ Hospital                                               : chr [1:20] \"K1\" \"K2\" \"K3\" \"K4\" ...\n",
            " $ Number of Cases with Aggressive Incidents              : num [1:20] 193 187 278 445 361 627 517 948 640 256 ...\n",
            " $ Number of Treated Cases                                : num [1:20] 2762 2910 6839 6920 4569 ...\n",
            " $ Number of Aggressive Incidents                         : num [1:20] 1115 895 779 947 816 ...\n",
            " $ Number of Aggressive Incidents with Injury Consequences: num [1:20] 157 252 244 177 211 248 487 895 813 330 ...\n",
            " $ Mean SOAS-R Score                                      : num [1:20] 10.4 12 12.5 10.2 11.3 ...\n"
          ]
        }
      ]
    },
    {
      "cell_type": "code",
      "source": [
        "colnames(df1)"
      ],
      "metadata": {
        "colab": {
          "base_uri": "https://localhost:8080/",
          "height": 104
        },
        "id": "jzcgdGDpaHT_",
        "outputId": "19ffdcfa-22e5-4ead-d384-a4d215458f5a"
      },
      "execution_count": 6,
      "outputs": [
        {
          "output_type": "display_data",
          "data": {
            "text/html": [
              "<style>\n",
              ".list-inline {list-style: none; margin:0; padding: 0}\n",
              ".list-inline>li {display: inline-block}\n",
              ".list-inline>li:not(:last-child)::after {content: \"\\00b7\"; padding: 0 .5ex}\n",
              "</style>\n",
              "<ol class=list-inline><li>'Year'</li><li>'Number of cases'</li><li>'Number of involuntary cases'</li><li>'Number of cases with caring detention'</li><li>'Number of involuntary cases according to civil law'</li><li>'Number of involuntary cases according to public law'</li><li>'Number of cases subjected to any kind of coercive measures'</li><li>'Number of cases subjected to mechanical restraint'</li><li>'Number of cases subjected to seclusion'</li><li>'Number of cases subjected to physical restraint'</li><li>'Number of cases subjected to emergency or forced medication'</li><li>'Number of cases subjected to coercive measures not specified'</li><li>'Total number of coercive episodes of any kind'</li><li>'Number of mechanical restraint episodes'</li><li>'Number of seclusion episodes'</li><li>'Number of physical restraint episodes'</li><li>'Number of emergency or forced medications'</li><li>'Number of coercive measures not specified'</li></ol>\n"
            ],
            "text/markdown": "1. 'Year'\n2. 'Number of cases'\n3. 'Number of involuntary cases'\n4. 'Number of cases with caring detention'\n5. 'Number of involuntary cases according to civil law'\n6. 'Number of involuntary cases according to public law'\n7. 'Number of cases subjected to any kind of coercive measures'\n8. 'Number of cases subjected to mechanical restraint'\n9. 'Number of cases subjected to seclusion'\n10. 'Number of cases subjected to physical restraint'\n11. 'Number of cases subjected to emergency or forced medication'\n12. 'Number of cases subjected to coercive measures not specified'\n13. 'Total number of coercive episodes of any kind'\n14. 'Number of mechanical restraint episodes'\n15. 'Number of seclusion episodes'\n16. 'Number of physical restraint episodes'\n17. 'Number of emergency or forced medications'\n18. 'Number of coercive measures not specified'\n\n\n",
            "text/latex": "\\begin{enumerate*}\n\\item 'Year'\n\\item 'Number of cases'\n\\item 'Number of involuntary cases'\n\\item 'Number of cases with caring detention'\n\\item 'Number of involuntary cases according to civil law'\n\\item 'Number of involuntary cases according to public law'\n\\item 'Number of cases subjected to any kind of coercive measures'\n\\item 'Number of cases subjected to mechanical restraint'\n\\item 'Number of cases subjected to seclusion'\n\\item 'Number of cases subjected to physical restraint'\n\\item 'Number of cases subjected to emergency or forced medication'\n\\item 'Number of cases subjected to coercive measures not specified'\n\\item 'Total number of coercive episodes of any kind'\n\\item 'Number of mechanical restraint episodes'\n\\item 'Number of seclusion episodes'\n\\item 'Number of physical restraint episodes'\n\\item 'Number of emergency or forced medications'\n\\item 'Number of coercive measures not specified'\n\\end{enumerate*}\n",
            "text/plain": [
              " [1] \"Year\"                                                        \n",
              " [2] \"Number of cases\"                                             \n",
              " [3] \"Number of involuntary cases\"                                 \n",
              " [4] \"Number of cases with caring detention\"                       \n",
              " [5] \"Number of involuntary cases according to civil law\"          \n",
              " [6] \"Number of involuntary cases according to public law\"         \n",
              " [7] \"Number of cases subjected to any kind of coercive measures\"  \n",
              " [8] \"Number of cases subjected to mechanical restraint\"           \n",
              " [9] \"Number of cases subjected to seclusion\"                      \n",
              "[10] \"Number of cases subjected to physical restraint\"             \n",
              "[11] \"Number of cases subjected to emergency or forced medication\" \n",
              "[12] \"Number of cases subjected to coercive measures not specified\"\n",
              "[13] \"Total number of coercive episodes of any kind\"               \n",
              "[14] \"Number of mechanical restraint episodes\"                     \n",
              "[15] \"Number of seclusion episodes\"                                \n",
              "[16] \"Number of physical restraint episodes\"                       \n",
              "[17] \"Number of emergency or forced medications\"                   \n",
              "[18] \"Number of coercive measures not specified\"                   "
            ]
          },
          "metadata": {}
        }
      ]
    },
    {
      "cell_type": "code",
      "source": [
        "Totalcases2019<-105782\n",
        "Totalcases2020<-97761\n",
        "Involuntary2019<-13032\n",
        "Involuntary2020<-13824\n",
        "Voluntary2019<-(Totalcases2019-Involuntary2019)\n",
        "Voluntary2020<-(Totalcases2020-Involuntary2020)\n",
        "Caringdetention2019<-6138\n",
        "Caringdetention2020<-6357\n",
        "Civillaw2019<-3321\n",
        "Civillaw2020<-3590\n",
        "Publiclaw2019<-3573\n",
        "Publiclaw2020<-3877\n",
        "Coercioncases2019<-6853\n",
        "Coercioncases2020<-7912\n",
        "Mechrest2019<-4087\n",
        "Mechrest2020<-4134\n",
        "Seclusion2019<-3807\n",
        "Seclusion2020<-4989\n",
        "Physrest2019<-100\n",
        "Physrest2020<-94\n",
        "Forcedmed2019<-907\n",
        "Forcedmed2020<-946\n",
        "Unspecified2019<-55\n",
        "Unspecified2020<-45\n",
        "Coerciveeps2019<-26269\n",
        "Coerciveeps2020<-27514\n",
        "Mechresteps2019<-10486\n",
        "Mechresteps2020<-9188\n",
        "Secleps2019<-1373\n",
        "Secleps2020<-15897\n",
        "Physresteps2019<-132\n",
        "Physresteps2020<-94\n",
        "Forcedmedeps2019<-1758\n",
        "Forcedmedeps2020<-1774\n",
        "Unspeceps2019<-163\n",
        "Unspeceps2020<-488\n",
        "\n",
        "Totalcases2019\n",
        "Totalcases2020\n",
        "Involuntary2019\n",
        "Involuntary2020\n",
        "Voluntary2019\n",
        "Voluntary2020\n",
        "Caringdetention2019\n",
        "Caringdetention2020\n",
        "Civillaw2019\n",
        "Civillaw2020\n",
        "Publiclaw2019\n",
        "Publiclaw2020\n",
        "Coercioncases2019\n",
        "Coercioncases2020\n",
        "Mechrest2019\n",
        "Mechrest2020\n",
        "Seclusion2019\n",
        "Seclusion2020\n",
        "Physrest2019\n",
        "Physrest2020\n",
        "Forcedmed2019\n",
        "Forcedmed2020\n",
        "Unspecified2019\n",
        "Unspecified2020\n",
        "Coerciveeps2019\n",
        "Coerciveeps2020\n",
        "Mechresteps2019\n",
        "Mechresteps2020\n",
        "Secleps2019\n",
        "Secleps2020\n",
        "Physresteps2019\n",
        "Physresteps2020\n",
        "Forcedmedeps2019\n",
        "Forcedmedeps2020\n",
        "Unspeceps2019\n",
        "Unspeceps2020"
      ],
      "metadata": {
        "colab": {
          "base_uri": "https://localhost:8080/",
          "height": 642
        },
        "id": "VYjfSU-aw0I9",
        "outputId": "4c88b960-c423-465b-f5ff-ab574dc3cc38"
      },
      "execution_count": 7,
      "outputs": [
        {
          "output_type": "display_data",
          "data": {
            "text/html": [
              "105782"
            ],
            "text/markdown": "105782",
            "text/latex": "105782",
            "text/plain": [
              "[1] 105782"
            ]
          },
          "metadata": {}
        },
        {
          "output_type": "display_data",
          "data": {
            "text/html": [
              "97761"
            ],
            "text/markdown": "97761",
            "text/latex": "97761",
            "text/plain": [
              "[1] 97761"
            ]
          },
          "metadata": {}
        },
        {
          "output_type": "display_data",
          "data": {
            "text/html": [
              "13032"
            ],
            "text/markdown": "13032",
            "text/latex": "13032",
            "text/plain": [
              "[1] 13032"
            ]
          },
          "metadata": {}
        },
        {
          "output_type": "display_data",
          "data": {
            "text/html": [
              "13824"
            ],
            "text/markdown": "13824",
            "text/latex": "13824",
            "text/plain": [
              "[1] 13824"
            ]
          },
          "metadata": {}
        },
        {
          "output_type": "display_data",
          "data": {
            "text/html": [
              "92750"
            ],
            "text/markdown": "92750",
            "text/latex": "92750",
            "text/plain": [
              "[1] 92750"
            ]
          },
          "metadata": {}
        },
        {
          "output_type": "display_data",
          "data": {
            "text/html": [
              "83937"
            ],
            "text/markdown": "83937",
            "text/latex": "83937",
            "text/plain": [
              "[1] 83937"
            ]
          },
          "metadata": {}
        },
        {
          "output_type": "display_data",
          "data": {
            "text/html": [
              "6138"
            ],
            "text/markdown": "6138",
            "text/latex": "6138",
            "text/plain": [
              "[1] 6138"
            ]
          },
          "metadata": {}
        },
        {
          "output_type": "display_data",
          "data": {
            "text/html": [
              "6357"
            ],
            "text/markdown": "6357",
            "text/latex": "6357",
            "text/plain": [
              "[1] 6357"
            ]
          },
          "metadata": {}
        },
        {
          "output_type": "display_data",
          "data": {
            "text/html": [
              "3321"
            ],
            "text/markdown": "3321",
            "text/latex": "3321",
            "text/plain": [
              "[1] 3321"
            ]
          },
          "metadata": {}
        },
        {
          "output_type": "display_data",
          "data": {
            "text/html": [
              "3590"
            ],
            "text/markdown": "3590",
            "text/latex": "3590",
            "text/plain": [
              "[1] 3590"
            ]
          },
          "metadata": {}
        },
        {
          "output_type": "display_data",
          "data": {
            "text/html": [
              "3573"
            ],
            "text/markdown": "3573",
            "text/latex": "3573",
            "text/plain": [
              "[1] 3573"
            ]
          },
          "metadata": {}
        },
        {
          "output_type": "display_data",
          "data": {
            "text/html": [
              "3877"
            ],
            "text/markdown": "3877",
            "text/latex": "3877",
            "text/plain": [
              "[1] 3877"
            ]
          },
          "metadata": {}
        },
        {
          "output_type": "display_data",
          "data": {
            "text/html": [
              "6853"
            ],
            "text/markdown": "6853",
            "text/latex": "6853",
            "text/plain": [
              "[1] 6853"
            ]
          },
          "metadata": {}
        },
        {
          "output_type": "display_data",
          "data": {
            "text/html": [
              "7912"
            ],
            "text/markdown": "7912",
            "text/latex": "7912",
            "text/plain": [
              "[1] 7912"
            ]
          },
          "metadata": {}
        },
        {
          "output_type": "display_data",
          "data": {
            "text/html": [
              "4087"
            ],
            "text/markdown": "4087",
            "text/latex": "4087",
            "text/plain": [
              "[1] 4087"
            ]
          },
          "metadata": {}
        },
        {
          "output_type": "display_data",
          "data": {
            "text/html": [
              "4134"
            ],
            "text/markdown": "4134",
            "text/latex": "4134",
            "text/plain": [
              "[1] 4134"
            ]
          },
          "metadata": {}
        },
        {
          "output_type": "display_data",
          "data": {
            "text/html": [
              "3807"
            ],
            "text/markdown": "3807",
            "text/latex": "3807",
            "text/plain": [
              "[1] 3807"
            ]
          },
          "metadata": {}
        },
        {
          "output_type": "display_data",
          "data": {
            "text/html": [
              "4989"
            ],
            "text/markdown": "4989",
            "text/latex": "4989",
            "text/plain": [
              "[1] 4989"
            ]
          },
          "metadata": {}
        },
        {
          "output_type": "display_data",
          "data": {
            "text/html": [
              "100"
            ],
            "text/markdown": "100",
            "text/latex": "100",
            "text/plain": [
              "[1] 100"
            ]
          },
          "metadata": {}
        },
        {
          "output_type": "display_data",
          "data": {
            "text/html": [
              "94"
            ],
            "text/markdown": "94",
            "text/latex": "94",
            "text/plain": [
              "[1] 94"
            ]
          },
          "metadata": {}
        },
        {
          "output_type": "display_data",
          "data": {
            "text/html": [
              "907"
            ],
            "text/markdown": "907",
            "text/latex": "907",
            "text/plain": [
              "[1] 907"
            ]
          },
          "metadata": {}
        },
        {
          "output_type": "display_data",
          "data": {
            "text/html": [
              "946"
            ],
            "text/markdown": "946",
            "text/latex": "946",
            "text/plain": [
              "[1] 946"
            ]
          },
          "metadata": {}
        },
        {
          "output_type": "display_data",
          "data": {
            "text/html": [
              "55"
            ],
            "text/markdown": "55",
            "text/latex": "55",
            "text/plain": [
              "[1] 55"
            ]
          },
          "metadata": {}
        },
        {
          "output_type": "display_data",
          "data": {
            "text/html": [
              "45"
            ],
            "text/markdown": "45",
            "text/latex": "45",
            "text/plain": [
              "[1] 45"
            ]
          },
          "metadata": {}
        },
        {
          "output_type": "display_data",
          "data": {
            "text/html": [
              "26269"
            ],
            "text/markdown": "26269",
            "text/latex": "26269",
            "text/plain": [
              "[1] 26269"
            ]
          },
          "metadata": {}
        },
        {
          "output_type": "display_data",
          "data": {
            "text/html": [
              "27514"
            ],
            "text/markdown": "27514",
            "text/latex": "27514",
            "text/plain": [
              "[1] 27514"
            ]
          },
          "metadata": {}
        },
        {
          "output_type": "display_data",
          "data": {
            "text/html": [
              "10486"
            ],
            "text/markdown": "10486",
            "text/latex": "10486",
            "text/plain": [
              "[1] 10486"
            ]
          },
          "metadata": {}
        },
        {
          "output_type": "display_data",
          "data": {
            "text/html": [
              "9188"
            ],
            "text/markdown": "9188",
            "text/latex": "9188",
            "text/plain": [
              "[1] 9188"
            ]
          },
          "metadata": {}
        },
        {
          "output_type": "display_data",
          "data": {
            "text/html": [
              "1373"
            ],
            "text/markdown": "1373",
            "text/latex": "1373",
            "text/plain": [
              "[1] 1373"
            ]
          },
          "metadata": {}
        },
        {
          "output_type": "display_data",
          "data": {
            "text/html": [
              "15897"
            ],
            "text/markdown": "15897",
            "text/latex": "15897",
            "text/plain": [
              "[1] 15897"
            ]
          },
          "metadata": {}
        },
        {
          "output_type": "display_data",
          "data": {
            "text/html": [
              "132"
            ],
            "text/markdown": "132",
            "text/latex": "132",
            "text/plain": [
              "[1] 132"
            ]
          },
          "metadata": {}
        },
        {
          "output_type": "display_data",
          "data": {
            "text/html": [
              "94"
            ],
            "text/markdown": "94",
            "text/latex": "94",
            "text/plain": [
              "[1] 94"
            ]
          },
          "metadata": {}
        },
        {
          "output_type": "display_data",
          "data": {
            "text/html": [
              "1758"
            ],
            "text/markdown": "1758",
            "text/latex": "1758",
            "text/plain": [
              "[1] 1758"
            ]
          },
          "metadata": {}
        },
        {
          "output_type": "display_data",
          "data": {
            "text/html": [
              "1774"
            ],
            "text/markdown": "1774",
            "text/latex": "1774",
            "text/plain": [
              "[1] 1774"
            ]
          },
          "metadata": {}
        },
        {
          "output_type": "display_data",
          "data": {
            "text/html": [
              "163"
            ],
            "text/markdown": "163",
            "text/latex": "163",
            "text/plain": [
              "[1] 163"
            ]
          },
          "metadata": {}
        },
        {
          "output_type": "display_data",
          "data": {
            "text/html": [
              "488"
            ],
            "text/markdown": "488",
            "text/latex": "488",
            "text/plain": [
              "[1] 488"
            ]
          },
          "metadata": {}
        }
      ]
    },
    {
      "cell_type": "markdown",
      "source": [
        "# 4) Begin replication of Table 1"
      ],
      "metadata": {
        "id": "0gMTh7uyLleQ"
      }
    },
    {
      "cell_type": "markdown",
      "source": [
        "# Table 1 Percentages & Extension"
      ],
      "metadata": {
        "id": "sta6Yd-CxH4y"
      }
    },
    {
      "cell_type": "code",
      "execution_count": 8,
      "metadata": {
        "colab": {
          "base_uri": "https://localhost:8080/",
          "height": 746
        },
        "id": "fM_mryxQpAJy",
        "outputId": "2615cdf5-2bdc-40e9-f2c3-7c895143f940"
      },
      "outputs": [
        {
          "output_type": "display_data",
          "data": {
            "text/html": [
              "12.3196763154412"
            ],
            "text/markdown": "12.3196763154412",
            "text/latex": "12.3196763154412",
            "text/plain": [
              "[1] 12.31968"
            ]
          },
          "metadata": {}
        },
        {
          "output_type": "display_data",
          "data": {
            "text/html": [
              "14.140608218001"
            ],
            "text/markdown": "14.140608218001",
            "text/latex": "14.140608218001",
            "text/plain": [
              "[1] 14.14061"
            ]
          },
          "metadata": {}
        },
        {
          "output_type": "display_data",
          "data": {
            "text/html": [
              "47.0994475138122"
            ],
            "text/markdown": "47.0994475138122",
            "text/latex": "47.0994475138122",
            "text/plain": [
              "[1] 47.09945"
            ]
          },
          "metadata": {}
        },
        {
          "output_type": "display_data",
          "data": {
            "text/html": [
              "45.9852430555556"
            ],
            "text/markdown": "45.9852430555556",
            "text/latex": "45.9852430555556",
            "text/plain": [
              "[1] 45.98524"
            ]
          },
          "metadata": {}
        },
        {
          "output_type": "display_data",
          "data": {
            "text/html": [
              "5.80249948006277"
            ],
            "text/markdown": "5.80249948006277",
            "text/latex": "5.80249948006277",
            "text/plain": [
              "[1] 5.802499"
            ]
          },
          "metadata": {}
        },
        {
          "output_type": "display_data",
          "data": {
            "text/html": [
              "6.50259305858164"
            ],
            "text/markdown": "6.50259305858164",
            "text/latex": "6.50259305858164",
            "text/plain": [
              "[1] 6.502593"
            ]
          },
          "metadata": {}
        },
        {
          "output_type": "display_data",
          "data": {
            "text/html": [
              "25.4834254143646"
            ],
            "text/markdown": "25.4834254143646",
            "text/latex": "25.4834254143646",
            "text/plain": [
              "[1] 25.48343"
            ]
          },
          "metadata": {}
        },
        {
          "output_type": "display_data",
          "data": {
            "text/html": [
              "25.9693287037037"
            ],
            "text/markdown": "25.9693287037037",
            "text/latex": "25.9693287037037",
            "text/plain": [
              "[1] 25.96933"
            ]
          },
          "metadata": {}
        },
        {
          "output_type": "display_data",
          "data": {
            "text/html": [
              "3.1394755251366"
            ],
            "text/markdown": "3.1394755251366",
            "text/latex": "3.1394755251366",
            "text/plain": [
              "[1] 3.139476"
            ]
          },
          "metadata": {}
        },
        {
          "output_type": "display_data",
          "data": {
            "text/html": [
              "3.67222102883563"
            ],
            "text/markdown": "3.67222102883563",
            "text/latex": "3.67222102883563",
            "text/plain": [
              "[1] 3.672221"
            ]
          },
          "metadata": {}
        },
        {
          "output_type": "display_data",
          "data": {
            "text/html": [
              "27.4171270718232"
            ],
            "text/markdown": "27.4171270718232",
            "text/latex": "27.4171270718232",
            "text/plain": [
              "[1] 27.41713"
            ]
          },
          "metadata": {}
        },
        {
          "output_type": "display_data",
          "data": {
            "text/html": [
              "28.0454282407407"
            ],
            "text/markdown": "28.0454282407407",
            "text/latex": "28.0454282407407",
            "text/plain": [
              "[1] 28.04543"
            ]
          },
          "metadata": {}
        },
        {
          "output_type": "display_data",
          "data": {
            "text/html": [
              "3.37770131024182"
            ],
            "text/markdown": "3.37770131024182",
            "text/latex": "3.37770131024182",
            "text/plain": [
              "[1] 3.377701"
            ]
          },
          "metadata": {}
        },
        {
          "output_type": "display_data",
          "data": {
            "text/html": [
              "3.96579413058377"
            ],
            "text/markdown": "3.96579413058377",
            "text/latex": "3.96579413058377",
            "text/plain": [
              "[1] 3.965794"
            ]
          },
          "metadata": {}
        },
        {
          "output_type": "display_data",
          "data": {
            "text/html": [
              "6.47841787827797"
            ],
            "text/markdown": "6.47841787827797",
            "text/latex": "6.47841787827797",
            "text/plain": [
              "[1] 6.478418"
            ]
          },
          "metadata": {}
        },
        {
          "output_type": "display_data",
          "data": {
            "text/html": [
              "8.09320690254805"
            ],
            "text/markdown": "8.09320690254805",
            "text/latex": "8.09320690254805",
            "text/plain": [
              "[1] 8.093207"
            ]
          },
          "metadata": {}
        },
        {
          "output_type": "display_data",
          "data": {
            "text/html": [
              "52.585942295887"
            ],
            "text/markdown": "52.585942295887",
            "text/latex": "52.585942295887",
            "text/plain": [
              "[1] 52.58594"
            ]
          },
          "metadata": {}
        },
        {
          "output_type": "display_data",
          "data": {
            "text/html": [
              "57.2337962962963"
            ],
            "text/markdown": "57.2337962962963",
            "text/latex": "57.2337962962963",
            "text/plain": [
              "[1] 57.2338"
            ]
          },
          "metadata": {}
        },
        {
          "output_type": "display_data",
          "data": {
            "text/html": [
              "31.3612645794966"
            ],
            "text/markdown": "31.3612645794966",
            "text/latex": "31.3612645794966",
            "text/plain": [
              "[1] 31.36126"
            ]
          },
          "metadata": {}
        },
        {
          "output_type": "display_data",
          "data": {
            "text/html": [
              "29.9045138888889"
            ],
            "text/markdown": "29.9045138888889",
            "text/latex": "29.9045138888889",
            "text/plain": [
              "[1] 29.90451"
            ]
          },
          "metadata": {}
        },
        {
          "output_type": "display_data",
          "data": {
            "text/html": [
              "3.86360628462309"
            ],
            "text/markdown": "3.86360628462309",
            "text/latex": "3.86360628462309",
            "text/plain": [
              "[1] 3.863606"
            ]
          },
          "metadata": {}
        },
        {
          "output_type": "display_data",
          "data": {
            "text/html": [
              "4.22868014852549"
            ],
            "text/markdown": "4.22868014852549",
            "text/latex": "4.22868014852549",
            "text/plain": [
              "[1] 4.22868"
            ]
          },
          "metadata": {}
        },
        {
          "output_type": "display_data",
          "data": {
            "text/html": [
              "0.767341927562922"
            ],
            "text/markdown": "0.767341927562922",
            "text/latex": "0.767341927562922",
            "text/plain": [
              "[1] 0.7673419"
            ]
          },
          "metadata": {}
        },
        {
          "output_type": "display_data",
          "data": {
            "text/html": [
              "0.679976851851852"
            ],
            "text/markdown": "0.679976851851852",
            "text/latex": "0.679976851851852",
            "text/plain": [
              "[1] 0.6799769"
            ]
          },
          "metadata": {}
        },
        {
          "output_type": "display_data",
          "data": {
            "text/html": [
              "0.0945340417084192"
            ],
            "text/markdown": "0.0945340417084192",
            "text/latex": "0.0945340417084192",
            "text/plain": [
              "[1] 0.09453404"
            ]
          },
          "metadata": {}
        },
        {
          "output_type": "display_data",
          "data": {
            "text/html": [
              "0.0961528625934677"
            ],
            "text/markdown": "0.0961528625934677",
            "text/latex": "0.0961528625934677",
            "text/plain": [
              "[1] 0.09615286"
            ]
          },
          "metadata": {}
        },
        {
          "output_type": "display_data",
          "data": {
            "text/html": [
              "6.9597912829957"
            ],
            "text/markdown": "6.9597912829957",
            "text/latex": "6.9597912829957",
            "text/plain": [
              "[1] 6.959791"
            ]
          },
          "metadata": {}
        },
        {
          "output_type": "display_data",
          "data": {
            "text/html": [
              "6.8431712962963"
            ],
            "text/markdown": "6.8431712962963",
            "text/latex": "6.8431712962963",
            "text/plain": [
              "[1] 6.843171"
            ]
          },
          "metadata": {}
        },
        {
          "output_type": "display_data",
          "data": {
            "text/html": [
              "0.857423758295362"
            ],
            "text/markdown": "0.857423758295362",
            "text/latex": "0.857423758295362",
            "text/plain": [
              "[1] 0.8574238"
            ]
          },
          "metadata": {}
        },
        {
          "output_type": "display_data",
          "data": {
            "text/html": [
              "0.967666042695963"
            ],
            "text/markdown": "0.967666042695963",
            "text/latex": "0.967666042695963",
            "text/plain": [
              "[1] 0.967666"
            ]
          },
          "metadata": {}
        },
        {
          "output_type": "display_data",
          "data": {
            "text/html": [
              "0.422038060159607"
            ],
            "text/markdown": "0.422038060159607",
            "text/latex": "0.422038060159607",
            "text/plain": [
              "[1] 0.4220381"
            ]
          },
          "metadata": {}
        },
        {
          "output_type": "display_data",
          "data": {
            "text/html": [
              "0.325520833333333"
            ],
            "text/markdown": "0.325520833333333",
            "text/latex": "0.325520833333333",
            "text/plain": [
              "[1] 0.3255208"
            ]
          },
          "metadata": {}
        },
        {
          "output_type": "display_data",
          "data": {
            "text/html": [
              "0.0519937229396306"
            ],
            "text/markdown": "0.0519937229396306",
            "text/latex": "0.0519937229396306",
            "text/plain": [
              "[1] 0.05199372"
            ]
          },
          "metadata": {}
        },
        {
          "output_type": "display_data",
          "data": {
            "text/html": [
              "0.0460306257096388"
            ],
            "text/markdown": "0.0460306257096388",
            "text/latex": "0.0460306257096388",
            "text/plain": [
              "[1] 0.04603063"
            ]
          },
          "metadata": {}
        },
        {
          "output_type": "display_data",
          "data": {
            "text/html": [
              "87.6803236845588"
            ],
            "text/markdown": "87.6803236845588",
            "text/latex": "87.6803236845588",
            "text/plain": [
              "[1] 87.68032"
            ]
          },
          "metadata": {}
        },
        {
          "output_type": "display_data",
          "data": {
            "text/html": [
              "85.859391781999"
            ],
            "text/markdown": "85.859391781999",
            "text/latex": "85.859391781999",
            "text/plain": [
              "[1] 85.85939"
            ]
          },
          "metadata": {}
        },
        {
          "output_type": "display_data",
          "data": {
            "text/html": [
              "3.59891096783952"
            ],
            "text/markdown": "3.59891096783952",
            "text/latex": "3.59891096783952",
            "text/plain": [
              "[1] 3.598911"
            ]
          },
          "metadata": {}
        },
        {
          "output_type": "display_data",
          "data": {
            "text/html": [
              "5.10326203700862"
            ],
            "text/markdown": "5.10326203700862",
            "text/latex": "5.10326203700862",
            "text/plain": [
              "[1] 5.103262"
            ]
          },
          "metadata": {}
        },
        {
          "output_type": "display_data",
          "data": {
            "text/html": [
              "29.2127071823204"
            ],
            "text/markdown": "29.2127071823204",
            "text/latex": "29.2127071823204",
            "text/plain": [
              "[1] 29.21271"
            ]
          },
          "metadata": {}
        },
        {
          "output_type": "display_data",
          "data": {
            "text/html": [
              "36.0894097222222"
            ],
            "text/markdown": "36.0894097222222",
            "text/latex": "36.0894097222222",
            "text/plain": [
              "[1] 36.08941"
            ]
          },
          "metadata": {}
        },
        {
          "output_type": "display_data",
          "data": {
            "text/html": [
              "0.0945340417084192"
            ],
            "text/markdown": "0.0945340417084192",
            "text/latex": "0.0945340417084192",
            "text/plain": [
              "[1] 0.09453404"
            ]
          },
          "metadata": {}
        },
        {
          "output_type": "display_data",
          "data": {
            "text/html": [
              "0.0961528625934677"
            ],
            "text/markdown": "0.0961528625934677",
            "text/latex": "0.0961528625934677",
            "text/plain": [
              "[1] 0.09615286"
            ]
          },
          "metadata": {}
        }
      ],
      "source": [
        "#measuring the overall % of involuntary cases out of all admissions in 2019\n",
        "Percentinvol2019 <- 100*(Involuntary2019)/(Totalcases2019) \n",
        "Percentinvol2019\n",
        "Percentinvol2020<-100*(Involuntary2020)/(Totalcases2020)\n",
        "Percentinvol2020\n",
        "\n",
        "#measuring the % of caring detention cases out of subset of involuntary cases in 2019\n",
        "Percentcaringdetention2019 <- 100*(Caringdetention2019)/(Involuntary2019) \n",
        "Percentcaringdetention2019\n",
        "Percentcaringdetention2020<-100*(Caringdetention2020)/(Involuntary2020) #2020\n",
        "Percentcaringdetention2020\n",
        "\n",
        "#measuring % of caring detention out of ALL cases\n",
        "PercentcaringdetentionALL2019 <- 100*(Caringdetention2019)/(Totalcases2019) \n",
        "PercentcaringdetentionALL2019\n",
        "\n",
        "#measuring % of caring detention out of ALL cases\n",
        "PercentcaringdetentionALL2020 <- 100*(Caringdetention2020)/(Totalcases2020) \n",
        "PercentcaringdetentionALL2020\n",
        "\n",
        "#measuring the % of civil law detentions out of subset of involuntary cases in each year\n",
        "Percentcivillaw2019 <- 100* (Civillaw2019)/(Involuntary2019) \n",
        "Percentcivillaw2019\n",
        "\n",
        "#measuring the % of civil law detentions out of subset of involuntary cases in each year\n",
        "Percentcivillaw2020 <- 100* (Civillaw2020)/(Involuntary2020) \n",
        "Percentcivillaw2020\n",
        "\n",
        "#measuring % of civil law detentions out of ALL admissions\n",
        "PercentcivillawALL2019 <- 100* (Civillaw2019)/(Totalcases2019) \n",
        "PercentcivillawALL2019\n",
        "\n",
        "#measuring % of civil law detentions out of ALL admissions\n",
        "PercentcivillawALL2020 <- 100* (Civillaw2020)/(Totalcases2020) \n",
        "PercentcivillawALL2020\n",
        "\n",
        "#measuring the % of public law detentions out of subset of involuntary cases in 2019\n",
        "Percentpubliclaw2019 <- 100* (Publiclaw2019)/(Involuntary2019) \n",
        "Percentpubliclaw2019\n",
        "Percentpubliclaw2020 <- 100* (Publiclaw2020)/(Involuntary2020)\n",
        "Percentpubliclaw2020\n",
        "\n",
        "#measuring the % of public law detentions out of ALL admissions 2019\n",
        "PercentpubliclawALL2019 <- 100* (Publiclaw2019)/(Totalcases2019) \n",
        "PercentpubliclawALL2019\n",
        "\n",
        "#measuring the % of public law detentions out of ALL admissions 2020\n",
        "PercentpubliclawALL2020 <- 100* (Publiclaw2020)/(Totalcases2020) \n",
        "PercentpubliclawALL2020\n",
        "\n",
        "#measuring the % of cases using coercion out of ALL admissions\n",
        "PercentcoercionALL2019 <- 100* (Coercioncases2019)/(Totalcases2019) \n",
        "PercentcoercionALL2019\n",
        "\n",
        "#measuring the % of cases using coercion out of ALL admissions\n",
        "PercentcoercionALL2020 <- 100* (Coercioncases2020)/(Totalcases2020) \n",
        "PercentcoercionALL2020\n",
        "\n",
        "#subset of involuntary admissions\n",
        "Percentcoercion2019<- 100* (Coercioncases2019)/(Involuntary2019) \n",
        "Percentcoercion2019\n",
        "\n",
        "#subset of involuntary admissions\n",
        "Percentcoercion2020<- 100* (Coercioncases2020)/(Involuntary2020) \n",
        "Percentcoercion2020\n",
        "\n",
        "#measuring % of cases subject to mechanical restraint out of the subset of involuntary cases 2019\n",
        "Percentmechinvol2019 <- 100* (Mechrest2019)/(Involuntary2019) \n",
        "Percentmechinvol2019  \n",
        "Percentmechinvol2020<-100* (Mechrest2020)/(Involuntary2020) \n",
        "Percentmechinvol2020\n",
        "PercentmechALL2019<-100* (Mechrest2019)/(Totalcases2019)\n",
        "PercentmechALL2019\n",
        "PercentmechALL2020<-100* (Mechrest2020)/(Totalcases2020)\n",
        "PercentmechALL2020\n",
        "\n",
        "#subset of involuntary cases\n",
        "Percentphysrest2019<- 100* (Physrest2019)/(Involuntary2019) \n",
        "Percentphysrest2019\n",
        "Percentphysrest2020<- 100* (Physrest2020)/(Involuntary2020)\n",
        "Percentphysrest2020\n",
        "\n",
        "\n",
        "#all cases\n",
        "PercentphysrestALL2019<- 100* (Physrest2019)/(Totalcases2019)\n",
        "PercentphysrestALL2019\n",
        "PercentphysrestALL2020<- 100* (Physrest2020)/(Totalcases2020)\n",
        "PercentphysrestALL2020\n",
        "\n",
        "#subset of involuntary cases\n",
        "Percentforcedmed2019<-100*(Forcedmed2019)/(Involuntary2019) \n",
        "Percentforcedmed2019\n",
        "Percentforcedmed2020<-100*(Forcedmed2020)/(Involuntary2020)\n",
        "Percentforcedmed2020\n",
        "\n",
        "#all cases\n",
        "PercentforcedmedALL2019<-100*(Forcedmed2019)/(Totalcases2019)\n",
        "PercentforcedmedALL2019\n",
        "PercentforcedmedALL2020<-100*(Forcedmed2020)/(Totalcases2020)\n",
        "PercentforcedmedALL2020\n",
        "\n",
        "#subset of involuntary cases\n",
        "Percentunspecified2019<-100*(Unspecified2019)/(Involuntary2019)\n",
        "Percentunspecified2019\n",
        "Percentunspecified2020<-100*(Unspecified2020)/(Involuntary2020)\n",
        "Percentunspecified2020\n",
        "PercentunspecifiedALL2019<-100*(Unspecified2019)/(Totalcases2019)\n",
        "PercentunspecifiedALL2019\n",
        "PercentunspecifiedALL2020<-100*(Unspecified2020)/(Totalcases2020)\n",
        "PercentunspecifiedALL2020\n",
        "Percentvol2019<-100*(Voluntary2019)/(Totalcases2019)\n",
        "Percentvol2019\n",
        "Percentvol2020<-100*(Voluntary2020)/(Totalcases2020)\n",
        "Percentvol2020\n",
        "Percentseclusion2019<-100*(Seclusion2019)/(Totalcases2019)\n",
        "Percentseclusion2019\n",
        "Percentseclusion2020<-100*(Seclusion2020)/(Totalcases2020)\n",
        "Percentseclusion2020\n",
        "Percentseclusionsubset2019<-100*(Seclusion2019)/(Involuntary2019)\n",
        "Percentseclusionsubset2019\n",
        "Percentseclusionsubset2020<-100*(Seclusion2020)/(Involuntary2020)\n",
        "Percentseclusionsubset2020\n",
        "\n",
        "#all cases\n",
        "PercentphysrestALL2019<- 100* (Physrest2019)/(Totalcases2019)\n",
        "PercentphysrestALL2019\n",
        "PercentphysrestALL2020<- 100* (Physrest2020)/(Totalcases2020)\n",
        "PercentphysrestALL2020"
      ]
    },
    {
      "cell_type": "markdown",
      "source": [
        "# Subset of patients subject to coercion"
      ],
      "metadata": {
        "id": "-vt1c0m9qs_m"
      }
    },
    {
      "cell_type": "code",
      "source": [
        "#measuring % of cases subject to mechanical restraint out of the subset of patients subject to coercion in 2019\n",
        "Percentmechcoercion2019 <- 100* (Mechrest2019)/(Coercioncases2019) \n",
        "Percentmechcoercion2019 \n",
        "Percentmechcoercion2020<-100* (Mechrest2020)/(Coercioncases2019) \n",
        "Percentmechcoercion2020\n",
        "Percentphysrestcoercion2019<- 100* (Physrest2019)/(Coercioncases2019) \n",
        "Percentphysrestcoercion2019\n",
        "Percentphysrestcoercion2020<- 100* (Physrest2020)/(Coercioncases2020)\n",
        "Percentphysrestcoercion2020\n",
        "\n",
        "Percentforcedmedcoercion2019<-100*(Forcedmed2019)/(Coercioncases2019) \n",
        "Percentforcedmedcoercion2019\n",
        "Percentforcedmedcoercion2020<-100*(Forcedmed2020)/(Coercioncases2020)\n",
        "Percentforcedmedcoercion2020\n",
        "\n",
        "Percentunspecifiedcoercion2019<-100*(Unspecified2019)/(Coercioncases2019)\n",
        "Percentunspecifiedcoercion2019\n",
        "Percentunspecifiedcoercion2020<-100*(Unspecified2020)/(Coercioncases2020)\n",
        "Percentunspecifiedcoercion2020\n",
        "\n",
        "Percentseclusioncoercion2019<-100*(Seclusion2019)/(Coercioncases2020)\n",
        "Percentseclusioncoercion2019\n",
        "Percentseclusioncoercion2020<-100*(Seclusion2020)/(Coercioncases2020)\n",
        "Percentseclusioncoercion2020\n"
      ],
      "metadata": {
        "colab": {
          "base_uri": "https://localhost:8080/",
          "height": 191
        },
        "id": "0TqQNwMGqrEl",
        "outputId": "66c4cb2f-afb6-4059-da96-c5adb371602c"
      },
      "execution_count": 9,
      "outputs": [
        {
          "output_type": "display_data",
          "data": {
            "text/html": [
              "59.6381146942945"
            ],
            "text/markdown": "59.6381146942945",
            "text/latex": "59.6381146942945",
            "text/plain": [
              "[1] 59.63811"
            ]
          },
          "metadata": {}
        },
        {
          "output_type": "display_data",
          "data": {
            "text/html": [
              "60.3239457172041"
            ],
            "text/markdown": "60.3239457172041",
            "text/latex": "60.3239457172041",
            "text/plain": [
              "[1] 60.32395"
            ]
          },
          "metadata": {}
        },
        {
          "output_type": "display_data",
          "data": {
            "text/html": [
              "1.45921494236101"
            ],
            "text/markdown": "1.45921494236101",
            "text/latex": "1.45921494236101",
            "text/plain": [
              "[1] 1.459215"
            ]
          },
          "metadata": {}
        },
        {
          "output_type": "display_data",
          "data": {
            "text/html": [
              "1.18806875631951"
            ],
            "text/markdown": "1.18806875631951",
            "text/latex": "1.18806875631951",
            "text/plain": [
              "[1] 1.188069"
            ]
          },
          "metadata": {}
        },
        {
          "output_type": "display_data",
          "data": {
            "text/html": [
              "13.2350795272144"
            ],
            "text/markdown": "13.2350795272144",
            "text/latex": "13.2350795272144",
            "text/plain": [
              "[1] 13.23508"
            ]
          },
          "metadata": {}
        },
        {
          "output_type": "display_data",
          "data": {
            "text/html": [
              "11.9565217391304"
            ],
            "text/markdown": "11.9565217391304",
            "text/latex": "11.9565217391304",
            "text/plain": [
              "[1] 11.95652"
            ]
          },
          "metadata": {}
        },
        {
          "output_type": "display_data",
          "data": {
            "text/html": [
              "0.802568218298555"
            ],
            "text/markdown": "0.802568218298555",
            "text/latex": "0.802568218298555",
            "text/plain": [
              "[1] 0.8025682"
            ]
          },
          "metadata": {}
        },
        {
          "output_type": "display_data",
          "data": {
            "text/html": [
              "0.568756319514661"
            ],
            "text/markdown": "0.568756319514661",
            "text/latex": "0.568756319514661",
            "text/plain": [
              "[1] 0.5687563"
            ]
          },
          "metadata": {}
        },
        {
          "output_type": "display_data",
          "data": {
            "text/html": [
              "48.1167846309403"
            ],
            "text/markdown": "48.1167846309403",
            "text/latex": "48.1167846309403",
            "text/plain": [
              "[1] 48.11678"
            ]
          },
          "metadata": {}
        },
        {
          "output_type": "display_data",
          "data": {
            "text/html": [
              "63.0561172901921"
            ],
            "text/markdown": "63.0561172901921",
            "text/latex": "63.0561172901921",
            "text/plain": [
              "[1] 63.05612"
            ]
          },
          "metadata": {}
        }
      ]
    },
    {
      "cell_type": "markdown",
      "source": [
        "# 4) Calculate risk ratios"
      ],
      "metadata": {
        "id": "x_XYwabTY994"
      }
    },
    {
      "cell_type": "code",
      "source": [
        "#risk ratios\n",
        "Mechrestcoerciontable<-matrix(c((Coercioncases2019-Mechrest2019), (Coercioncases2020-Mechrest2020), Mechrest2019, Mechrest2020), nrow=2, ncol=2)\n",
        "riskratio.wald(Mechrestcoerciontable)\n",
        "\n",
        "Physrestcoerciontable<-matrix(c((Coercioncases2019-Physrest2019), (Coercioncases2020-Physrest2020), Physrest2019, Physrest2020), nrow=2, ncol=2)\n",
        "riskratio.wald(Physrestcoerciontable)\n",
        "\n",
        "Forcedmedcoerciontable<-matrix(c((Coercioncases2019-Forcedmed2019), (Coercioncases2020-Forcedmed2020), Forcedmed2019, Forcedmed2020), nrow=2, ncol=2)\n",
        "riskratio.wald(Forcedmedcoerciontable)\n",
        "\n",
        "Unspeccoerciontable<-matrix(c((Coercioncases2019-Unspecified2019), (Coercioncases2020-Unspecified2020), Unspecified2019, Unspecified2020), nrow=2, ncol=2)\n",
        "riskratio.wald(Unspeccoerciontable)\n",
        "\n",
        "Seclusioncoerciontable<-matrix(c((Coercioncases2019-Seclusion2019), (Coercioncases2020-Seclusion2020), Seclusion2019, Seclusion2020), nrow=2, ncol=2)\n",
        "riskratio.wald(Seclusioncoerciontable)"
      ],
      "metadata": {
        "colab": {
          "base_uri": "https://localhost:8080/",
          "height": 1000
        },
        "id": "cQeh7XarY9St",
        "outputId": "1651d574-90a6-41d6-9b4c-c9348aa0e31a"
      },
      "execution_count": 10,
      "outputs": [
        {
          "output_type": "display_data",
          "data": {
            "text/html": [
              "<dl>\n",
              "\t<dt>$data</dt>\n",
              "\t\t<dd><table class=\"dataframe\">\n",
              "<caption>A matrix: 3 × 3 of type dbl</caption>\n",
              "<thead>\n",
              "\t<tr><th></th><th scope=col>Disease1</th><th scope=col>Disease2</th><th scope=col>Total</th></tr>\n",
              "</thead>\n",
              "<tbody>\n",
              "\t<tr><th scope=row>Exposed1</th><td>2766</td><td>4087</td><td> 6853</td></tr>\n",
              "\t<tr><th scope=row>Exposed2</th><td>3778</td><td>4134</td><td> 7912</td></tr>\n",
              "\t<tr><th scope=row>Total</th><td>6544</td><td>8221</td><td>14765</td></tr>\n",
              "</tbody>\n",
              "</table>\n",
              "</dd>\n",
              "\t<dt>$measure</dt>\n",
              "\t\t<dd><table class=\"dataframe\">\n",
              "<caption>A matrix: 2 × 3 of type dbl</caption>\n",
              "<thead>\n",
              "\t<tr><th></th><th scope=col>estimate</th><th scope=col>lower</th><th scope=col>upper</th></tr>\n",
              "</thead>\n",
              "<tbody>\n",
              "\t<tr><th scope=row>Exposed1</th><td>1.0000000</td><td>       NA</td><td>       NA</td></tr>\n",
              "\t<tr><th scope=row>Exposed2</th><td>0.8761133</td><td>0.8513353</td><td>0.9016125</td></tr>\n",
              "</tbody>\n",
              "</table>\n",
              "</dd>\n",
              "\t<dt>$p.value</dt>\n",
              "\t\t<dd><table class=\"dataframe\">\n",
              "<caption>A matrix: 2 × 3 of type dbl</caption>\n",
              "<thead>\n",
              "\t<tr><th></th><th scope=col>midp.exact</th><th scope=col>fisher.exact</th><th scope=col>chi.square</th></tr>\n",
              "</thead>\n",
              "<tbody>\n",
              "\t<tr><th scope=row>Exposed1</th><td>NA</td><td>          NA</td><td>          NA</td></tr>\n",
              "\t<tr><th scope=row>Exposed2</th><td> 0</td><td>2.125117e-19</td><td>2.006708e-19</td></tr>\n",
              "</tbody>\n",
              "</table>\n",
              "</dd>\n",
              "\t<dt>$correction</dt>\n",
              "\t\t<dd>FALSE</dd>\n",
              "</dl>\n"
            ],
            "text/markdown": "$data\n:   \nA matrix: 3 × 3 of type dbl\n\n| <!--/--> | Disease1 | Disease2 | Total |\n|---|---|---|---|\n| Exposed1 | 2766 | 4087 |  6853 |\n| Exposed2 | 3778 | 4134 |  7912 |\n| Total | 6544 | 8221 | 14765 |\n\n\n$measure\n:   \nA matrix: 2 × 3 of type dbl\n\n| <!--/--> | estimate | lower | upper |\n|---|---|---|---|\n| Exposed1 | 1.0000000 |        NA |        NA |\n| Exposed2 | 0.8761133 | 0.8513353 | 0.9016125 |\n\n\n$p.value\n:   \nA matrix: 2 × 3 of type dbl\n\n| <!--/--> | midp.exact | fisher.exact | chi.square |\n|---|---|---|---|\n| Exposed1 | NA |           NA |           NA |\n| Exposed2 |  0 | 2.125117e-19 | 2.006708e-19 |\n\n\n$correction\n:   FALSE\n\n\n",
            "text/latex": "\\begin{description}\n\\item[\\$data] A matrix: 3 × 3 of type dbl\n\\begin{tabular}{r|lll}\n  & Disease1 & Disease2 & Total\\\\\n\\hline\n\tExposed1 & 2766 & 4087 &  6853\\\\\n\tExposed2 & 3778 & 4134 &  7912\\\\\n\tTotal & 6544 & 8221 & 14765\\\\\n\\end{tabular}\n\n\\item[\\$measure] A matrix: 2 × 3 of type dbl\n\\begin{tabular}{r|lll}\n  & estimate & lower & upper\\\\\n\\hline\n\tExposed1 & 1.0000000 &        NA &        NA\\\\\n\tExposed2 & 0.8761133 & 0.8513353 & 0.9016125\\\\\n\\end{tabular}\n\n\\item[\\$p.value] A matrix: 2 × 3 of type dbl\n\\begin{tabular}{r|lll}\n  & midp.exact & fisher.exact & chi.square\\\\\n\\hline\n\tExposed1 & NA &           NA &           NA\\\\\n\tExposed2 &  0 & 2.125117e-19 & 2.006708e-19\\\\\n\\end{tabular}\n\n\\item[\\$correction] FALSE\n\\end{description}\n",
            "text/plain": [
              "$data\n",
              "          Outcome\n",
              "Predictor  Disease1 Disease2 Total\n",
              "  Exposed1     2766     4087  6853\n",
              "  Exposed2     3778     4134  7912\n",
              "  Total        6544     8221 14765\n",
              "\n",
              "$measure\n",
              "          risk ratio with 95% C.I.\n",
              "Predictor   estimate     lower     upper\n",
              "  Exposed1 1.0000000        NA        NA\n",
              "  Exposed2 0.8761133 0.8513353 0.9016125\n",
              "\n",
              "$p.value\n",
              "          two-sided\n",
              "Predictor  midp.exact fisher.exact   chi.square\n",
              "  Exposed1         NA           NA           NA\n",
              "  Exposed2          0 2.125117e-19 2.006708e-19\n",
              "\n",
              "$correction\n",
              "[1] FALSE\n",
              "\n",
              "attr(,\"method\")\n",
              "[1] \"Unconditional MLE & normal approximation (Wald) CI\""
            ]
          },
          "metadata": {}
        },
        {
          "output_type": "display_data",
          "data": {
            "text/html": [
              "<dl>\n",
              "\t<dt>$data</dt>\n",
              "\t\t<dd><table class=\"dataframe\">\n",
              "<caption>A matrix: 3 × 3 of type dbl</caption>\n",
              "<thead>\n",
              "\t<tr><th></th><th scope=col>Disease1</th><th scope=col>Disease2</th><th scope=col>Total</th></tr>\n",
              "</thead>\n",
              "<tbody>\n",
              "\t<tr><th scope=row>Exposed1</th><td> 6753</td><td>100</td><td> 6853</td></tr>\n",
              "\t<tr><th scope=row>Exposed2</th><td> 7818</td><td> 94</td><td> 7912</td></tr>\n",
              "\t<tr><th scope=row>Total</th><td>14571</td><td>194</td><td>14765</td></tr>\n",
              "</tbody>\n",
              "</table>\n",
              "</dd>\n",
              "\t<dt>$measure</dt>\n",
              "\t\t<dd><table class=\"dataframe\">\n",
              "<caption>A matrix: 2 × 3 of type dbl</caption>\n",
              "<thead>\n",
              "\t<tr><th></th><th scope=col>estimate</th><th scope=col>lower</th><th scope=col>upper</th></tr>\n",
              "</thead>\n",
              "<tbody>\n",
              "\t<tr><th scope=row>Exposed1</th><td>1.0000000</td><td>      NA</td><td>      NA</td></tr>\n",
              "\t<tr><th scope=row>Exposed2</th><td>0.8141835</td><td>0.615528</td><td>1.076953</td></tr>\n",
              "</tbody>\n",
              "</table>\n",
              "</dd>\n",
              "\t<dt>$p.value</dt>\n",
              "\t\t<dd><table class=\"dataframe\">\n",
              "<caption>A matrix: 2 × 3 of type dbl</caption>\n",
              "<thead>\n",
              "\t<tr><th></th><th scope=col>midp.exact</th><th scope=col>fisher.exact</th><th scope=col>chi.square</th></tr>\n",
              "</thead>\n",
              "<tbody>\n",
              "\t<tr><th scope=row>Exposed1</th><td>       NA</td><td>     NA</td><td>       NA</td></tr>\n",
              "\t<tr><th scope=row>Exposed2</th><td>0.1504187</td><td>0.16844</td><td>0.1490281</td></tr>\n",
              "</tbody>\n",
              "</table>\n",
              "</dd>\n",
              "\t<dt>$correction</dt>\n",
              "\t\t<dd>FALSE</dd>\n",
              "</dl>\n"
            ],
            "text/markdown": "$data\n:   \nA matrix: 3 × 3 of type dbl\n\n| <!--/--> | Disease1 | Disease2 | Total |\n|---|---|---|---|\n| Exposed1 |  6753 | 100 |  6853 |\n| Exposed2 |  7818 |  94 |  7912 |\n| Total | 14571 | 194 | 14765 |\n\n\n$measure\n:   \nA matrix: 2 × 3 of type dbl\n\n| <!--/--> | estimate | lower | upper |\n|---|---|---|---|\n| Exposed1 | 1.0000000 |       NA |       NA |\n| Exposed2 | 0.8141835 | 0.615528 | 1.076953 |\n\n\n$p.value\n:   \nA matrix: 2 × 3 of type dbl\n\n| <!--/--> | midp.exact | fisher.exact | chi.square |\n|---|---|---|---|\n| Exposed1 |        NA |      NA |        NA |\n| Exposed2 | 0.1504187 | 0.16844 | 0.1490281 |\n\n\n$correction\n:   FALSE\n\n\n",
            "text/latex": "\\begin{description}\n\\item[\\$data] A matrix: 3 × 3 of type dbl\n\\begin{tabular}{r|lll}\n  & Disease1 & Disease2 & Total\\\\\n\\hline\n\tExposed1 &  6753 & 100 &  6853\\\\\n\tExposed2 &  7818 &  94 &  7912\\\\\n\tTotal & 14571 & 194 & 14765\\\\\n\\end{tabular}\n\n\\item[\\$measure] A matrix: 2 × 3 of type dbl\n\\begin{tabular}{r|lll}\n  & estimate & lower & upper\\\\\n\\hline\n\tExposed1 & 1.0000000 &       NA &       NA\\\\\n\tExposed2 & 0.8141835 & 0.615528 & 1.076953\\\\\n\\end{tabular}\n\n\\item[\\$p.value] A matrix: 2 × 3 of type dbl\n\\begin{tabular}{r|lll}\n  & midp.exact & fisher.exact & chi.square\\\\\n\\hline\n\tExposed1 &        NA &      NA &        NA\\\\\n\tExposed2 & 0.1504187 & 0.16844 & 0.1490281\\\\\n\\end{tabular}\n\n\\item[\\$correction] FALSE\n\\end{description}\n",
            "text/plain": [
              "$data\n",
              "          Outcome\n",
              "Predictor  Disease1 Disease2 Total\n",
              "  Exposed1     6753      100  6853\n",
              "  Exposed2     7818       94  7912\n",
              "  Total       14571      194 14765\n",
              "\n",
              "$measure\n",
              "          risk ratio with 95% C.I.\n",
              "Predictor   estimate    lower    upper\n",
              "  Exposed1 1.0000000       NA       NA\n",
              "  Exposed2 0.8141835 0.615528 1.076953\n",
              "\n",
              "$p.value\n",
              "          two-sided\n",
              "Predictor  midp.exact fisher.exact chi.square\n",
              "  Exposed1         NA           NA         NA\n",
              "  Exposed2  0.1504187      0.16844  0.1490281\n",
              "\n",
              "$correction\n",
              "[1] FALSE\n",
              "\n",
              "attr(,\"method\")\n",
              "[1] \"Unconditional MLE & normal approximation (Wald) CI\""
            ]
          },
          "metadata": {}
        },
        {
          "output_type": "display_data",
          "data": {
            "text/html": [
              "<dl>\n",
              "\t<dt>$data</dt>\n",
              "\t\t<dd><table class=\"dataframe\">\n",
              "<caption>A matrix: 3 × 3 of type dbl</caption>\n",
              "<thead>\n",
              "\t<tr><th></th><th scope=col>Disease1</th><th scope=col>Disease2</th><th scope=col>Total</th></tr>\n",
              "</thead>\n",
              "<tbody>\n",
              "\t<tr><th scope=row>Exposed1</th><td> 5946</td><td> 907</td><td> 6853</td></tr>\n",
              "\t<tr><th scope=row>Exposed2</th><td> 6966</td><td> 946</td><td> 7912</td></tr>\n",
              "\t<tr><th scope=row>Total</th><td>12912</td><td>1853</td><td>14765</td></tr>\n",
              "</tbody>\n",
              "</table>\n",
              "</dd>\n",
              "\t<dt>$measure</dt>\n",
              "\t\t<dd><table class=\"dataframe\">\n",
              "<caption>A matrix: 2 × 3 of type dbl</caption>\n",
              "<thead>\n",
              "\t<tr><th></th><th scope=col>estimate</th><th scope=col>lower</th><th scope=col>upper</th></tr>\n",
              "</thead>\n",
              "<tbody>\n",
              "\t<tr><th scope=row>Exposed1</th><td>1.0000000</td><td>       NA</td><td>       NA</td></tr>\n",
              "\t<tr><th scope=row>Exposed2</th><td>0.9033963</td><td>0.8296586</td><td>0.9836875</td></tr>\n",
              "</tbody>\n",
              "</table>\n",
              "</dd>\n",
              "\t<dt>$p.value</dt>\n",
              "\t\t<dd><table class=\"dataframe\">\n",
              "<caption>A matrix: 2 × 3 of type dbl</caption>\n",
              "<thead>\n",
              "\t<tr><th></th><th scope=col>midp.exact</th><th scope=col>fisher.exact</th><th scope=col>chi.square</th></tr>\n",
              "</thead>\n",
              "<tbody>\n",
              "\t<tr><th scope=row>Exposed1</th><td>        NA</td><td>        NA</td><td>        NA</td></tr>\n",
              "\t<tr><th scope=row>Exposed2</th><td>0.01946979</td><td>0.02052621</td><td>0.01934773</td></tr>\n",
              "</tbody>\n",
              "</table>\n",
              "</dd>\n",
              "\t<dt>$correction</dt>\n",
              "\t\t<dd>FALSE</dd>\n",
              "</dl>\n"
            ],
            "text/markdown": "$data\n:   \nA matrix: 3 × 3 of type dbl\n\n| <!--/--> | Disease1 | Disease2 | Total |\n|---|---|---|---|\n| Exposed1 |  5946 |  907 |  6853 |\n| Exposed2 |  6966 |  946 |  7912 |\n| Total | 12912 | 1853 | 14765 |\n\n\n$measure\n:   \nA matrix: 2 × 3 of type dbl\n\n| <!--/--> | estimate | lower | upper |\n|---|---|---|---|\n| Exposed1 | 1.0000000 |        NA |        NA |\n| Exposed2 | 0.9033963 | 0.8296586 | 0.9836875 |\n\n\n$p.value\n:   \nA matrix: 2 × 3 of type dbl\n\n| <!--/--> | midp.exact | fisher.exact | chi.square |\n|---|---|---|---|\n| Exposed1 |         NA |         NA |         NA |\n| Exposed2 | 0.01946979 | 0.02052621 | 0.01934773 |\n\n\n$correction\n:   FALSE\n\n\n",
            "text/latex": "\\begin{description}\n\\item[\\$data] A matrix: 3 × 3 of type dbl\n\\begin{tabular}{r|lll}\n  & Disease1 & Disease2 & Total\\\\\n\\hline\n\tExposed1 &  5946 &  907 &  6853\\\\\n\tExposed2 &  6966 &  946 &  7912\\\\\n\tTotal & 12912 & 1853 & 14765\\\\\n\\end{tabular}\n\n\\item[\\$measure] A matrix: 2 × 3 of type dbl\n\\begin{tabular}{r|lll}\n  & estimate & lower & upper\\\\\n\\hline\n\tExposed1 & 1.0000000 &        NA &        NA\\\\\n\tExposed2 & 0.9033963 & 0.8296586 & 0.9836875\\\\\n\\end{tabular}\n\n\\item[\\$p.value] A matrix: 2 × 3 of type dbl\n\\begin{tabular}{r|lll}\n  & midp.exact & fisher.exact & chi.square\\\\\n\\hline\n\tExposed1 &         NA &         NA &         NA\\\\\n\tExposed2 & 0.01946979 & 0.02052621 & 0.01934773\\\\\n\\end{tabular}\n\n\\item[\\$correction] FALSE\n\\end{description}\n",
            "text/plain": [
              "$data\n",
              "          Outcome\n",
              "Predictor  Disease1 Disease2 Total\n",
              "  Exposed1     5946      907  6853\n",
              "  Exposed2     6966      946  7912\n",
              "  Total       12912     1853 14765\n",
              "\n",
              "$measure\n",
              "          risk ratio with 95% C.I.\n",
              "Predictor   estimate     lower     upper\n",
              "  Exposed1 1.0000000        NA        NA\n",
              "  Exposed2 0.9033963 0.8296586 0.9836875\n",
              "\n",
              "$p.value\n",
              "          two-sided\n",
              "Predictor  midp.exact fisher.exact chi.square\n",
              "  Exposed1         NA           NA         NA\n",
              "  Exposed2 0.01946979   0.02052621 0.01934773\n",
              "\n",
              "$correction\n",
              "[1] FALSE\n",
              "\n",
              "attr(,\"method\")\n",
              "[1] \"Unconditional MLE & normal approximation (Wald) CI\""
            ]
          },
          "metadata": {}
        },
        {
          "output_type": "display_data",
          "data": {
            "text/html": [
              "<dl>\n",
              "\t<dt>$data</dt>\n",
              "\t\t<dd><table class=\"dataframe\">\n",
              "<caption>A matrix: 3 × 3 of type dbl</caption>\n",
              "<thead>\n",
              "\t<tr><th></th><th scope=col>Disease1</th><th scope=col>Disease2</th><th scope=col>Total</th></tr>\n",
              "</thead>\n",
              "<tbody>\n",
              "\t<tr><th scope=row>Exposed1</th><td> 6798</td><td> 55</td><td> 6853</td></tr>\n",
              "\t<tr><th scope=row>Exposed2</th><td> 7867</td><td> 45</td><td> 7912</td></tr>\n",
              "\t<tr><th scope=row>Total</th><td>14665</td><td>100</td><td>14765</td></tr>\n",
              "</tbody>\n",
              "</table>\n",
              "</dd>\n",
              "\t<dt>$measure</dt>\n",
              "\t\t<dd><table class=\"dataframe\">\n",
              "<caption>A matrix: 2 × 3 of type dbl</caption>\n",
              "<thead>\n",
              "\t<tr><th></th><th scope=col>estimate</th><th scope=col>lower</th><th scope=col>upper</th></tr>\n",
              "</thead>\n",
              "<tbody>\n",
              "\t<tr><th scope=row>Exposed1</th><td>1.0000000</td><td>       NA</td><td>      NA</td></tr>\n",
              "\t<tr><th scope=row>Exposed2</th><td>0.7086704</td><td>0.4785462</td><td>1.049457</td></tr>\n",
              "</tbody>\n",
              "</table>\n",
              "</dd>\n",
              "\t<dt>$p.value</dt>\n",
              "\t\t<dd><table class=\"dataframe\">\n",
              "<caption>A matrix: 2 × 3 of type dbl</caption>\n",
              "<thead>\n",
              "\t<tr><th></th><th scope=col>midp.exact</th><th scope=col>fisher.exact</th><th scope=col>chi.square</th></tr>\n",
              "</thead>\n",
              "<tbody>\n",
              "\t<tr><th scope=row>Exposed1</th><td>        NA</td><td>        NA</td><td>        NA</td></tr>\n",
              "\t<tr><th scope=row>Exposed2</th><td>0.08597538</td><td>0.08781649</td><td>0.08407237</td></tr>\n",
              "</tbody>\n",
              "</table>\n",
              "</dd>\n",
              "\t<dt>$correction</dt>\n",
              "\t\t<dd>FALSE</dd>\n",
              "</dl>\n"
            ],
            "text/markdown": "$data\n:   \nA matrix: 3 × 3 of type dbl\n\n| <!--/--> | Disease1 | Disease2 | Total |\n|---|---|---|---|\n| Exposed1 |  6798 |  55 |  6853 |\n| Exposed2 |  7867 |  45 |  7912 |\n| Total | 14665 | 100 | 14765 |\n\n\n$measure\n:   \nA matrix: 2 × 3 of type dbl\n\n| <!--/--> | estimate | lower | upper |\n|---|---|---|---|\n| Exposed1 | 1.0000000 |        NA |       NA |\n| Exposed2 | 0.7086704 | 0.4785462 | 1.049457 |\n\n\n$p.value\n:   \nA matrix: 2 × 3 of type dbl\n\n| <!--/--> | midp.exact | fisher.exact | chi.square |\n|---|---|---|---|\n| Exposed1 |         NA |         NA |         NA |\n| Exposed2 | 0.08597538 | 0.08781649 | 0.08407237 |\n\n\n$correction\n:   FALSE\n\n\n",
            "text/latex": "\\begin{description}\n\\item[\\$data] A matrix: 3 × 3 of type dbl\n\\begin{tabular}{r|lll}\n  & Disease1 & Disease2 & Total\\\\\n\\hline\n\tExposed1 &  6798 &  55 &  6853\\\\\n\tExposed2 &  7867 &  45 &  7912\\\\\n\tTotal & 14665 & 100 & 14765\\\\\n\\end{tabular}\n\n\\item[\\$measure] A matrix: 2 × 3 of type dbl\n\\begin{tabular}{r|lll}\n  & estimate & lower & upper\\\\\n\\hline\n\tExposed1 & 1.0000000 &        NA &       NA\\\\\n\tExposed2 & 0.7086704 & 0.4785462 & 1.049457\\\\\n\\end{tabular}\n\n\\item[\\$p.value] A matrix: 2 × 3 of type dbl\n\\begin{tabular}{r|lll}\n  & midp.exact & fisher.exact & chi.square\\\\\n\\hline\n\tExposed1 &         NA &         NA &         NA\\\\\n\tExposed2 & 0.08597538 & 0.08781649 & 0.08407237\\\\\n\\end{tabular}\n\n\\item[\\$correction] FALSE\n\\end{description}\n",
            "text/plain": [
              "$data\n",
              "          Outcome\n",
              "Predictor  Disease1 Disease2 Total\n",
              "  Exposed1     6798       55  6853\n",
              "  Exposed2     7867       45  7912\n",
              "  Total       14665      100 14765\n",
              "\n",
              "$measure\n",
              "          risk ratio with 95% C.I.\n",
              "Predictor   estimate     lower    upper\n",
              "  Exposed1 1.0000000        NA       NA\n",
              "  Exposed2 0.7086704 0.4785462 1.049457\n",
              "\n",
              "$p.value\n",
              "          two-sided\n",
              "Predictor  midp.exact fisher.exact chi.square\n",
              "  Exposed1         NA           NA         NA\n",
              "  Exposed2 0.08597538   0.08781649 0.08407237\n",
              "\n",
              "$correction\n",
              "[1] FALSE\n",
              "\n",
              "attr(,\"method\")\n",
              "[1] \"Unconditional MLE & normal approximation (Wald) CI\""
            ]
          },
          "metadata": {}
        },
        {
          "output_type": "display_data",
          "data": {
            "text/html": [
              "<dl>\n",
              "\t<dt>$data</dt>\n",
              "\t\t<dd><table class=\"dataframe\">\n",
              "<caption>A matrix: 3 × 3 of type dbl</caption>\n",
              "<thead>\n",
              "\t<tr><th></th><th scope=col>Disease1</th><th scope=col>Disease2</th><th scope=col>Total</th></tr>\n",
              "</thead>\n",
              "<tbody>\n",
              "\t<tr><th scope=row>Exposed1</th><td>3046</td><td>3807</td><td> 6853</td></tr>\n",
              "\t<tr><th scope=row>Exposed2</th><td>2923</td><td>4989</td><td> 7912</td></tr>\n",
              "\t<tr><th scope=row>Total</th><td>5969</td><td>8796</td><td>14765</td></tr>\n",
              "</tbody>\n",
              "</table>\n",
              "</dd>\n",
              "\t<dt>$measure</dt>\n",
              "\t\t<dd><table class=\"dataframe\">\n",
              "<caption>A matrix: 2 × 3 of type dbl</caption>\n",
              "<thead>\n",
              "\t<tr><th></th><th scope=col>estimate</th><th scope=col>lower</th><th scope=col>upper</th></tr>\n",
              "</thead>\n",
              "<tbody>\n",
              "\t<tr><th scope=row>Exposed1</th><td>1.000000</td><td>      NA</td><td>      NA</td></tr>\n",
              "\t<tr><th scope=row>Exposed2</th><td>1.135076</td><td>1.104758</td><td>1.166226</td></tr>\n",
              "</tbody>\n",
              "</table>\n",
              "</dd>\n",
              "\t<dt>$p.value</dt>\n",
              "\t\t<dd><table class=\"dataframe\">\n",
              "<caption>A matrix: 2 × 3 of type dbl</caption>\n",
              "<thead>\n",
              "\t<tr><th></th><th scope=col>midp.exact</th><th scope=col>fisher.exact</th><th scope=col>chi.square</th></tr>\n",
              "</thead>\n",
              "<tbody>\n",
              "\t<tr><th scope=row>Exposed1</th><td>NA</td><td>          NA</td><td>          NA</td></tr>\n",
              "\t<tr><th scope=row>Exposed2</th><td> 0</td><td>2.198992e-20</td><td>1.934108e-20</td></tr>\n",
              "</tbody>\n",
              "</table>\n",
              "</dd>\n",
              "\t<dt>$correction</dt>\n",
              "\t\t<dd>FALSE</dd>\n",
              "</dl>\n"
            ],
            "text/markdown": "$data\n:   \nA matrix: 3 × 3 of type dbl\n\n| <!--/--> | Disease1 | Disease2 | Total |\n|---|---|---|---|\n| Exposed1 | 3046 | 3807 |  6853 |\n| Exposed2 | 2923 | 4989 |  7912 |\n| Total | 5969 | 8796 | 14765 |\n\n\n$measure\n:   \nA matrix: 2 × 3 of type dbl\n\n| <!--/--> | estimate | lower | upper |\n|---|---|---|---|\n| Exposed1 | 1.000000 |       NA |       NA |\n| Exposed2 | 1.135076 | 1.104758 | 1.166226 |\n\n\n$p.value\n:   \nA matrix: 2 × 3 of type dbl\n\n| <!--/--> | midp.exact | fisher.exact | chi.square |\n|---|---|---|---|\n| Exposed1 | NA |           NA |           NA |\n| Exposed2 |  0 | 2.198992e-20 | 1.934108e-20 |\n\n\n$correction\n:   FALSE\n\n\n",
            "text/latex": "\\begin{description}\n\\item[\\$data] A matrix: 3 × 3 of type dbl\n\\begin{tabular}{r|lll}\n  & Disease1 & Disease2 & Total\\\\\n\\hline\n\tExposed1 & 3046 & 3807 &  6853\\\\\n\tExposed2 & 2923 & 4989 &  7912\\\\\n\tTotal & 5969 & 8796 & 14765\\\\\n\\end{tabular}\n\n\\item[\\$measure] A matrix: 2 × 3 of type dbl\n\\begin{tabular}{r|lll}\n  & estimate & lower & upper\\\\\n\\hline\n\tExposed1 & 1.000000 &       NA &       NA\\\\\n\tExposed2 & 1.135076 & 1.104758 & 1.166226\\\\\n\\end{tabular}\n\n\\item[\\$p.value] A matrix: 2 × 3 of type dbl\n\\begin{tabular}{r|lll}\n  & midp.exact & fisher.exact & chi.square\\\\\n\\hline\n\tExposed1 & NA &           NA &           NA\\\\\n\tExposed2 &  0 & 2.198992e-20 & 1.934108e-20\\\\\n\\end{tabular}\n\n\\item[\\$correction] FALSE\n\\end{description}\n",
            "text/plain": [
              "$data\n",
              "          Outcome\n",
              "Predictor  Disease1 Disease2 Total\n",
              "  Exposed1     3046     3807  6853\n",
              "  Exposed2     2923     4989  7912\n",
              "  Total        5969     8796 14765\n",
              "\n",
              "$measure\n",
              "          risk ratio with 95% C.I.\n",
              "Predictor  estimate    lower    upper\n",
              "  Exposed1 1.000000       NA       NA\n",
              "  Exposed2 1.135076 1.104758 1.166226\n",
              "\n",
              "$p.value\n",
              "          two-sided\n",
              "Predictor  midp.exact fisher.exact   chi.square\n",
              "  Exposed1         NA           NA           NA\n",
              "  Exposed2          0 2.198992e-20 1.934108e-20\n",
              "\n",
              "$correction\n",
              "[1] FALSE\n",
              "\n",
              "attr(,\"method\")\n",
              "[1] \"Unconditional MLE & normal approximation (Wald) CI\""
            ]
          },
          "metadata": {}
        }
      ]
    },
    {
      "cell_type": "markdown",
      "source": [
        "# Risk Ratios for Table 1 and Extension"
      ],
      "metadata": {
        "id": "LC1YcSXbAHiI"
      }
    },
    {
      "cell_type": "code",
      "source": [
        "#order: unexposed/no outcome, exposed/no outcome, unexposed/outcome, exposed/outcome\n",
        "InvoluntaryRRtable<-matrix(c(Voluntary2019, Voluntary2020, Involuntary2019, Involuntary2020), nrow=2, ncol=2) \n",
        "\n",
        "#calculating risk ratio based on the table\n",
        "riskratio.wald(InvoluntaryRRtable) \n",
        "\n",
        "CaringdetentionRRtable<-matrix(c((Totalcases2019-Caringdetention2019), (Totalcases2020-Caringdetention2020), Caringdetention2019, Caringdetention2020), nrow=2, ncol=2)\n",
        "riskratio.wald(CaringdetentionRRtable)\n",
        "\n",
        "CivillawRRtable<-matrix(c((Totalcases2019-Civillaw2019), (Totalcases2020-Civillaw2020), Civillaw2019, Civillaw2020), nrow=2, ncol=2)\n",
        "riskratio.wald(CivillawRRtable)\n",
        "\n",
        "PubliclawRRtable<-matrix(c((Totalcases2019-Publiclaw2019), (Totalcases2020-Publiclaw2020), Publiclaw2019, Publiclaw2020), nrow=2, ncol=2)\n",
        "riskratio.wald(PubliclawRRtable)\n",
        "\n",
        "CoercionRRtable<-matrix(c((Totalcases2019-Coercioncases2019), (Totalcases2020-Coercioncases2020), Coercioncases2019, Coercioncases2020), nrow=2, ncol=2)\n",
        "riskratio.wald(CoercionRRtable)\n",
        "\n",
        "MechrestRRtable<-matrix(c((Totalcases2019-Mechrest2019), (Totalcases2020-Mechrest2020), Mechrest2019, Mechrest2020), nrow=2, ncol=2)\n",
        "riskratio.wald(MechrestRRtable)\n",
        "\n",
        "PhysrestRRtable<-matrix(c((Totalcases2019-Physrest2019), (Totalcases2020-Physrest2020), Physrest2019, Physrest2020), nrow=2, ncol=2)\n",
        "riskratio.wald(PhysrestRRtable)\n",
        "\n",
        "ForcedmedRRtable<-matrix(c((Totalcases2019-Forcedmed2019), (Totalcases2020-Forcedmed2020), Forcedmed2019, Forcedmed2020), nrow=2, ncol=2)\n",
        "riskratio.wald(ForcedmedRRtable)\n",
        "\n",
        "UnspecRRtable<-matrix(c((Totalcases2019-Unspecified2019), (Totalcases2020-Unspecified2020), Unspecified2019, Unspecified2020), nrow=2, ncol=2)\n",
        "riskratio.wald(UnspecRRtable)\n"
      ],
      "metadata": {
        "colab": {
          "base_uri": "https://localhost:8080/",
          "height": 1000
        },
        "id": "xTHMRT91AGQw",
        "outputId": "2c725e2d-84a4-4b9f-89f7-fc15d1c9a909"
      },
      "execution_count": 11,
      "outputs": [
        {
          "output_type": "display_data",
          "data": {
            "text/html": [
              "<dl>\n",
              "\t<dt>$data</dt>\n",
              "\t\t<dd><table class=\"dataframe\">\n",
              "<caption>A matrix: 3 × 3 of type dbl</caption>\n",
              "<thead>\n",
              "\t<tr><th></th><th scope=col>Disease1</th><th scope=col>Disease2</th><th scope=col>Total</th></tr>\n",
              "</thead>\n",
              "<tbody>\n",
              "\t<tr><th scope=row>Exposed1</th><td> 92750</td><td>13032</td><td>105782</td></tr>\n",
              "\t<tr><th scope=row>Exposed2</th><td> 83937</td><td>13824</td><td> 97761</td></tr>\n",
              "\t<tr><th scope=row>Total</th><td>176687</td><td>26856</td><td>203543</td></tr>\n",
              "</tbody>\n",
              "</table>\n",
              "</dd>\n",
              "\t<dt>$measure</dt>\n",
              "\t\t<dd><table class=\"dataframe\">\n",
              "<caption>A matrix: 2 × 3 of type dbl</caption>\n",
              "<thead>\n",
              "\t<tr><th></th><th scope=col>estimate</th><th scope=col>lower</th><th scope=col>upper</th></tr>\n",
              "</thead>\n",
              "<tbody>\n",
              "\t<tr><th scope=row>Exposed1</th><td>1.000000</td><td>    NA</td><td>      NA</td></tr>\n",
              "\t<tr><th scope=row>Exposed2</th><td>1.147807</td><td>1.1225</td><td>1.173684</td></tr>\n",
              "</tbody>\n",
              "</table>\n",
              "</dd>\n",
              "\t<dt>$p.value</dt>\n",
              "\t\t<dd><table class=\"dataframe\">\n",
              "<caption>A matrix: 2 × 3 of type dbl</caption>\n",
              "<thead>\n",
              "\t<tr><th></th><th scope=col>midp.exact</th><th scope=col>fisher.exact</th><th scope=col>chi.square</th></tr>\n",
              "</thead>\n",
              "<tbody>\n",
              "\t<tr><th scope=row>Exposed1</th><td>NA</td><td>          NA</td><td>          NA</td></tr>\n",
              "\t<tr><th scope=row>Exposed2</th><td> 0</td><td>8.589067e-34</td><td>7.510265e-34</td></tr>\n",
              "</tbody>\n",
              "</table>\n",
              "</dd>\n",
              "\t<dt>$correction</dt>\n",
              "\t\t<dd>FALSE</dd>\n",
              "</dl>\n"
            ],
            "text/markdown": "$data\n:   \nA matrix: 3 × 3 of type dbl\n\n| <!--/--> | Disease1 | Disease2 | Total |\n|---|---|---|---|\n| Exposed1 |  92750 | 13032 | 105782 |\n| Exposed2 |  83937 | 13824 |  97761 |\n| Total | 176687 | 26856 | 203543 |\n\n\n$measure\n:   \nA matrix: 2 × 3 of type dbl\n\n| <!--/--> | estimate | lower | upper |\n|---|---|---|---|\n| Exposed1 | 1.000000 |     NA |       NA |\n| Exposed2 | 1.147807 | 1.1225 | 1.173684 |\n\n\n$p.value\n:   \nA matrix: 2 × 3 of type dbl\n\n| <!--/--> | midp.exact | fisher.exact | chi.square |\n|---|---|---|---|\n| Exposed1 | NA |           NA |           NA |\n| Exposed2 |  0 | 8.589067e-34 | 7.510265e-34 |\n\n\n$correction\n:   FALSE\n\n\n",
            "text/latex": "\\begin{description}\n\\item[\\$data] A matrix: 3 × 3 of type dbl\n\\begin{tabular}{r|lll}\n  & Disease1 & Disease2 & Total\\\\\n\\hline\n\tExposed1 &  92750 & 13032 & 105782\\\\\n\tExposed2 &  83937 & 13824 &  97761\\\\\n\tTotal & 176687 & 26856 & 203543\\\\\n\\end{tabular}\n\n\\item[\\$measure] A matrix: 2 × 3 of type dbl\n\\begin{tabular}{r|lll}\n  & estimate & lower & upper\\\\\n\\hline\n\tExposed1 & 1.000000 &     NA &       NA\\\\\n\tExposed2 & 1.147807 & 1.1225 & 1.173684\\\\\n\\end{tabular}\n\n\\item[\\$p.value] A matrix: 2 × 3 of type dbl\n\\begin{tabular}{r|lll}\n  & midp.exact & fisher.exact & chi.square\\\\\n\\hline\n\tExposed1 & NA &           NA &           NA\\\\\n\tExposed2 &  0 & 8.589067e-34 & 7.510265e-34\\\\\n\\end{tabular}\n\n\\item[\\$correction] FALSE\n\\end{description}\n",
            "text/plain": [
              "$data\n",
              "          Outcome\n",
              "Predictor  Disease1 Disease2  Total\n",
              "  Exposed1    92750    13032 105782\n",
              "  Exposed2    83937    13824  97761\n",
              "  Total      176687    26856 203543\n",
              "\n",
              "$measure\n",
              "          risk ratio with 95% C.I.\n",
              "Predictor  estimate  lower    upper\n",
              "  Exposed1 1.000000     NA       NA\n",
              "  Exposed2 1.147807 1.1225 1.173684\n",
              "\n",
              "$p.value\n",
              "          two-sided\n",
              "Predictor  midp.exact fisher.exact   chi.square\n",
              "  Exposed1         NA           NA           NA\n",
              "  Exposed2          0 8.589067e-34 7.510265e-34\n",
              "\n",
              "$correction\n",
              "[1] FALSE\n",
              "\n",
              "attr(,\"method\")\n",
              "[1] \"Unconditional MLE & normal approximation (Wald) CI\""
            ]
          },
          "metadata": {}
        },
        {
          "output_type": "display_data",
          "data": {
            "text/html": [
              "<dl>\n",
              "\t<dt>$data</dt>\n",
              "\t\t<dd><table class=\"dataframe\">\n",
              "<caption>A matrix: 3 × 3 of type dbl</caption>\n",
              "<thead>\n",
              "\t<tr><th></th><th scope=col>Disease1</th><th scope=col>Disease2</th><th scope=col>Total</th></tr>\n",
              "</thead>\n",
              "<tbody>\n",
              "\t<tr><th scope=row>Exposed1</th><td> 99644</td><td> 6138</td><td>105782</td></tr>\n",
              "\t<tr><th scope=row>Exposed2</th><td> 91404</td><td> 6357</td><td> 97761</td></tr>\n",
              "\t<tr><th scope=row>Total</th><td>191048</td><td>12495</td><td>203543</td></tr>\n",
              "</tbody>\n",
              "</table>\n",
              "</dd>\n",
              "\t<dt>$measure</dt>\n",
              "\t\t<dd><table class=\"dataframe\">\n",
              "<caption>A matrix: 2 × 3 of type dbl</caption>\n",
              "<thead>\n",
              "\t<tr><th></th><th scope=col>estimate</th><th scope=col>lower</th><th scope=col>upper</th></tr>\n",
              "</thead>\n",
              "<tbody>\n",
              "\t<tr><th scope=row>Exposed1</th><td>1.000000</td><td>      NA</td><td>      NA</td></tr>\n",
              "\t<tr><th scope=row>Exposed2</th><td>1.120654</td><td>1.083215</td><td>1.159386</td></tr>\n",
              "</tbody>\n",
              "</table>\n",
              "</dd>\n",
              "\t<dt>$p.value</dt>\n",
              "\t\t<dd><table class=\"dataframe\">\n",
              "<caption>A matrix: 2 × 3 of type dbl</caption>\n",
              "<thead>\n",
              "\t<tr><th></th><th scope=col>midp.exact</th><th scope=col>fisher.exact</th><th scope=col>chi.square</th></tr>\n",
              "</thead>\n",
              "<tbody>\n",
              "\t<tr><th scope=row>Exposed1</th><td>          NA</td><td>          NA</td><td>          NA</td></tr>\n",
              "\t<tr><th scope=row>Exposed2</th><td>5.000667e-11</td><td>5.279129e-11</td><td>4.896227e-11</td></tr>\n",
              "</tbody>\n",
              "</table>\n",
              "</dd>\n",
              "\t<dt>$correction</dt>\n",
              "\t\t<dd>FALSE</dd>\n",
              "</dl>\n"
            ],
            "text/markdown": "$data\n:   \nA matrix: 3 × 3 of type dbl\n\n| <!--/--> | Disease1 | Disease2 | Total |\n|---|---|---|---|\n| Exposed1 |  99644 |  6138 | 105782 |\n| Exposed2 |  91404 |  6357 |  97761 |\n| Total | 191048 | 12495 | 203543 |\n\n\n$measure\n:   \nA matrix: 2 × 3 of type dbl\n\n| <!--/--> | estimate | lower | upper |\n|---|---|---|---|\n| Exposed1 | 1.000000 |       NA |       NA |\n| Exposed2 | 1.120654 | 1.083215 | 1.159386 |\n\n\n$p.value\n:   \nA matrix: 2 × 3 of type dbl\n\n| <!--/--> | midp.exact | fisher.exact | chi.square |\n|---|---|---|---|\n| Exposed1 |           NA |           NA |           NA |\n| Exposed2 | 5.000667e-11 | 5.279129e-11 | 4.896227e-11 |\n\n\n$correction\n:   FALSE\n\n\n",
            "text/latex": "\\begin{description}\n\\item[\\$data] A matrix: 3 × 3 of type dbl\n\\begin{tabular}{r|lll}\n  & Disease1 & Disease2 & Total\\\\\n\\hline\n\tExposed1 &  99644 &  6138 & 105782\\\\\n\tExposed2 &  91404 &  6357 &  97761\\\\\n\tTotal & 191048 & 12495 & 203543\\\\\n\\end{tabular}\n\n\\item[\\$measure] A matrix: 2 × 3 of type dbl\n\\begin{tabular}{r|lll}\n  & estimate & lower & upper\\\\\n\\hline\n\tExposed1 & 1.000000 &       NA &       NA\\\\\n\tExposed2 & 1.120654 & 1.083215 & 1.159386\\\\\n\\end{tabular}\n\n\\item[\\$p.value] A matrix: 2 × 3 of type dbl\n\\begin{tabular}{r|lll}\n  & midp.exact & fisher.exact & chi.square\\\\\n\\hline\n\tExposed1 &           NA &           NA &           NA\\\\\n\tExposed2 & 5.000667e-11 & 5.279129e-11 & 4.896227e-11\\\\\n\\end{tabular}\n\n\\item[\\$correction] FALSE\n\\end{description}\n",
            "text/plain": [
              "$data\n",
              "          Outcome\n",
              "Predictor  Disease1 Disease2  Total\n",
              "  Exposed1    99644     6138 105782\n",
              "  Exposed2    91404     6357  97761\n",
              "  Total      191048    12495 203543\n",
              "\n",
              "$measure\n",
              "          risk ratio with 95% C.I.\n",
              "Predictor  estimate    lower    upper\n",
              "  Exposed1 1.000000       NA       NA\n",
              "  Exposed2 1.120654 1.083215 1.159386\n",
              "\n",
              "$p.value\n",
              "          two-sided\n",
              "Predictor    midp.exact fisher.exact   chi.square\n",
              "  Exposed1           NA           NA           NA\n",
              "  Exposed2 5.000667e-11 5.279129e-11 4.896227e-11\n",
              "\n",
              "$correction\n",
              "[1] FALSE\n",
              "\n",
              "attr(,\"method\")\n",
              "[1] \"Unconditional MLE & normal approximation (Wald) CI\""
            ]
          },
          "metadata": {}
        },
        {
          "output_type": "display_data",
          "data": {
            "text/html": [
              "<dl>\n",
              "\t<dt>$data</dt>\n",
              "\t\t<dd><table class=\"dataframe\">\n",
              "<caption>A matrix: 3 × 3 of type dbl</caption>\n",
              "<thead>\n",
              "\t<tr><th></th><th scope=col>Disease1</th><th scope=col>Disease2</th><th scope=col>Total</th></tr>\n",
              "</thead>\n",
              "<tbody>\n",
              "\t<tr><th scope=row>Exposed1</th><td>102461</td><td>3321</td><td>105782</td></tr>\n",
              "\t<tr><th scope=row>Exposed2</th><td> 94171</td><td>3590</td><td> 97761</td></tr>\n",
              "\t<tr><th scope=row>Total</th><td>196632</td><td>6911</td><td>203543</td></tr>\n",
              "</tbody>\n",
              "</table>\n",
              "</dd>\n",
              "\t<dt>$measure</dt>\n",
              "\t\t<dd><table class=\"dataframe\">\n",
              "<caption>A matrix: 2 × 3 of type dbl</caption>\n",
              "<thead>\n",
              "\t<tr><th></th><th scope=col>estimate</th><th scope=col>lower</th><th scope=col>upper</th></tr>\n",
              "</thead>\n",
              "<tbody>\n",
              "\t<tr><th scope=row>Exposed1</th><td>1.000000</td><td>     NA</td><td>      NA</td></tr>\n",
              "\t<tr><th scope=row>Exposed2</th><td>1.169693</td><td>1.11668</td><td>1.225221</td></tr>\n",
              "</tbody>\n",
              "</table>\n",
              "</dd>\n",
              "\t<dt>$p.value</dt>\n",
              "\t\t<dd><table class=\"dataframe\">\n",
              "<caption>A matrix: 2 × 3 of type dbl</caption>\n",
              "<thead>\n",
              "\t<tr><th></th><th scope=col>midp.exact</th><th scope=col>fisher.exact</th><th scope=col>chi.square</th></tr>\n",
              "</thead>\n",
              "<tbody>\n",
              "\t<tr><th scope=row>Exposed1</th><td>          NA</td><td>          NA</td><td>          NA</td></tr>\n",
              "\t<tr><th scope=row>Exposed2</th><td>3.433676e-11</td><td>3.662056e-11</td><td>3.348023e-11</td></tr>\n",
              "</tbody>\n",
              "</table>\n",
              "</dd>\n",
              "\t<dt>$correction</dt>\n",
              "\t\t<dd>FALSE</dd>\n",
              "</dl>\n"
            ],
            "text/markdown": "$data\n:   \nA matrix: 3 × 3 of type dbl\n\n| <!--/--> | Disease1 | Disease2 | Total |\n|---|---|---|---|\n| Exposed1 | 102461 | 3321 | 105782 |\n| Exposed2 |  94171 | 3590 |  97761 |\n| Total | 196632 | 6911 | 203543 |\n\n\n$measure\n:   \nA matrix: 2 × 3 of type dbl\n\n| <!--/--> | estimate | lower | upper |\n|---|---|---|---|\n| Exposed1 | 1.000000 |      NA |       NA |\n| Exposed2 | 1.169693 | 1.11668 | 1.225221 |\n\n\n$p.value\n:   \nA matrix: 2 × 3 of type dbl\n\n| <!--/--> | midp.exact | fisher.exact | chi.square |\n|---|---|---|---|\n| Exposed1 |           NA |           NA |           NA |\n| Exposed2 | 3.433676e-11 | 3.662056e-11 | 3.348023e-11 |\n\n\n$correction\n:   FALSE\n\n\n",
            "text/latex": "\\begin{description}\n\\item[\\$data] A matrix: 3 × 3 of type dbl\n\\begin{tabular}{r|lll}\n  & Disease1 & Disease2 & Total\\\\\n\\hline\n\tExposed1 & 102461 & 3321 & 105782\\\\\n\tExposed2 &  94171 & 3590 &  97761\\\\\n\tTotal & 196632 & 6911 & 203543\\\\\n\\end{tabular}\n\n\\item[\\$measure] A matrix: 2 × 3 of type dbl\n\\begin{tabular}{r|lll}\n  & estimate & lower & upper\\\\\n\\hline\n\tExposed1 & 1.000000 &      NA &       NA\\\\\n\tExposed2 & 1.169693 & 1.11668 & 1.225221\\\\\n\\end{tabular}\n\n\\item[\\$p.value] A matrix: 2 × 3 of type dbl\n\\begin{tabular}{r|lll}\n  & midp.exact & fisher.exact & chi.square\\\\\n\\hline\n\tExposed1 &           NA &           NA &           NA\\\\\n\tExposed2 & 3.433676e-11 & 3.662056e-11 & 3.348023e-11\\\\\n\\end{tabular}\n\n\\item[\\$correction] FALSE\n\\end{description}\n",
            "text/plain": [
              "$data\n",
              "          Outcome\n",
              "Predictor  Disease1 Disease2  Total\n",
              "  Exposed1   102461     3321 105782\n",
              "  Exposed2    94171     3590  97761\n",
              "  Total      196632     6911 203543\n",
              "\n",
              "$measure\n",
              "          risk ratio with 95% C.I.\n",
              "Predictor  estimate   lower    upper\n",
              "  Exposed1 1.000000      NA       NA\n",
              "  Exposed2 1.169693 1.11668 1.225221\n",
              "\n",
              "$p.value\n",
              "          two-sided\n",
              "Predictor    midp.exact fisher.exact   chi.square\n",
              "  Exposed1           NA           NA           NA\n",
              "  Exposed2 3.433676e-11 3.662056e-11 3.348023e-11\n",
              "\n",
              "$correction\n",
              "[1] FALSE\n",
              "\n",
              "attr(,\"method\")\n",
              "[1] \"Unconditional MLE & normal approximation (Wald) CI\""
            ]
          },
          "metadata": {}
        },
        {
          "output_type": "display_data",
          "data": {
            "text/html": [
              "<dl>\n",
              "\t<dt>$data</dt>\n",
              "\t\t<dd><table class=\"dataframe\">\n",
              "<caption>A matrix: 3 × 3 of type dbl</caption>\n",
              "<thead>\n",
              "\t<tr><th></th><th scope=col>Disease1</th><th scope=col>Disease2</th><th scope=col>Total</th></tr>\n",
              "</thead>\n",
              "<tbody>\n",
              "\t<tr><th scope=row>Exposed1</th><td>102209</td><td>3573</td><td>105782</td></tr>\n",
              "\t<tr><th scope=row>Exposed2</th><td> 93884</td><td>3877</td><td> 97761</td></tr>\n",
              "\t<tr><th scope=row>Total</th><td>196093</td><td>7450</td><td>203543</td></tr>\n",
              "</tbody>\n",
              "</table>\n",
              "</dd>\n",
              "\t<dt>$measure</dt>\n",
              "\t\t<dd><table class=\"dataframe\">\n",
              "<caption>A matrix: 2 × 3 of type dbl</caption>\n",
              "<thead>\n",
              "\t<tr><th></th><th scope=col>estimate</th><th scope=col>lower</th><th scope=col>upper</th></tr>\n",
              "</thead>\n",
              "<tbody>\n",
              "\t<tr><th scope=row>Exposed1</th><td>1.00000</td><td>      NA</td><td>      NA</td></tr>\n",
              "\t<tr><th scope=row>Exposed2</th><td>1.17411</td><td>1.122881</td><td>1.227677</td></tr>\n",
              "</tbody>\n",
              "</table>\n",
              "</dd>\n",
              "\t<dt>$p.value</dt>\n",
              "\t\t<dd><table class=\"dataframe\">\n",
              "<caption>A matrix: 2 × 3 of type dbl</caption>\n",
              "<thead>\n",
              "\t<tr><th></th><th scope=col>midp.exact</th><th scope=col>fisher.exact</th><th scope=col>chi.square</th></tr>\n",
              "</thead>\n",
              "<tbody>\n",
              "\t<tr><th scope=row>Exposed1</th><td>          NA</td><td>          NA</td><td>          NA</td></tr>\n",
              "\t<tr><th scope=row>Exposed2</th><td>1.723066e-12</td><td>1.721067e-12</td><td>1.675031e-12</td></tr>\n",
              "</tbody>\n",
              "</table>\n",
              "</dd>\n",
              "\t<dt>$correction</dt>\n",
              "\t\t<dd>FALSE</dd>\n",
              "</dl>\n"
            ],
            "text/markdown": "$data\n:   \nA matrix: 3 × 3 of type dbl\n\n| <!--/--> | Disease1 | Disease2 | Total |\n|---|---|---|---|\n| Exposed1 | 102209 | 3573 | 105782 |\n| Exposed2 |  93884 | 3877 |  97761 |\n| Total | 196093 | 7450 | 203543 |\n\n\n$measure\n:   \nA matrix: 2 × 3 of type dbl\n\n| <!--/--> | estimate | lower | upper |\n|---|---|---|---|\n| Exposed1 | 1.00000 |       NA |       NA |\n| Exposed2 | 1.17411 | 1.122881 | 1.227677 |\n\n\n$p.value\n:   \nA matrix: 2 × 3 of type dbl\n\n| <!--/--> | midp.exact | fisher.exact | chi.square |\n|---|---|---|---|\n| Exposed1 |           NA |           NA |           NA |\n| Exposed2 | 1.723066e-12 | 1.721067e-12 | 1.675031e-12 |\n\n\n$correction\n:   FALSE\n\n\n",
            "text/latex": "\\begin{description}\n\\item[\\$data] A matrix: 3 × 3 of type dbl\n\\begin{tabular}{r|lll}\n  & Disease1 & Disease2 & Total\\\\\n\\hline\n\tExposed1 & 102209 & 3573 & 105782\\\\\n\tExposed2 &  93884 & 3877 &  97761\\\\\n\tTotal & 196093 & 7450 & 203543\\\\\n\\end{tabular}\n\n\\item[\\$measure] A matrix: 2 × 3 of type dbl\n\\begin{tabular}{r|lll}\n  & estimate & lower & upper\\\\\n\\hline\n\tExposed1 & 1.00000 &       NA &       NA\\\\\n\tExposed2 & 1.17411 & 1.122881 & 1.227677\\\\\n\\end{tabular}\n\n\\item[\\$p.value] A matrix: 2 × 3 of type dbl\n\\begin{tabular}{r|lll}\n  & midp.exact & fisher.exact & chi.square\\\\\n\\hline\n\tExposed1 &           NA &           NA &           NA\\\\\n\tExposed2 & 1.723066e-12 & 1.721067e-12 & 1.675031e-12\\\\\n\\end{tabular}\n\n\\item[\\$correction] FALSE\n\\end{description}\n",
            "text/plain": [
              "$data\n",
              "          Outcome\n",
              "Predictor  Disease1 Disease2  Total\n",
              "  Exposed1   102209     3573 105782\n",
              "  Exposed2    93884     3877  97761\n",
              "  Total      196093     7450 203543\n",
              "\n",
              "$measure\n",
              "          risk ratio with 95% C.I.\n",
              "Predictor  estimate    lower    upper\n",
              "  Exposed1  1.00000       NA       NA\n",
              "  Exposed2  1.17411 1.122881 1.227677\n",
              "\n",
              "$p.value\n",
              "          two-sided\n",
              "Predictor    midp.exact fisher.exact   chi.square\n",
              "  Exposed1           NA           NA           NA\n",
              "  Exposed2 1.723066e-12 1.721067e-12 1.675031e-12\n",
              "\n",
              "$correction\n",
              "[1] FALSE\n",
              "\n",
              "attr(,\"method\")\n",
              "[1] \"Unconditional MLE & normal approximation (Wald) CI\""
            ]
          },
          "metadata": {}
        },
        {
          "output_type": "display_data",
          "data": {
            "text/html": [
              "<dl>\n",
              "\t<dt>$data</dt>\n",
              "\t\t<dd><table class=\"dataframe\">\n",
              "<caption>A matrix: 3 × 3 of type dbl</caption>\n",
              "<thead>\n",
              "\t<tr><th></th><th scope=col>Disease1</th><th scope=col>Disease2</th><th scope=col>Total</th></tr>\n",
              "</thead>\n",
              "<tbody>\n",
              "\t<tr><th scope=row>Exposed1</th><td> 98929</td><td> 6853</td><td>105782</td></tr>\n",
              "\t<tr><th scope=row>Exposed2</th><td> 89849</td><td> 7912</td><td> 97761</td></tr>\n",
              "\t<tr><th scope=row>Total</th><td>188778</td><td>14765</td><td>203543</td></tr>\n",
              "</tbody>\n",
              "</table>\n",
              "</dd>\n",
              "\t<dt>$measure</dt>\n",
              "\t\t<dd><table class=\"dataframe\">\n",
              "<caption>A matrix: 2 × 3 of type dbl</caption>\n",
              "<thead>\n",
              "\t<tr><th></th><th scope=col>estimate</th><th scope=col>lower</th><th scope=col>upper</th></tr>\n",
              "</thead>\n",
              "<tbody>\n",
              "\t<tr><th scope=row>Exposed1</th><td>1.000000</td><td>      NA</td><td>      NA</td></tr>\n",
              "\t<tr><th scope=row>Exposed2</th><td>1.249257</td><td>1.210939</td><td>1.288786</td></tr>\n",
              "</tbody>\n",
              "</table>\n",
              "</dd>\n",
              "\t<dt>$p.value</dt>\n",
              "\t\t<dd><table class=\"dataframe\">\n",
              "<caption>A matrix: 2 × 3 of type dbl</caption>\n",
              "<thead>\n",
              "\t<tr><th></th><th scope=col>midp.exact</th><th scope=col>fisher.exact</th><th scope=col>chi.square</th></tr>\n",
              "</thead>\n",
              "<tbody>\n",
              "\t<tr><th scope=row>Exposed1</th><td>NA</td><td>          NA</td><td>          NA</td></tr>\n",
              "\t<tr><th scope=row>Exposed2</th><td> 0</td><td>1.148992e-44</td><td>9.838355e-45</td></tr>\n",
              "</tbody>\n",
              "</table>\n",
              "</dd>\n",
              "\t<dt>$correction</dt>\n",
              "\t\t<dd>FALSE</dd>\n",
              "</dl>\n"
            ],
            "text/markdown": "$data\n:   \nA matrix: 3 × 3 of type dbl\n\n| <!--/--> | Disease1 | Disease2 | Total |\n|---|---|---|---|\n| Exposed1 |  98929 |  6853 | 105782 |\n| Exposed2 |  89849 |  7912 |  97761 |\n| Total | 188778 | 14765 | 203543 |\n\n\n$measure\n:   \nA matrix: 2 × 3 of type dbl\n\n| <!--/--> | estimate | lower | upper |\n|---|---|---|---|\n| Exposed1 | 1.000000 |       NA |       NA |\n| Exposed2 | 1.249257 | 1.210939 | 1.288786 |\n\n\n$p.value\n:   \nA matrix: 2 × 3 of type dbl\n\n| <!--/--> | midp.exact | fisher.exact | chi.square |\n|---|---|---|---|\n| Exposed1 | NA |           NA |           NA |\n| Exposed2 |  0 | 1.148992e-44 | 9.838355e-45 |\n\n\n$correction\n:   FALSE\n\n\n",
            "text/latex": "\\begin{description}\n\\item[\\$data] A matrix: 3 × 3 of type dbl\n\\begin{tabular}{r|lll}\n  & Disease1 & Disease2 & Total\\\\\n\\hline\n\tExposed1 &  98929 &  6853 & 105782\\\\\n\tExposed2 &  89849 &  7912 &  97761\\\\\n\tTotal & 188778 & 14765 & 203543\\\\\n\\end{tabular}\n\n\\item[\\$measure] A matrix: 2 × 3 of type dbl\n\\begin{tabular}{r|lll}\n  & estimate & lower & upper\\\\\n\\hline\n\tExposed1 & 1.000000 &       NA &       NA\\\\\n\tExposed2 & 1.249257 & 1.210939 & 1.288786\\\\\n\\end{tabular}\n\n\\item[\\$p.value] A matrix: 2 × 3 of type dbl\n\\begin{tabular}{r|lll}\n  & midp.exact & fisher.exact & chi.square\\\\\n\\hline\n\tExposed1 & NA &           NA &           NA\\\\\n\tExposed2 &  0 & 1.148992e-44 & 9.838355e-45\\\\\n\\end{tabular}\n\n\\item[\\$correction] FALSE\n\\end{description}\n",
            "text/plain": [
              "$data\n",
              "          Outcome\n",
              "Predictor  Disease1 Disease2  Total\n",
              "  Exposed1    98929     6853 105782\n",
              "  Exposed2    89849     7912  97761\n",
              "  Total      188778    14765 203543\n",
              "\n",
              "$measure\n",
              "          risk ratio with 95% C.I.\n",
              "Predictor  estimate    lower    upper\n",
              "  Exposed1 1.000000       NA       NA\n",
              "  Exposed2 1.249257 1.210939 1.288786\n",
              "\n",
              "$p.value\n",
              "          two-sided\n",
              "Predictor  midp.exact fisher.exact   chi.square\n",
              "  Exposed1         NA           NA           NA\n",
              "  Exposed2          0 1.148992e-44 9.838355e-45\n",
              "\n",
              "$correction\n",
              "[1] FALSE\n",
              "\n",
              "attr(,\"method\")\n",
              "[1] \"Unconditional MLE & normal approximation (Wald) CI\""
            ]
          },
          "metadata": {}
        },
        {
          "output_type": "display_data",
          "data": {
            "text/html": [
              "<dl>\n",
              "\t<dt>$data</dt>\n",
              "\t\t<dd><table class=\"dataframe\">\n",
              "<caption>A matrix: 3 × 3 of type dbl</caption>\n",
              "<thead>\n",
              "\t<tr><th></th><th scope=col>Disease1</th><th scope=col>Disease2</th><th scope=col>Total</th></tr>\n",
              "</thead>\n",
              "<tbody>\n",
              "\t<tr><th scope=row>Exposed1</th><td>101695</td><td>4087</td><td>105782</td></tr>\n",
              "\t<tr><th scope=row>Exposed2</th><td> 93627</td><td>4134</td><td> 97761</td></tr>\n",
              "\t<tr><th scope=row>Total</th><td>195322</td><td>8221</td><td>203543</td></tr>\n",
              "</tbody>\n",
              "</table>\n",
              "</dd>\n",
              "\t<dt>$measure</dt>\n",
              "\t\t<dd><table class=\"dataframe\">\n",
              "<caption>A matrix: 2 × 3 of type dbl</caption>\n",
              "<thead>\n",
              "\t<tr><th></th><th scope=col>estimate</th><th scope=col>lower</th><th scope=col>upper</th></tr>\n",
              "</thead>\n",
              "<tbody>\n",
              "\t<tr><th scope=row>Exposed1</th><td>1.00000</td><td>      NA</td><td>      NA</td></tr>\n",
              "\t<tr><th scope=row>Exposed2</th><td>1.09449</td><td>1.049106</td><td>1.141838</td></tr>\n",
              "</tbody>\n",
              "</table>\n",
              "</dd>\n",
              "\t<dt>$p.value</dt>\n",
              "\t\t<dd><table class=\"dataframe\">\n",
              "<caption>A matrix: 2 × 3 of type dbl</caption>\n",
              "<thead>\n",
              "\t<tr><th></th><th scope=col>midp.exact</th><th scope=col>fisher.exact</th><th scope=col>chi.square</th></tr>\n",
              "</thead>\n",
              "<tbody>\n",
              "\t<tr><th scope=row>Exposed1</th><td>          NA</td><td>          NA</td><td>          NA</td></tr>\n",
              "\t<tr><th scope=row>Exposed2</th><td>2.941118e-05</td><td>3.051304e-05</td><td>2.917146e-05</td></tr>\n",
              "</tbody>\n",
              "</table>\n",
              "</dd>\n",
              "\t<dt>$correction</dt>\n",
              "\t\t<dd>FALSE</dd>\n",
              "</dl>\n"
            ],
            "text/markdown": "$data\n:   \nA matrix: 3 × 3 of type dbl\n\n| <!--/--> | Disease1 | Disease2 | Total |\n|---|---|---|---|\n| Exposed1 | 101695 | 4087 | 105782 |\n| Exposed2 |  93627 | 4134 |  97761 |\n| Total | 195322 | 8221 | 203543 |\n\n\n$measure\n:   \nA matrix: 2 × 3 of type dbl\n\n| <!--/--> | estimate | lower | upper |\n|---|---|---|---|\n| Exposed1 | 1.00000 |       NA |       NA |\n| Exposed2 | 1.09449 | 1.049106 | 1.141838 |\n\n\n$p.value\n:   \nA matrix: 2 × 3 of type dbl\n\n| <!--/--> | midp.exact | fisher.exact | chi.square |\n|---|---|---|---|\n| Exposed1 |           NA |           NA |           NA |\n| Exposed2 | 2.941118e-05 | 3.051304e-05 | 2.917146e-05 |\n\n\n$correction\n:   FALSE\n\n\n",
            "text/latex": "\\begin{description}\n\\item[\\$data] A matrix: 3 × 3 of type dbl\n\\begin{tabular}{r|lll}\n  & Disease1 & Disease2 & Total\\\\\n\\hline\n\tExposed1 & 101695 & 4087 & 105782\\\\\n\tExposed2 &  93627 & 4134 &  97761\\\\\n\tTotal & 195322 & 8221 & 203543\\\\\n\\end{tabular}\n\n\\item[\\$measure] A matrix: 2 × 3 of type dbl\n\\begin{tabular}{r|lll}\n  & estimate & lower & upper\\\\\n\\hline\n\tExposed1 & 1.00000 &       NA &       NA\\\\\n\tExposed2 & 1.09449 & 1.049106 & 1.141838\\\\\n\\end{tabular}\n\n\\item[\\$p.value] A matrix: 2 × 3 of type dbl\n\\begin{tabular}{r|lll}\n  & midp.exact & fisher.exact & chi.square\\\\\n\\hline\n\tExposed1 &           NA &           NA &           NA\\\\\n\tExposed2 & 2.941118e-05 & 3.051304e-05 & 2.917146e-05\\\\\n\\end{tabular}\n\n\\item[\\$correction] FALSE\n\\end{description}\n",
            "text/plain": [
              "$data\n",
              "          Outcome\n",
              "Predictor  Disease1 Disease2  Total\n",
              "  Exposed1   101695     4087 105782\n",
              "  Exposed2    93627     4134  97761\n",
              "  Total      195322     8221 203543\n",
              "\n",
              "$measure\n",
              "          risk ratio with 95% C.I.\n",
              "Predictor  estimate    lower    upper\n",
              "  Exposed1  1.00000       NA       NA\n",
              "  Exposed2  1.09449 1.049106 1.141838\n",
              "\n",
              "$p.value\n",
              "          two-sided\n",
              "Predictor    midp.exact fisher.exact   chi.square\n",
              "  Exposed1           NA           NA           NA\n",
              "  Exposed2 2.941118e-05 3.051304e-05 2.917146e-05\n",
              "\n",
              "$correction\n",
              "[1] FALSE\n",
              "\n",
              "attr(,\"method\")\n",
              "[1] \"Unconditional MLE & normal approximation (Wald) CI\""
            ]
          },
          "metadata": {}
        },
        {
          "output_type": "display_data",
          "data": {
            "text/html": [
              "<dl>\n",
              "\t<dt>$data</dt>\n",
              "\t\t<dd><table class=\"dataframe\">\n",
              "<caption>A matrix: 3 × 3 of type dbl</caption>\n",
              "<thead>\n",
              "\t<tr><th></th><th scope=col>Disease1</th><th scope=col>Disease2</th><th scope=col>Total</th></tr>\n",
              "</thead>\n",
              "<tbody>\n",
              "\t<tr><th scope=row>Exposed1</th><td>105682</td><td>100</td><td>105782</td></tr>\n",
              "\t<tr><th scope=row>Exposed2</th><td> 97667</td><td> 94</td><td> 97761</td></tr>\n",
              "\t<tr><th scope=row>Total</th><td>203349</td><td>194</td><td>203543</td></tr>\n",
              "</tbody>\n",
              "</table>\n",
              "</dd>\n",
              "\t<dt>$measure</dt>\n",
              "\t\t<dd><table class=\"dataframe\">\n",
              "<caption>A matrix: 2 × 3 of type dbl</caption>\n",
              "<thead>\n",
              "\t<tr><th></th><th scope=col>estimate</th><th scope=col>lower</th><th scope=col>upper</th></tr>\n",
              "</thead>\n",
              "<tbody>\n",
              "\t<tr><th scope=row>Exposed1</th><td>1.000000</td><td>       NA</td><td>     NA</td></tr>\n",
              "\t<tr><th scope=row>Exposed2</th><td>1.017124</td><td>0.7676237</td><td>1.34772</td></tr>\n",
              "</tbody>\n",
              "</table>\n",
              "</dd>\n",
              "\t<dt>$p.value</dt>\n",
              "\t\t<dd><table class=\"dataframe\">\n",
              "<caption>A matrix: 2 × 3 of type dbl</caption>\n",
              "<thead>\n",
              "\t<tr><th></th><th scope=col>midp.exact</th><th scope=col>fisher.exact</th><th scope=col>chi.square</th></tr>\n",
              "</thead>\n",
              "<tbody>\n",
              "\t<tr><th scope=row>Exposed1</th><td>       NA</td><td>       NA</td><td>       NA</td></tr>\n",
              "\t<tr><th scope=row>Exposed2</th><td>0.9054196</td><td>0.9427318</td><td>0.9058712</td></tr>\n",
              "</tbody>\n",
              "</table>\n",
              "</dd>\n",
              "\t<dt>$correction</dt>\n",
              "\t\t<dd>FALSE</dd>\n",
              "</dl>\n"
            ],
            "text/markdown": "$data\n:   \nA matrix: 3 × 3 of type dbl\n\n| <!--/--> | Disease1 | Disease2 | Total |\n|---|---|---|---|\n| Exposed1 | 105682 | 100 | 105782 |\n| Exposed2 |  97667 |  94 |  97761 |\n| Total | 203349 | 194 | 203543 |\n\n\n$measure\n:   \nA matrix: 2 × 3 of type dbl\n\n| <!--/--> | estimate | lower | upper |\n|---|---|---|---|\n| Exposed1 | 1.000000 |        NA |      NA |\n| Exposed2 | 1.017124 | 0.7676237 | 1.34772 |\n\n\n$p.value\n:   \nA matrix: 2 × 3 of type dbl\n\n| <!--/--> | midp.exact | fisher.exact | chi.square |\n|---|---|---|---|\n| Exposed1 |        NA |        NA |        NA |\n| Exposed2 | 0.9054196 | 0.9427318 | 0.9058712 |\n\n\n$correction\n:   FALSE\n\n\n",
            "text/latex": "\\begin{description}\n\\item[\\$data] A matrix: 3 × 3 of type dbl\n\\begin{tabular}{r|lll}\n  & Disease1 & Disease2 & Total\\\\\n\\hline\n\tExposed1 & 105682 & 100 & 105782\\\\\n\tExposed2 &  97667 &  94 &  97761\\\\\n\tTotal & 203349 & 194 & 203543\\\\\n\\end{tabular}\n\n\\item[\\$measure] A matrix: 2 × 3 of type dbl\n\\begin{tabular}{r|lll}\n  & estimate & lower & upper\\\\\n\\hline\n\tExposed1 & 1.000000 &        NA &      NA\\\\\n\tExposed2 & 1.017124 & 0.7676237 & 1.34772\\\\\n\\end{tabular}\n\n\\item[\\$p.value] A matrix: 2 × 3 of type dbl\n\\begin{tabular}{r|lll}\n  & midp.exact & fisher.exact & chi.square\\\\\n\\hline\n\tExposed1 &        NA &        NA &        NA\\\\\n\tExposed2 & 0.9054196 & 0.9427318 & 0.9058712\\\\\n\\end{tabular}\n\n\\item[\\$correction] FALSE\n\\end{description}\n",
            "text/plain": [
              "$data\n",
              "          Outcome\n",
              "Predictor  Disease1 Disease2  Total\n",
              "  Exposed1   105682      100 105782\n",
              "  Exposed2    97667       94  97761\n",
              "  Total      203349      194 203543\n",
              "\n",
              "$measure\n",
              "          risk ratio with 95% C.I.\n",
              "Predictor  estimate     lower   upper\n",
              "  Exposed1 1.000000        NA      NA\n",
              "  Exposed2 1.017124 0.7676237 1.34772\n",
              "\n",
              "$p.value\n",
              "          two-sided\n",
              "Predictor  midp.exact fisher.exact chi.square\n",
              "  Exposed1         NA           NA         NA\n",
              "  Exposed2  0.9054196    0.9427318  0.9058712\n",
              "\n",
              "$correction\n",
              "[1] FALSE\n",
              "\n",
              "attr(,\"method\")\n",
              "[1] \"Unconditional MLE & normal approximation (Wald) CI\""
            ]
          },
          "metadata": {}
        },
        {
          "output_type": "display_data",
          "data": {
            "text/html": [
              "<dl>\n",
              "\t<dt>$data</dt>\n",
              "\t\t<dd><table class=\"dataframe\">\n",
              "<caption>A matrix: 3 × 3 of type dbl</caption>\n",
              "<thead>\n",
              "\t<tr><th></th><th scope=col>Disease1</th><th scope=col>Disease2</th><th scope=col>Total</th></tr>\n",
              "</thead>\n",
              "<tbody>\n",
              "\t<tr><th scope=row>Exposed1</th><td>104875</td><td> 907</td><td>105782</td></tr>\n",
              "\t<tr><th scope=row>Exposed2</th><td> 96815</td><td> 946</td><td> 97761</td></tr>\n",
              "\t<tr><th scope=row>Total</th><td>201690</td><td>1853</td><td>203543</td></tr>\n",
              "</tbody>\n",
              "</table>\n",
              "</dd>\n",
              "\t<dt>$measure</dt>\n",
              "\t\t<dd><table class=\"dataframe\">\n",
              "<caption>A matrix: 2 × 3 of type dbl</caption>\n",
              "<thead>\n",
              "\t<tr><th></th><th scope=col>estimate</th><th scope=col>lower</th><th scope=col>upper</th></tr>\n",
              "</thead>\n",
              "<tbody>\n",
              "\t<tr><th scope=row>Exposed1</th><td>1.000000</td><td>      NA</td><td>     NA</td></tr>\n",
              "\t<tr><th scope=row>Exposed2</th><td>1.128574</td><td>1.030751</td><td>1.23568</td></tr>\n",
              "</tbody>\n",
              "</table>\n",
              "</dd>\n",
              "\t<dt>$p.value</dt>\n",
              "\t\t<dd><table class=\"dataframe\">\n",
              "<caption>A matrix: 2 × 3 of type dbl</caption>\n",
              "<thead>\n",
              "\t<tr><th></th><th scope=col>midp.exact</th><th scope=col>fisher.exact</th><th scope=col>chi.square</th></tr>\n",
              "</thead>\n",
              "<tbody>\n",
              "\t<tr><th scope=row>Exposed1</th><td>         NA</td><td>         NA</td><td>         NA</td></tr>\n",
              "\t<tr><th scope=row>Exposed2</th><td>0.008936089</td><td>0.009511614</td><td>0.008889225</td></tr>\n",
              "</tbody>\n",
              "</table>\n",
              "</dd>\n",
              "\t<dt>$correction</dt>\n",
              "\t\t<dd>FALSE</dd>\n",
              "</dl>\n"
            ],
            "text/markdown": "$data\n:   \nA matrix: 3 × 3 of type dbl\n\n| <!--/--> | Disease1 | Disease2 | Total |\n|---|---|---|---|\n| Exposed1 | 104875 |  907 | 105782 |\n| Exposed2 |  96815 |  946 |  97761 |\n| Total | 201690 | 1853 | 203543 |\n\n\n$measure\n:   \nA matrix: 2 × 3 of type dbl\n\n| <!--/--> | estimate | lower | upper |\n|---|---|---|---|\n| Exposed1 | 1.000000 |       NA |      NA |\n| Exposed2 | 1.128574 | 1.030751 | 1.23568 |\n\n\n$p.value\n:   \nA matrix: 2 × 3 of type dbl\n\n| <!--/--> | midp.exact | fisher.exact | chi.square |\n|---|---|---|---|\n| Exposed1 |          NA |          NA |          NA |\n| Exposed2 | 0.008936089 | 0.009511614 | 0.008889225 |\n\n\n$correction\n:   FALSE\n\n\n",
            "text/latex": "\\begin{description}\n\\item[\\$data] A matrix: 3 × 3 of type dbl\n\\begin{tabular}{r|lll}\n  & Disease1 & Disease2 & Total\\\\\n\\hline\n\tExposed1 & 104875 &  907 & 105782\\\\\n\tExposed2 &  96815 &  946 &  97761\\\\\n\tTotal & 201690 & 1853 & 203543\\\\\n\\end{tabular}\n\n\\item[\\$measure] A matrix: 2 × 3 of type dbl\n\\begin{tabular}{r|lll}\n  & estimate & lower & upper\\\\\n\\hline\n\tExposed1 & 1.000000 &       NA &      NA\\\\\n\tExposed2 & 1.128574 & 1.030751 & 1.23568\\\\\n\\end{tabular}\n\n\\item[\\$p.value] A matrix: 2 × 3 of type dbl\n\\begin{tabular}{r|lll}\n  & midp.exact & fisher.exact & chi.square\\\\\n\\hline\n\tExposed1 &          NA &          NA &          NA\\\\\n\tExposed2 & 0.008936089 & 0.009511614 & 0.008889225\\\\\n\\end{tabular}\n\n\\item[\\$correction] FALSE\n\\end{description}\n",
            "text/plain": [
              "$data\n",
              "          Outcome\n",
              "Predictor  Disease1 Disease2  Total\n",
              "  Exposed1   104875      907 105782\n",
              "  Exposed2    96815      946  97761\n",
              "  Total      201690     1853 203543\n",
              "\n",
              "$measure\n",
              "          risk ratio with 95% C.I.\n",
              "Predictor  estimate    lower   upper\n",
              "  Exposed1 1.000000       NA      NA\n",
              "  Exposed2 1.128574 1.030751 1.23568\n",
              "\n",
              "$p.value\n",
              "          two-sided\n",
              "Predictor   midp.exact fisher.exact  chi.square\n",
              "  Exposed1          NA           NA          NA\n",
              "  Exposed2 0.008936089  0.009511614 0.008889225\n",
              "\n",
              "$correction\n",
              "[1] FALSE\n",
              "\n",
              "attr(,\"method\")\n",
              "[1] \"Unconditional MLE & normal approximation (Wald) CI\""
            ]
          },
          "metadata": {}
        },
        {
          "output_type": "display_data",
          "data": {
            "text/html": [
              "<dl>\n",
              "\t<dt>$data</dt>\n",
              "\t\t<dd><table class=\"dataframe\">\n",
              "<caption>A matrix: 3 × 3 of type dbl</caption>\n",
              "<thead>\n",
              "\t<tr><th></th><th scope=col>Disease1</th><th scope=col>Disease2</th><th scope=col>Total</th></tr>\n",
              "</thead>\n",
              "<tbody>\n",
              "\t<tr><th scope=row>Exposed1</th><td>105727</td><td> 55</td><td>105782</td></tr>\n",
              "\t<tr><th scope=row>Exposed2</th><td> 97716</td><td> 45</td><td> 97761</td></tr>\n",
              "\t<tr><th scope=row>Total</th><td>203443</td><td>100</td><td>203543</td></tr>\n",
              "</tbody>\n",
              "</table>\n",
              "</dd>\n",
              "\t<dt>$measure</dt>\n",
              "\t\t<dd><table class=\"dataframe\">\n",
              "<caption>A matrix: 2 × 3 of type dbl</caption>\n",
              "<thead>\n",
              "\t<tr><th></th><th scope=col>estimate</th><th scope=col>lower</th><th scope=col>upper</th></tr>\n",
              "</thead>\n",
              "<tbody>\n",
              "\t<tr><th scope=row>Exposed1</th><td>1.0000000</td><td>       NA</td><td>     NA</td></tr>\n",
              "\t<tr><th scope=row>Exposed2</th><td>0.8853112</td><td>0.5970899</td><td>1.31266</td></tr>\n",
              "</tbody>\n",
              "</table>\n",
              "</dd>\n",
              "\t<dt>$p.value</dt>\n",
              "\t\t<dd><table class=\"dataframe\">\n",
              "<caption>A matrix: 2 × 3 of type dbl</caption>\n",
              "<thead>\n",
              "\t<tr><th></th><th scope=col>midp.exact</th><th scope=col>fisher.exact</th><th scope=col>chi.square</th></tr>\n",
              "</thead>\n",
              "<tbody>\n",
              "\t<tr><th scope=row>Exposed1</th><td>       NA</td><td>       NA</td><td>       NA</td></tr>\n",
              "\t<tr><th scope=row>Exposed2</th><td>0.5469198</td><td>0.5502066</td><td>0.5441489</td></tr>\n",
              "</tbody>\n",
              "</table>\n",
              "</dd>\n",
              "\t<dt>$correction</dt>\n",
              "\t\t<dd>FALSE</dd>\n",
              "</dl>\n"
            ],
            "text/markdown": "$data\n:   \nA matrix: 3 × 3 of type dbl\n\n| <!--/--> | Disease1 | Disease2 | Total |\n|---|---|---|---|\n| Exposed1 | 105727 |  55 | 105782 |\n| Exposed2 |  97716 |  45 |  97761 |\n| Total | 203443 | 100 | 203543 |\n\n\n$measure\n:   \nA matrix: 2 × 3 of type dbl\n\n| <!--/--> | estimate | lower | upper |\n|---|---|---|---|\n| Exposed1 | 1.0000000 |        NA |      NA |\n| Exposed2 | 0.8853112 | 0.5970899 | 1.31266 |\n\n\n$p.value\n:   \nA matrix: 2 × 3 of type dbl\n\n| <!--/--> | midp.exact | fisher.exact | chi.square |\n|---|---|---|---|\n| Exposed1 |        NA |        NA |        NA |\n| Exposed2 | 0.5469198 | 0.5502066 | 0.5441489 |\n\n\n$correction\n:   FALSE\n\n\n",
            "text/latex": "\\begin{description}\n\\item[\\$data] A matrix: 3 × 3 of type dbl\n\\begin{tabular}{r|lll}\n  & Disease1 & Disease2 & Total\\\\\n\\hline\n\tExposed1 & 105727 &  55 & 105782\\\\\n\tExposed2 &  97716 &  45 &  97761\\\\\n\tTotal & 203443 & 100 & 203543\\\\\n\\end{tabular}\n\n\\item[\\$measure] A matrix: 2 × 3 of type dbl\n\\begin{tabular}{r|lll}\n  & estimate & lower & upper\\\\\n\\hline\n\tExposed1 & 1.0000000 &        NA &      NA\\\\\n\tExposed2 & 0.8853112 & 0.5970899 & 1.31266\\\\\n\\end{tabular}\n\n\\item[\\$p.value] A matrix: 2 × 3 of type dbl\n\\begin{tabular}{r|lll}\n  & midp.exact & fisher.exact & chi.square\\\\\n\\hline\n\tExposed1 &        NA &        NA &        NA\\\\\n\tExposed2 & 0.5469198 & 0.5502066 & 0.5441489\\\\\n\\end{tabular}\n\n\\item[\\$correction] FALSE\n\\end{description}\n",
            "text/plain": [
              "$data\n",
              "          Outcome\n",
              "Predictor  Disease1 Disease2  Total\n",
              "  Exposed1   105727       55 105782\n",
              "  Exposed2    97716       45  97761\n",
              "  Total      203443      100 203543\n",
              "\n",
              "$measure\n",
              "          risk ratio with 95% C.I.\n",
              "Predictor   estimate     lower   upper\n",
              "  Exposed1 1.0000000        NA      NA\n",
              "  Exposed2 0.8853112 0.5970899 1.31266\n",
              "\n",
              "$p.value\n",
              "          two-sided\n",
              "Predictor  midp.exact fisher.exact chi.square\n",
              "  Exposed1         NA           NA         NA\n",
              "  Exposed2  0.5469198    0.5502066  0.5441489\n",
              "\n",
              "$correction\n",
              "[1] FALSE\n",
              "\n",
              "attr(,\"method\")\n",
              "[1] \"Unconditional MLE & normal approximation (Wald) CI\""
            ]
          },
          "metadata": {}
        }
      ]
    },
    {
      "cell_type": "code",
      "source": [
        "\n",
        "#risk ratio for caring detention admission for subset of involuntary cases\n",
        "Caringdetentionsubsettable<-matrix(c((Involuntary2019-Caringdetention2019), (Involuntary2020-Caringdetention2020), Caringdetention2019, Caringdetention2020), nrow=2, ncol=2) \n",
        "riskratio.wald(Caringdetentionsubsettable)\n",
        "\n",
        "Civillawsubsettable<-matrix(c((Involuntary2019-Civillaw2019), (Involuntary2020-Civillaw2020), Civillaw2019, Civillaw2020), nrow=2, ncol=2)\n",
        "riskratio.wald(Civillawsubsettable)\n",
        "\n",
        "Publiclawsubsettable<-matrix(c((Involuntary2019-Publiclaw2019), (Involuntary2020-Publiclaw2020), Publiclaw2019, Publiclaw2020), nrow=2, ncol=2)\n",
        "riskratio.wald(Publiclawsubsettable)\n",
        "\n",
        "Coercionsubsettable<-matrix(c((Involuntary2019-Coercioncases2019), (Involuntary2020-Coercioncases2020), Coercioncases2019, Coercioncases2020), nrow=2, ncol=2)\n",
        "riskratio.wald(Coercionsubsettable)\n",
        "\n",
        "Mechrestsubsettable<-matrix(c((Involuntary2019-Mechrest2019), (Involuntary2020-Mechrest2020), Mechrest2019, Mechrest2020), nrow=2, ncol=2)\n",
        "riskratio.wald(Mechrestsubsettable)\n",
        "\n",
        "Physrestsubsettable<-matrix(c((Involuntary2019-Physrest2019), (Involuntary2020-Physrest2020), Physrest2019, Physrest2020), nrow=2, ncol=2)\n",
        "riskratio.wald(Physrestsubsettable)\n",
        "\n",
        "Forcedmedsubsettable<-matrix(c((Involuntary2019-Forcedmed2019), (Involuntary2020-Forcedmed2020), Forcedmed2019, Forcedmed2020), nrow=2, ncol=2)\n",
        "riskratio.wald(Forcedmedsubsettable)\n",
        "\n",
        "Unspecsubsettable<-matrix(c((Involuntary2019-Unspecified2019), (Involuntary2020-Unspecified2020), Unspecified2019, Unspecified2020), nrow=2, ncol=2)\n",
        "riskratio.wald(Unspecsubsettable)\n",
        "\n",
        "Voluntarytable<-matrix(c(Involuntary2019, Involuntary2020, Voluntary2019, Voluntary2020), nrow=2, ncol=2)\n",
        "riskratio.wald(Voluntarytable)\n",
        "\n",
        "Seclusiontable<-matrix(c((Totalcases2019-Seclusion2019), (Totalcases2020-Seclusion2020), Seclusion2019, Seclusion2020), nrow=2, ncol=2)\n",
        "riskratio.wald(Seclusiontable)\n",
        "\n",
        "Seclusionsubsettable<-matrix(c((Involuntary2019-Seclusion2019), (Involuntary2020-Seclusion2020), Seclusion2019, Seclusion2020), nrow=2, ncol=2)\n",
        "riskratio.wald(Seclusionsubsettable)\n",
        "\n",
        "Physrestsubsettable<-matrix(c((Involuntary2019-Physrest2019), (Involuntary2020-Physrest2020), Physrest2019, Physrest2020), nrow=2, ncol=2)\n",
        "riskratio.wald(Physrestsubsettable)\n",
        "\n",
        "PhysrestRRtable<-matrix(c((Totalcases2019-Physrest2019), (Totalcases2020-Physrest2020), Physrest2019, Physrest2020), nrow=2, ncol=2)\n",
        "riskratio.wald(PhysrestRRtable)\n"
      ],
      "metadata": {
        "colab": {
          "base_uri": "https://localhost:8080/",
          "height": 1000
        },
        "id": "Z4W7DR7bpLq0",
        "outputId": "c6a1474d-02a4-4c7d-fe48-f2a03d271f33"
      },
      "execution_count": 12,
      "outputs": [
        {
          "output_type": "display_data",
          "data": {
            "text/html": [
              "<dl>\n",
              "\t<dt>$data</dt>\n",
              "\t\t<dd><table class=\"dataframe\">\n",
              "<caption>A matrix: 3 × 3 of type dbl</caption>\n",
              "<thead>\n",
              "\t<tr><th></th><th scope=col>Disease1</th><th scope=col>Disease2</th><th scope=col>Total</th></tr>\n",
              "</thead>\n",
              "<tbody>\n",
              "\t<tr><th scope=row>Exposed1</th><td> 6894</td><td> 6138</td><td>13032</td></tr>\n",
              "\t<tr><th scope=row>Exposed2</th><td> 7467</td><td> 6357</td><td>13824</td></tr>\n",
              "\t<tr><th scope=row>Total</th><td>14361</td><td>12495</td><td>26856</td></tr>\n",
              "</tbody>\n",
              "</table>\n",
              "</dd>\n",
              "\t<dt>$measure</dt>\n",
              "\t\t<dd><table class=\"dataframe\">\n",
              "<caption>A matrix: 2 × 3 of type dbl</caption>\n",
              "<thead>\n",
              "\t<tr><th></th><th scope=col>estimate</th><th scope=col>lower</th><th scope=col>upper</th></tr>\n",
              "</thead>\n",
              "<tbody>\n",
              "\t<tr><th scope=row>Exposed1</th><td>1.0000000</td><td>      NA</td><td>      NA</td></tr>\n",
              "\t<tr><th scope=row>Exposed2</th><td>0.9763436</td><td>0.951627</td><td>1.001702</td></tr>\n",
              "</tbody>\n",
              "</table>\n",
              "</dd>\n",
              "\t<dt>$p.value</dt>\n",
              "\t\t<dd><table class=\"dataframe\">\n",
              "<caption>A matrix: 2 × 3 of type dbl</caption>\n",
              "<thead>\n",
              "\t<tr><th></th><th scope=col>midp.exact</th><th scope=col>fisher.exact</th><th scope=col>chi.square</th></tr>\n",
              "</thead>\n",
              "<tbody>\n",
              "\t<tr><th scope=row>Exposed1</th><td>        NA</td><td>        NA</td><td>        NA</td></tr>\n",
              "\t<tr><th scope=row>Exposed2</th><td>0.06733664</td><td>0.06821232</td><td>0.06731524</td></tr>\n",
              "</tbody>\n",
              "</table>\n",
              "</dd>\n",
              "\t<dt>$correction</dt>\n",
              "\t\t<dd>FALSE</dd>\n",
              "</dl>\n"
            ],
            "text/markdown": "$data\n:   \nA matrix: 3 × 3 of type dbl\n\n| <!--/--> | Disease1 | Disease2 | Total |\n|---|---|---|---|\n| Exposed1 |  6894 |  6138 | 13032 |\n| Exposed2 |  7467 |  6357 | 13824 |\n| Total | 14361 | 12495 | 26856 |\n\n\n$measure\n:   \nA matrix: 2 × 3 of type dbl\n\n| <!--/--> | estimate | lower | upper |\n|---|---|---|---|\n| Exposed1 | 1.0000000 |       NA |       NA |\n| Exposed2 | 0.9763436 | 0.951627 | 1.001702 |\n\n\n$p.value\n:   \nA matrix: 2 × 3 of type dbl\n\n| <!--/--> | midp.exact | fisher.exact | chi.square |\n|---|---|---|---|\n| Exposed1 |         NA |         NA |         NA |\n| Exposed2 | 0.06733664 | 0.06821232 | 0.06731524 |\n\n\n$correction\n:   FALSE\n\n\n",
            "text/latex": "\\begin{description}\n\\item[\\$data] A matrix: 3 × 3 of type dbl\n\\begin{tabular}{r|lll}\n  & Disease1 & Disease2 & Total\\\\\n\\hline\n\tExposed1 &  6894 &  6138 & 13032\\\\\n\tExposed2 &  7467 &  6357 & 13824\\\\\n\tTotal & 14361 & 12495 & 26856\\\\\n\\end{tabular}\n\n\\item[\\$measure] A matrix: 2 × 3 of type dbl\n\\begin{tabular}{r|lll}\n  & estimate & lower & upper\\\\\n\\hline\n\tExposed1 & 1.0000000 &       NA &       NA\\\\\n\tExposed2 & 0.9763436 & 0.951627 & 1.001702\\\\\n\\end{tabular}\n\n\\item[\\$p.value] A matrix: 2 × 3 of type dbl\n\\begin{tabular}{r|lll}\n  & midp.exact & fisher.exact & chi.square\\\\\n\\hline\n\tExposed1 &         NA &         NA &         NA\\\\\n\tExposed2 & 0.06733664 & 0.06821232 & 0.06731524\\\\\n\\end{tabular}\n\n\\item[\\$correction] FALSE\n\\end{description}\n",
            "text/plain": [
              "$data\n",
              "          Outcome\n",
              "Predictor  Disease1 Disease2 Total\n",
              "  Exposed1     6894     6138 13032\n",
              "  Exposed2     7467     6357 13824\n",
              "  Total       14361    12495 26856\n",
              "\n",
              "$measure\n",
              "          risk ratio with 95% C.I.\n",
              "Predictor   estimate    lower    upper\n",
              "  Exposed1 1.0000000       NA       NA\n",
              "  Exposed2 0.9763436 0.951627 1.001702\n",
              "\n",
              "$p.value\n",
              "          two-sided\n",
              "Predictor  midp.exact fisher.exact chi.square\n",
              "  Exposed1         NA           NA         NA\n",
              "  Exposed2 0.06733664   0.06821232 0.06731524\n",
              "\n",
              "$correction\n",
              "[1] FALSE\n",
              "\n",
              "attr(,\"method\")\n",
              "[1] \"Unconditional MLE & normal approximation (Wald) CI\""
            ]
          },
          "metadata": {}
        },
        {
          "output_type": "display_data",
          "data": {
            "text/html": [
              "<dl>\n",
              "\t<dt>$data</dt>\n",
              "\t\t<dd><table class=\"dataframe\">\n",
              "<caption>A matrix: 3 × 3 of type dbl</caption>\n",
              "<thead>\n",
              "\t<tr><th></th><th scope=col>Disease1</th><th scope=col>Disease2</th><th scope=col>Total</th></tr>\n",
              "</thead>\n",
              "<tbody>\n",
              "\t<tr><th scope=row>Exposed1</th><td> 9711</td><td>3321</td><td>13032</td></tr>\n",
              "\t<tr><th scope=row>Exposed2</th><td>10234</td><td>3590</td><td>13824</td></tr>\n",
              "\t<tr><th scope=row>Total</th><td>19945</td><td>6911</td><td>26856</td></tr>\n",
              "</tbody>\n",
              "</table>\n",
              "</dd>\n",
              "\t<dt>$measure</dt>\n",
              "\t\t<dd><table class=\"dataframe\">\n",
              "<caption>A matrix: 2 × 3 of type dbl</caption>\n",
              "<thead>\n",
              "\t<tr><th></th><th scope=col>estimate</th><th scope=col>lower</th><th scope=col>upper</th></tr>\n",
              "</thead>\n",
              "<tbody>\n",
              "\t<tr><th scope=row>Exposed1</th><td>1.000000</td><td>       NA</td><td>      NA</td></tr>\n",
              "\t<tr><th scope=row>Exposed2</th><td>1.019067</td><td>0.9784527</td><td>1.061368</td></tr>\n",
              "</tbody>\n",
              "</table>\n",
              "</dd>\n",
              "\t<dt>$p.value</dt>\n",
              "\t\t<dd><table class=\"dataframe\">\n",
              "<caption>A matrix: 2 × 3 of type dbl</caption>\n",
              "<thead>\n",
              "\t<tr><th></th><th scope=col>midp.exact</th><th scope=col>fisher.exact</th><th scope=col>chi.square</th></tr>\n",
              "</thead>\n",
              "<tbody>\n",
              "\t<tr><th scope=row>Exposed1</th><td>       NA</td><td>       NA</td><td>       NA</td></tr>\n",
              "\t<tr><th scope=row>Exposed2</th><td>0.3626946</td><td>0.3640763</td><td>0.3626412</td></tr>\n",
              "</tbody>\n",
              "</table>\n",
              "</dd>\n",
              "\t<dt>$correction</dt>\n",
              "\t\t<dd>FALSE</dd>\n",
              "</dl>\n"
            ],
            "text/markdown": "$data\n:   \nA matrix: 3 × 3 of type dbl\n\n| <!--/--> | Disease1 | Disease2 | Total |\n|---|---|---|---|\n| Exposed1 |  9711 | 3321 | 13032 |\n| Exposed2 | 10234 | 3590 | 13824 |\n| Total | 19945 | 6911 | 26856 |\n\n\n$measure\n:   \nA matrix: 2 × 3 of type dbl\n\n| <!--/--> | estimate | lower | upper |\n|---|---|---|---|\n| Exposed1 | 1.000000 |        NA |       NA |\n| Exposed2 | 1.019067 | 0.9784527 | 1.061368 |\n\n\n$p.value\n:   \nA matrix: 2 × 3 of type dbl\n\n| <!--/--> | midp.exact | fisher.exact | chi.square |\n|---|---|---|---|\n| Exposed1 |        NA |        NA |        NA |\n| Exposed2 | 0.3626946 | 0.3640763 | 0.3626412 |\n\n\n$correction\n:   FALSE\n\n\n",
            "text/latex": "\\begin{description}\n\\item[\\$data] A matrix: 3 × 3 of type dbl\n\\begin{tabular}{r|lll}\n  & Disease1 & Disease2 & Total\\\\\n\\hline\n\tExposed1 &  9711 & 3321 & 13032\\\\\n\tExposed2 & 10234 & 3590 & 13824\\\\\n\tTotal & 19945 & 6911 & 26856\\\\\n\\end{tabular}\n\n\\item[\\$measure] A matrix: 2 × 3 of type dbl\n\\begin{tabular}{r|lll}\n  & estimate & lower & upper\\\\\n\\hline\n\tExposed1 & 1.000000 &        NA &       NA\\\\\n\tExposed2 & 1.019067 & 0.9784527 & 1.061368\\\\\n\\end{tabular}\n\n\\item[\\$p.value] A matrix: 2 × 3 of type dbl\n\\begin{tabular}{r|lll}\n  & midp.exact & fisher.exact & chi.square\\\\\n\\hline\n\tExposed1 &        NA &        NA &        NA\\\\\n\tExposed2 & 0.3626946 & 0.3640763 & 0.3626412\\\\\n\\end{tabular}\n\n\\item[\\$correction] FALSE\n\\end{description}\n",
            "text/plain": [
              "$data\n",
              "          Outcome\n",
              "Predictor  Disease1 Disease2 Total\n",
              "  Exposed1     9711     3321 13032\n",
              "  Exposed2    10234     3590 13824\n",
              "  Total       19945     6911 26856\n",
              "\n",
              "$measure\n",
              "          risk ratio with 95% C.I.\n",
              "Predictor  estimate     lower    upper\n",
              "  Exposed1 1.000000        NA       NA\n",
              "  Exposed2 1.019067 0.9784527 1.061368\n",
              "\n",
              "$p.value\n",
              "          two-sided\n",
              "Predictor  midp.exact fisher.exact chi.square\n",
              "  Exposed1         NA           NA         NA\n",
              "  Exposed2  0.3626946    0.3640763  0.3626412\n",
              "\n",
              "$correction\n",
              "[1] FALSE\n",
              "\n",
              "attr(,\"method\")\n",
              "[1] \"Unconditional MLE & normal approximation (Wald) CI\""
            ]
          },
          "metadata": {}
        },
        {
          "output_type": "display_data",
          "data": {
            "text/html": [
              "<dl>\n",
              "\t<dt>$data</dt>\n",
              "\t\t<dd><table class=\"dataframe\">\n",
              "<caption>A matrix: 3 × 3 of type dbl</caption>\n",
              "<thead>\n",
              "\t<tr><th></th><th scope=col>Disease1</th><th scope=col>Disease2</th><th scope=col>Total</th></tr>\n",
              "</thead>\n",
              "<tbody>\n",
              "\t<tr><th scope=row>Exposed1</th><td> 9459</td><td>3573</td><td>13032</td></tr>\n",
              "\t<tr><th scope=row>Exposed2</th><td> 9947</td><td>3877</td><td>13824</td></tr>\n",
              "\t<tr><th scope=row>Total</th><td>19406</td><td>7450</td><td>26856</td></tr>\n",
              "</tbody>\n",
              "</table>\n",
              "</dd>\n",
              "\t<dt>$measure</dt>\n",
              "\t\t<dd><table class=\"dataframe\">\n",
              "<caption>A matrix: 2 × 3 of type dbl</caption>\n",
              "<thead>\n",
              "\t<tr><th></th><th scope=col>estimate</th><th scope=col>lower</th><th scope=col>upper</th></tr>\n",
              "</thead>\n",
              "<tbody>\n",
              "\t<tr><th scope=row>Exposed1</th><td>1.000000</td><td>       NA</td><td>      NA</td></tr>\n",
              "\t<tr><th scope=row>Exposed2</th><td>1.022916</td><td>0.9841414</td><td>1.063219</td></tr>\n",
              "</tbody>\n",
              "</table>\n",
              "</dd>\n",
              "\t<dt>$p.value</dt>\n",
              "\t\t<dd><table class=\"dataframe\">\n",
              "<caption>A matrix: 2 × 3 of type dbl</caption>\n",
              "<thead>\n",
              "\t<tr><th></th><th scope=col>midp.exact</th><th scope=col>fisher.exact</th><th scope=col>chi.square</th></tr>\n",
              "</thead>\n",
              "<tbody>\n",
              "\t<tr><th scope=row>Exposed1</th><td>       NA</td><td>       NA</td><td>       NA</td></tr>\n",
              "\t<tr><th scope=row>Exposed2</th><td>0.2504333</td><td>0.2520807</td><td>0.2503981</td></tr>\n",
              "</tbody>\n",
              "</table>\n",
              "</dd>\n",
              "\t<dt>$correction</dt>\n",
              "\t\t<dd>FALSE</dd>\n",
              "</dl>\n"
            ],
            "text/markdown": "$data\n:   \nA matrix: 3 × 3 of type dbl\n\n| <!--/--> | Disease1 | Disease2 | Total |\n|---|---|---|---|\n| Exposed1 |  9459 | 3573 | 13032 |\n| Exposed2 |  9947 | 3877 | 13824 |\n| Total | 19406 | 7450 | 26856 |\n\n\n$measure\n:   \nA matrix: 2 × 3 of type dbl\n\n| <!--/--> | estimate | lower | upper |\n|---|---|---|---|\n| Exposed1 | 1.000000 |        NA |       NA |\n| Exposed2 | 1.022916 | 0.9841414 | 1.063219 |\n\n\n$p.value\n:   \nA matrix: 2 × 3 of type dbl\n\n| <!--/--> | midp.exact | fisher.exact | chi.square |\n|---|---|---|---|\n| Exposed1 |        NA |        NA |        NA |\n| Exposed2 | 0.2504333 | 0.2520807 | 0.2503981 |\n\n\n$correction\n:   FALSE\n\n\n",
            "text/latex": "\\begin{description}\n\\item[\\$data] A matrix: 3 × 3 of type dbl\n\\begin{tabular}{r|lll}\n  & Disease1 & Disease2 & Total\\\\\n\\hline\n\tExposed1 &  9459 & 3573 & 13032\\\\\n\tExposed2 &  9947 & 3877 & 13824\\\\\n\tTotal & 19406 & 7450 & 26856\\\\\n\\end{tabular}\n\n\\item[\\$measure] A matrix: 2 × 3 of type dbl\n\\begin{tabular}{r|lll}\n  & estimate & lower & upper\\\\\n\\hline\n\tExposed1 & 1.000000 &        NA &       NA\\\\\n\tExposed2 & 1.022916 & 0.9841414 & 1.063219\\\\\n\\end{tabular}\n\n\\item[\\$p.value] A matrix: 2 × 3 of type dbl\n\\begin{tabular}{r|lll}\n  & midp.exact & fisher.exact & chi.square\\\\\n\\hline\n\tExposed1 &        NA &        NA &        NA\\\\\n\tExposed2 & 0.2504333 & 0.2520807 & 0.2503981\\\\\n\\end{tabular}\n\n\\item[\\$correction] FALSE\n\\end{description}\n",
            "text/plain": [
              "$data\n",
              "          Outcome\n",
              "Predictor  Disease1 Disease2 Total\n",
              "  Exposed1     9459     3573 13032\n",
              "  Exposed2     9947     3877 13824\n",
              "  Total       19406     7450 26856\n",
              "\n",
              "$measure\n",
              "          risk ratio with 95% C.I.\n",
              "Predictor  estimate     lower    upper\n",
              "  Exposed1 1.000000        NA       NA\n",
              "  Exposed2 1.022916 0.9841414 1.063219\n",
              "\n",
              "$p.value\n",
              "          two-sided\n",
              "Predictor  midp.exact fisher.exact chi.square\n",
              "  Exposed1         NA           NA         NA\n",
              "  Exposed2  0.2504333    0.2520807  0.2503981\n",
              "\n",
              "$correction\n",
              "[1] FALSE\n",
              "\n",
              "attr(,\"method\")\n",
              "[1] \"Unconditional MLE & normal approximation (Wald) CI\""
            ]
          },
          "metadata": {}
        },
        {
          "output_type": "display_data",
          "data": {
            "text/html": [
              "<dl>\n",
              "\t<dt>$data</dt>\n",
              "\t\t<dd><table class=\"dataframe\">\n",
              "<caption>A matrix: 3 × 3 of type dbl</caption>\n",
              "<thead>\n",
              "\t<tr><th></th><th scope=col>Disease1</th><th scope=col>Disease2</th><th scope=col>Total</th></tr>\n",
              "</thead>\n",
              "<tbody>\n",
              "\t<tr><th scope=row>Exposed1</th><td> 6179</td><td> 6853</td><td>13032</td></tr>\n",
              "\t<tr><th scope=row>Exposed2</th><td> 5912</td><td> 7912</td><td>13824</td></tr>\n",
              "\t<tr><th scope=row>Total</th><td>12091</td><td>14765</td><td>26856</td></tr>\n",
              "</tbody>\n",
              "</table>\n",
              "</dd>\n",
              "\t<dt>$measure</dt>\n",
              "\t\t<dd><table class=\"dataframe\">\n",
              "<caption>A matrix: 2 × 3 of type dbl</caption>\n",
              "<thead>\n",
              "\t<tr><th></th><th scope=col>estimate</th><th scope=col>lower</th><th scope=col>upper</th></tr>\n",
              "</thead>\n",
              "<tbody>\n",
              "\t<tr><th scope=row>Exposed1</th><td>1.000000</td><td>     NA</td><td>      NA</td></tr>\n",
              "\t<tr><th scope=row>Exposed2</th><td>1.088386</td><td>1.06496</td><td>1.112327</td></tr>\n",
              "</tbody>\n",
              "</table>\n",
              "</dd>\n",
              "\t<dt>$p.value</dt>\n",
              "\t\t<dd><table class=\"dataframe\">\n",
              "<caption>A matrix: 2 × 3 of type dbl</caption>\n",
              "<thead>\n",
              "\t<tr><th></th><th scope=col>midp.exact</th><th scope=col>fisher.exact</th><th scope=col>chi.square</th></tr>\n",
              "</thead>\n",
              "<tbody>\n",
              "\t<tr><th scope=row>Exposed1</th><td>          NA</td><td>          NA</td><td>          NA</td></tr>\n",
              "\t<tr><th scope=row>Exposed2</th><td>1.998401e-14</td><td>2.076482e-14</td><td>1.986178e-14</td></tr>\n",
              "</tbody>\n",
              "</table>\n",
              "</dd>\n",
              "\t<dt>$correction</dt>\n",
              "\t\t<dd>FALSE</dd>\n",
              "</dl>\n"
            ],
            "text/markdown": "$data\n:   \nA matrix: 3 × 3 of type dbl\n\n| <!--/--> | Disease1 | Disease2 | Total |\n|---|---|---|---|\n| Exposed1 |  6179 |  6853 | 13032 |\n| Exposed2 |  5912 |  7912 | 13824 |\n| Total | 12091 | 14765 | 26856 |\n\n\n$measure\n:   \nA matrix: 2 × 3 of type dbl\n\n| <!--/--> | estimate | lower | upper |\n|---|---|---|---|\n| Exposed1 | 1.000000 |      NA |       NA |\n| Exposed2 | 1.088386 | 1.06496 | 1.112327 |\n\n\n$p.value\n:   \nA matrix: 2 × 3 of type dbl\n\n| <!--/--> | midp.exact | fisher.exact | chi.square |\n|---|---|---|---|\n| Exposed1 |           NA |           NA |           NA |\n| Exposed2 | 1.998401e-14 | 2.076482e-14 | 1.986178e-14 |\n\n\n$correction\n:   FALSE\n\n\n",
            "text/latex": "\\begin{description}\n\\item[\\$data] A matrix: 3 × 3 of type dbl\n\\begin{tabular}{r|lll}\n  & Disease1 & Disease2 & Total\\\\\n\\hline\n\tExposed1 &  6179 &  6853 & 13032\\\\\n\tExposed2 &  5912 &  7912 & 13824\\\\\n\tTotal & 12091 & 14765 & 26856\\\\\n\\end{tabular}\n\n\\item[\\$measure] A matrix: 2 × 3 of type dbl\n\\begin{tabular}{r|lll}\n  & estimate & lower & upper\\\\\n\\hline\n\tExposed1 & 1.000000 &      NA &       NA\\\\\n\tExposed2 & 1.088386 & 1.06496 & 1.112327\\\\\n\\end{tabular}\n\n\\item[\\$p.value] A matrix: 2 × 3 of type dbl\n\\begin{tabular}{r|lll}\n  & midp.exact & fisher.exact & chi.square\\\\\n\\hline\n\tExposed1 &           NA &           NA &           NA\\\\\n\tExposed2 & 1.998401e-14 & 2.076482e-14 & 1.986178e-14\\\\\n\\end{tabular}\n\n\\item[\\$correction] FALSE\n\\end{description}\n",
            "text/plain": [
              "$data\n",
              "          Outcome\n",
              "Predictor  Disease1 Disease2 Total\n",
              "  Exposed1     6179     6853 13032\n",
              "  Exposed2     5912     7912 13824\n",
              "  Total       12091    14765 26856\n",
              "\n",
              "$measure\n",
              "          risk ratio with 95% C.I.\n",
              "Predictor  estimate   lower    upper\n",
              "  Exposed1 1.000000      NA       NA\n",
              "  Exposed2 1.088386 1.06496 1.112327\n",
              "\n",
              "$p.value\n",
              "          two-sided\n",
              "Predictor    midp.exact fisher.exact   chi.square\n",
              "  Exposed1           NA           NA           NA\n",
              "  Exposed2 1.998401e-14 2.076482e-14 1.986178e-14\n",
              "\n",
              "$correction\n",
              "[1] FALSE\n",
              "\n",
              "attr(,\"method\")\n",
              "[1] \"Unconditional MLE & normal approximation (Wald) CI\""
            ]
          },
          "metadata": {}
        },
        {
          "output_type": "display_data",
          "data": {
            "text/html": [
              "<dl>\n",
              "\t<dt>$data</dt>\n",
              "\t\t<dd><table class=\"dataframe\">\n",
              "<caption>A matrix: 3 × 3 of type dbl</caption>\n",
              "<thead>\n",
              "\t<tr><th></th><th scope=col>Disease1</th><th scope=col>Disease2</th><th scope=col>Total</th></tr>\n",
              "</thead>\n",
              "<tbody>\n",
              "\t<tr><th scope=row>Exposed1</th><td> 8945</td><td>4087</td><td>13032</td></tr>\n",
              "\t<tr><th scope=row>Exposed2</th><td> 9690</td><td>4134</td><td>13824</td></tr>\n",
              "\t<tr><th scope=row>Total</th><td>18635</td><td>8221</td><td>26856</td></tr>\n",
              "</tbody>\n",
              "</table>\n",
              "</dd>\n",
              "\t<dt>$measure</dt>\n",
              "\t\t<dd><table class=\"dataframe\">\n",
              "<caption>A matrix: 2 × 3 of type dbl</caption>\n",
              "<thead>\n",
              "\t<tr><th></th><th scope=col>estimate</th><th scope=col>lower</th><th scope=col>upper</th></tr>\n",
              "</thead>\n",
              "<tbody>\n",
              "\t<tr><th scope=row>Exposed1</th><td>1.0000000</td><td>       NA</td><td>       NA</td></tr>\n",
              "\t<tr><th scope=row>Exposed2</th><td>0.9535494</td><td>0.9198257</td><td>0.9885094</td></tr>\n",
              "</tbody>\n",
              "</table>\n",
              "</dd>\n",
              "\t<dt>$p.value</dt>\n",
              "\t\t<dd><table class=\"dataframe\">\n",
              "<caption>A matrix: 2 × 3 of type dbl</caption>\n",
              "<thead>\n",
              "\t<tr><th></th><th scope=col>midp.exact</th><th scope=col>fisher.exact</th><th scope=col>chi.square</th></tr>\n",
              "</thead>\n",
              "<tbody>\n",
              "\t<tr><th scope=row>Exposed1</th><td>         NA</td><td>         NA</td><td>         NA</td></tr>\n",
              "\t<tr><th scope=row>Exposed2</th><td>0.009642852</td><td>0.009795644</td><td>0.009630639</td></tr>\n",
              "</tbody>\n",
              "</table>\n",
              "</dd>\n",
              "\t<dt>$correction</dt>\n",
              "\t\t<dd>FALSE</dd>\n",
              "</dl>\n"
            ],
            "text/markdown": "$data\n:   \nA matrix: 3 × 3 of type dbl\n\n| <!--/--> | Disease1 | Disease2 | Total |\n|---|---|---|---|\n| Exposed1 |  8945 | 4087 | 13032 |\n| Exposed2 |  9690 | 4134 | 13824 |\n| Total | 18635 | 8221 | 26856 |\n\n\n$measure\n:   \nA matrix: 2 × 3 of type dbl\n\n| <!--/--> | estimate | lower | upper |\n|---|---|---|---|\n| Exposed1 | 1.0000000 |        NA |        NA |\n| Exposed2 | 0.9535494 | 0.9198257 | 0.9885094 |\n\n\n$p.value\n:   \nA matrix: 2 × 3 of type dbl\n\n| <!--/--> | midp.exact | fisher.exact | chi.square |\n|---|---|---|---|\n| Exposed1 |          NA |          NA |          NA |\n| Exposed2 | 0.009642852 | 0.009795644 | 0.009630639 |\n\n\n$correction\n:   FALSE\n\n\n",
            "text/latex": "\\begin{description}\n\\item[\\$data] A matrix: 3 × 3 of type dbl\n\\begin{tabular}{r|lll}\n  & Disease1 & Disease2 & Total\\\\\n\\hline\n\tExposed1 &  8945 & 4087 & 13032\\\\\n\tExposed2 &  9690 & 4134 & 13824\\\\\n\tTotal & 18635 & 8221 & 26856\\\\\n\\end{tabular}\n\n\\item[\\$measure] A matrix: 2 × 3 of type dbl\n\\begin{tabular}{r|lll}\n  & estimate & lower & upper\\\\\n\\hline\n\tExposed1 & 1.0000000 &        NA &        NA\\\\\n\tExposed2 & 0.9535494 & 0.9198257 & 0.9885094\\\\\n\\end{tabular}\n\n\\item[\\$p.value] A matrix: 2 × 3 of type dbl\n\\begin{tabular}{r|lll}\n  & midp.exact & fisher.exact & chi.square\\\\\n\\hline\n\tExposed1 &          NA &          NA &          NA\\\\\n\tExposed2 & 0.009642852 & 0.009795644 & 0.009630639\\\\\n\\end{tabular}\n\n\\item[\\$correction] FALSE\n\\end{description}\n",
            "text/plain": [
              "$data\n",
              "          Outcome\n",
              "Predictor  Disease1 Disease2 Total\n",
              "  Exposed1     8945     4087 13032\n",
              "  Exposed2     9690     4134 13824\n",
              "  Total       18635     8221 26856\n",
              "\n",
              "$measure\n",
              "          risk ratio with 95% C.I.\n",
              "Predictor   estimate     lower     upper\n",
              "  Exposed1 1.0000000        NA        NA\n",
              "  Exposed2 0.9535494 0.9198257 0.9885094\n",
              "\n",
              "$p.value\n",
              "          two-sided\n",
              "Predictor   midp.exact fisher.exact  chi.square\n",
              "  Exposed1          NA           NA          NA\n",
              "  Exposed2 0.009642852  0.009795644 0.009630639\n",
              "\n",
              "$correction\n",
              "[1] FALSE\n",
              "\n",
              "attr(,\"method\")\n",
              "[1] \"Unconditional MLE & normal approximation (Wald) CI\""
            ]
          },
          "metadata": {}
        },
        {
          "output_type": "display_data",
          "data": {
            "text/html": [
              "<dl>\n",
              "\t<dt>$data</dt>\n",
              "\t\t<dd><table class=\"dataframe\">\n",
              "<caption>A matrix: 3 × 3 of type dbl</caption>\n",
              "<thead>\n",
              "\t<tr><th></th><th scope=col>Disease1</th><th scope=col>Disease2</th><th scope=col>Total</th></tr>\n",
              "</thead>\n",
              "<tbody>\n",
              "\t<tr><th scope=row>Exposed1</th><td>12932</td><td>100</td><td>13032</td></tr>\n",
              "\t<tr><th scope=row>Exposed2</th><td>13730</td><td> 94</td><td>13824</td></tr>\n",
              "\t<tr><th scope=row>Total</th><td>26662</td><td>194</td><td>26856</td></tr>\n",
              "</tbody>\n",
              "</table>\n",
              "</dd>\n",
              "\t<dt>$measure</dt>\n",
              "\t\t<dd><table class=\"dataframe\">\n",
              "<caption>A matrix: 2 × 3 of type dbl</caption>\n",
              "<thead>\n",
              "\t<tr><th></th><th scope=col>estimate</th><th scope=col>lower</th><th scope=col>upper</th></tr>\n",
              "</thead>\n",
              "<tbody>\n",
              "\t<tr><th scope=row>Exposed1</th><td>1.0000000</td><td>       NA</td><td>      NA</td></tr>\n",
              "\t<tr><th scope=row>Exposed2</th><td>0.8861458</td><td>0.6693661</td><td>1.173131</td></tr>\n",
              "</tbody>\n",
              "</table>\n",
              "</dd>\n",
              "\t<dt>$p.value</dt>\n",
              "\t\t<dd><table class=\"dataframe\">\n",
              "<caption>A matrix: 2 × 3 of type dbl</caption>\n",
              "<thead>\n",
              "\t<tr><th></th><th scope=col>midp.exact</th><th scope=col>fisher.exact</th><th scope=col>chi.square</th></tr>\n",
              "</thead>\n",
              "<tbody>\n",
              "\t<tr><th scope=row>Exposed1</th><td>       NA</td><td>       NA</td><td>       NA</td></tr>\n",
              "\t<tr><th scope=row>Exposed2</th><td>0.3993038</td><td>0.4279488</td><td>0.3981358</td></tr>\n",
              "</tbody>\n",
              "</table>\n",
              "</dd>\n",
              "\t<dt>$correction</dt>\n",
              "\t\t<dd>FALSE</dd>\n",
              "</dl>\n"
            ],
            "text/markdown": "$data\n:   \nA matrix: 3 × 3 of type dbl\n\n| <!--/--> | Disease1 | Disease2 | Total |\n|---|---|---|---|\n| Exposed1 | 12932 | 100 | 13032 |\n| Exposed2 | 13730 |  94 | 13824 |\n| Total | 26662 | 194 | 26856 |\n\n\n$measure\n:   \nA matrix: 2 × 3 of type dbl\n\n| <!--/--> | estimate | lower | upper |\n|---|---|---|---|\n| Exposed1 | 1.0000000 |        NA |       NA |\n| Exposed2 | 0.8861458 | 0.6693661 | 1.173131 |\n\n\n$p.value\n:   \nA matrix: 2 × 3 of type dbl\n\n| <!--/--> | midp.exact | fisher.exact | chi.square |\n|---|---|---|---|\n| Exposed1 |        NA |        NA |        NA |\n| Exposed2 | 0.3993038 | 0.4279488 | 0.3981358 |\n\n\n$correction\n:   FALSE\n\n\n",
            "text/latex": "\\begin{description}\n\\item[\\$data] A matrix: 3 × 3 of type dbl\n\\begin{tabular}{r|lll}\n  & Disease1 & Disease2 & Total\\\\\n\\hline\n\tExposed1 & 12932 & 100 & 13032\\\\\n\tExposed2 & 13730 &  94 & 13824\\\\\n\tTotal & 26662 & 194 & 26856\\\\\n\\end{tabular}\n\n\\item[\\$measure] A matrix: 2 × 3 of type dbl\n\\begin{tabular}{r|lll}\n  & estimate & lower & upper\\\\\n\\hline\n\tExposed1 & 1.0000000 &        NA &       NA\\\\\n\tExposed2 & 0.8861458 & 0.6693661 & 1.173131\\\\\n\\end{tabular}\n\n\\item[\\$p.value] A matrix: 2 × 3 of type dbl\n\\begin{tabular}{r|lll}\n  & midp.exact & fisher.exact & chi.square\\\\\n\\hline\n\tExposed1 &        NA &        NA &        NA\\\\\n\tExposed2 & 0.3993038 & 0.4279488 & 0.3981358\\\\\n\\end{tabular}\n\n\\item[\\$correction] FALSE\n\\end{description}\n",
            "text/plain": [
              "$data\n",
              "          Outcome\n",
              "Predictor  Disease1 Disease2 Total\n",
              "  Exposed1    12932      100 13032\n",
              "  Exposed2    13730       94 13824\n",
              "  Total       26662      194 26856\n",
              "\n",
              "$measure\n",
              "          risk ratio with 95% C.I.\n",
              "Predictor   estimate     lower    upper\n",
              "  Exposed1 1.0000000        NA       NA\n",
              "  Exposed2 0.8861458 0.6693661 1.173131\n",
              "\n",
              "$p.value\n",
              "          two-sided\n",
              "Predictor  midp.exact fisher.exact chi.square\n",
              "  Exposed1         NA           NA         NA\n",
              "  Exposed2  0.3993038    0.4279488  0.3981358\n",
              "\n",
              "$correction\n",
              "[1] FALSE\n",
              "\n",
              "attr(,\"method\")\n",
              "[1] \"Unconditional MLE & normal approximation (Wald) CI\""
            ]
          },
          "metadata": {}
        },
        {
          "output_type": "display_data",
          "data": {
            "text/html": [
              "<dl>\n",
              "\t<dt>$data</dt>\n",
              "\t\t<dd><table class=\"dataframe\">\n",
              "<caption>A matrix: 3 × 3 of type dbl</caption>\n",
              "<thead>\n",
              "\t<tr><th></th><th scope=col>Disease1</th><th scope=col>Disease2</th><th scope=col>Total</th></tr>\n",
              "</thead>\n",
              "<tbody>\n",
              "\t<tr><th scope=row>Exposed1</th><td>12125</td><td> 907</td><td>13032</td></tr>\n",
              "\t<tr><th scope=row>Exposed2</th><td>12878</td><td> 946</td><td>13824</td></tr>\n",
              "\t<tr><th scope=row>Total</th><td>25003</td><td>1853</td><td>26856</td></tr>\n",
              "</tbody>\n",
              "</table>\n",
              "</dd>\n",
              "\t<dt>$measure</dt>\n",
              "\t\t<dd><table class=\"dataframe\">\n",
              "<caption>A matrix: 2 × 3 of type dbl</caption>\n",
              "<thead>\n",
              "\t<tr><th></th><th scope=col>estimate</th><th scope=col>lower</th><th scope=col>upper</th></tr>\n",
              "</thead>\n",
              "<tbody>\n",
              "\t<tr><th scope=row>Exposed1</th><td>1.0000000</td><td>       NA</td><td>      NA</td></tr>\n",
              "\t<tr><th scope=row>Exposed2</th><td>0.9832438</td><td>0.9005215</td><td>1.073565</td></tr>\n",
              "</tbody>\n",
              "</table>\n",
              "</dd>\n",
              "\t<dt>$p.value</dt>\n",
              "\t\t<dd><table class=\"dataframe\">\n",
              "<caption>A matrix: 2 × 3 of type dbl</caption>\n",
              "<thead>\n",
              "\t<tr><th></th><th scope=col>midp.exact</th><th scope=col>fisher.exact</th><th scope=col>chi.square</th></tr>\n",
              "</thead>\n",
              "<tbody>\n",
              "\t<tr><th scope=row>Exposed1</th><td>       NA</td><td>       NA</td><td>       NA</td></tr>\n",
              "\t<tr><th scope=row>Exposed2</th><td>0.7062367</td><td>0.7178934</td><td>0.7062762</td></tr>\n",
              "</tbody>\n",
              "</table>\n",
              "</dd>\n",
              "\t<dt>$correction</dt>\n",
              "\t\t<dd>FALSE</dd>\n",
              "</dl>\n"
            ],
            "text/markdown": "$data\n:   \nA matrix: 3 × 3 of type dbl\n\n| <!--/--> | Disease1 | Disease2 | Total |\n|---|---|---|---|\n| Exposed1 | 12125 |  907 | 13032 |\n| Exposed2 | 12878 |  946 | 13824 |\n| Total | 25003 | 1853 | 26856 |\n\n\n$measure\n:   \nA matrix: 2 × 3 of type dbl\n\n| <!--/--> | estimate | lower | upper |\n|---|---|---|---|\n| Exposed1 | 1.0000000 |        NA |       NA |\n| Exposed2 | 0.9832438 | 0.9005215 | 1.073565 |\n\n\n$p.value\n:   \nA matrix: 2 × 3 of type dbl\n\n| <!--/--> | midp.exact | fisher.exact | chi.square |\n|---|---|---|---|\n| Exposed1 |        NA |        NA |        NA |\n| Exposed2 | 0.7062367 | 0.7178934 | 0.7062762 |\n\n\n$correction\n:   FALSE\n\n\n",
            "text/latex": "\\begin{description}\n\\item[\\$data] A matrix: 3 × 3 of type dbl\n\\begin{tabular}{r|lll}\n  & Disease1 & Disease2 & Total\\\\\n\\hline\n\tExposed1 & 12125 &  907 & 13032\\\\\n\tExposed2 & 12878 &  946 & 13824\\\\\n\tTotal & 25003 & 1853 & 26856\\\\\n\\end{tabular}\n\n\\item[\\$measure] A matrix: 2 × 3 of type dbl\n\\begin{tabular}{r|lll}\n  & estimate & lower & upper\\\\\n\\hline\n\tExposed1 & 1.0000000 &        NA &       NA\\\\\n\tExposed2 & 0.9832438 & 0.9005215 & 1.073565\\\\\n\\end{tabular}\n\n\\item[\\$p.value] A matrix: 2 × 3 of type dbl\n\\begin{tabular}{r|lll}\n  & midp.exact & fisher.exact & chi.square\\\\\n\\hline\n\tExposed1 &        NA &        NA &        NA\\\\\n\tExposed2 & 0.7062367 & 0.7178934 & 0.7062762\\\\\n\\end{tabular}\n\n\\item[\\$correction] FALSE\n\\end{description}\n",
            "text/plain": [
              "$data\n",
              "          Outcome\n",
              "Predictor  Disease1 Disease2 Total\n",
              "  Exposed1    12125      907 13032\n",
              "  Exposed2    12878      946 13824\n",
              "  Total       25003     1853 26856\n",
              "\n",
              "$measure\n",
              "          risk ratio with 95% C.I.\n",
              "Predictor   estimate     lower    upper\n",
              "  Exposed1 1.0000000        NA       NA\n",
              "  Exposed2 0.9832438 0.9005215 1.073565\n",
              "\n",
              "$p.value\n",
              "          two-sided\n",
              "Predictor  midp.exact fisher.exact chi.square\n",
              "  Exposed1         NA           NA         NA\n",
              "  Exposed2  0.7062367    0.7178934  0.7062762\n",
              "\n",
              "$correction\n",
              "[1] FALSE\n",
              "\n",
              "attr(,\"method\")\n",
              "[1] \"Unconditional MLE & normal approximation (Wald) CI\""
            ]
          },
          "metadata": {}
        },
        {
          "output_type": "display_data",
          "data": {
            "text/html": [
              "<dl>\n",
              "\t<dt>$data</dt>\n",
              "\t\t<dd><table class=\"dataframe\">\n",
              "<caption>A matrix: 3 × 3 of type dbl</caption>\n",
              "<thead>\n",
              "\t<tr><th></th><th scope=col>Disease1</th><th scope=col>Disease2</th><th scope=col>Total</th></tr>\n",
              "</thead>\n",
              "<tbody>\n",
              "\t<tr><th scope=row>Exposed1</th><td>12977</td><td> 55</td><td>13032</td></tr>\n",
              "\t<tr><th scope=row>Exposed2</th><td>13779</td><td> 45</td><td>13824</td></tr>\n",
              "\t<tr><th scope=row>Total</th><td>26756</td><td>100</td><td>26856</td></tr>\n",
              "</tbody>\n",
              "</table>\n",
              "</dd>\n",
              "\t<dt>$measure</dt>\n",
              "\t\t<dd><table class=\"dataframe\">\n",
              "<caption>A matrix: 2 × 3 of type dbl</caption>\n",
              "<thead>\n",
              "\t<tr><th></th><th scope=col>estimate</th><th scope=col>lower</th><th scope=col>upper</th></tr>\n",
              "</thead>\n",
              "<tbody>\n",
              "\t<tr><th scope=row>Exposed1</th><td>1.0000000</td><td>       NA</td><td>      NA</td></tr>\n",
              "\t<tr><th scope=row>Exposed2</th><td>0.7713068</td><td>0.5205293</td><td>1.142903</td></tr>\n",
              "</tbody>\n",
              "</table>\n",
              "</dd>\n",
              "\t<dt>$p.value</dt>\n",
              "\t\t<dd><table class=\"dataframe\">\n",
              "<caption>A matrix: 2 × 3 of type dbl</caption>\n",
              "<thead>\n",
              "\t<tr><th></th><th scope=col>midp.exact</th><th scope=col>fisher.exact</th><th scope=col>chi.square</th></tr>\n",
              "</thead>\n",
              "<tbody>\n",
              "\t<tr><th scope=row>Exposed1</th><td>       NA</td><td>       NA</td><td>       NA</td></tr>\n",
              "\t<tr><th scope=row>Exposed2</th><td>0.1965406</td><td>0.2289012</td><td>0.1943257</td></tr>\n",
              "</tbody>\n",
              "</table>\n",
              "</dd>\n",
              "\t<dt>$correction</dt>\n",
              "\t\t<dd>FALSE</dd>\n",
              "</dl>\n"
            ],
            "text/markdown": "$data\n:   \nA matrix: 3 × 3 of type dbl\n\n| <!--/--> | Disease1 | Disease2 | Total |\n|---|---|---|---|\n| Exposed1 | 12977 |  55 | 13032 |\n| Exposed2 | 13779 |  45 | 13824 |\n| Total | 26756 | 100 | 26856 |\n\n\n$measure\n:   \nA matrix: 2 × 3 of type dbl\n\n| <!--/--> | estimate | lower | upper |\n|---|---|---|---|\n| Exposed1 | 1.0000000 |        NA |       NA |\n| Exposed2 | 0.7713068 | 0.5205293 | 1.142903 |\n\n\n$p.value\n:   \nA matrix: 2 × 3 of type dbl\n\n| <!--/--> | midp.exact | fisher.exact | chi.square |\n|---|---|---|---|\n| Exposed1 |        NA |        NA |        NA |\n| Exposed2 | 0.1965406 | 0.2289012 | 0.1943257 |\n\n\n$correction\n:   FALSE\n\n\n",
            "text/latex": "\\begin{description}\n\\item[\\$data] A matrix: 3 × 3 of type dbl\n\\begin{tabular}{r|lll}\n  & Disease1 & Disease2 & Total\\\\\n\\hline\n\tExposed1 & 12977 &  55 & 13032\\\\\n\tExposed2 & 13779 &  45 & 13824\\\\\n\tTotal & 26756 & 100 & 26856\\\\\n\\end{tabular}\n\n\\item[\\$measure] A matrix: 2 × 3 of type dbl\n\\begin{tabular}{r|lll}\n  & estimate & lower & upper\\\\\n\\hline\n\tExposed1 & 1.0000000 &        NA &       NA\\\\\n\tExposed2 & 0.7713068 & 0.5205293 & 1.142903\\\\\n\\end{tabular}\n\n\\item[\\$p.value] A matrix: 2 × 3 of type dbl\n\\begin{tabular}{r|lll}\n  & midp.exact & fisher.exact & chi.square\\\\\n\\hline\n\tExposed1 &        NA &        NA &        NA\\\\\n\tExposed2 & 0.1965406 & 0.2289012 & 0.1943257\\\\\n\\end{tabular}\n\n\\item[\\$correction] FALSE\n\\end{description}\n",
            "text/plain": [
              "$data\n",
              "          Outcome\n",
              "Predictor  Disease1 Disease2 Total\n",
              "  Exposed1    12977       55 13032\n",
              "  Exposed2    13779       45 13824\n",
              "  Total       26756      100 26856\n",
              "\n",
              "$measure\n",
              "          risk ratio with 95% C.I.\n",
              "Predictor   estimate     lower    upper\n",
              "  Exposed1 1.0000000        NA       NA\n",
              "  Exposed2 0.7713068 0.5205293 1.142903\n",
              "\n",
              "$p.value\n",
              "          two-sided\n",
              "Predictor  midp.exact fisher.exact chi.square\n",
              "  Exposed1         NA           NA         NA\n",
              "  Exposed2  0.1965406    0.2289012  0.1943257\n",
              "\n",
              "$correction\n",
              "[1] FALSE\n",
              "\n",
              "attr(,\"method\")\n",
              "[1] \"Unconditional MLE & normal approximation (Wald) CI\""
            ]
          },
          "metadata": {}
        },
        {
          "output_type": "display_data",
          "data": {
            "text/html": [
              "<dl>\n",
              "\t<dt>$data</dt>\n",
              "\t\t<dd><table class=\"dataframe\">\n",
              "<caption>A matrix: 3 × 3 of type dbl</caption>\n",
              "<thead>\n",
              "\t<tr><th></th><th scope=col>Disease1</th><th scope=col>Disease2</th><th scope=col>Total</th></tr>\n",
              "</thead>\n",
              "<tbody>\n",
              "\t<tr><th scope=row>Exposed1</th><td>13032</td><td> 92750</td><td>105782</td></tr>\n",
              "\t<tr><th scope=row>Exposed2</th><td>13824</td><td> 83937</td><td> 97761</td></tr>\n",
              "\t<tr><th scope=row>Total</th><td>26856</td><td>176687</td><td>203543</td></tr>\n",
              "</tbody>\n",
              "</table>\n",
              "</dd>\n",
              "\t<dt>$measure</dt>\n",
              "\t\t<dd><table class=\"dataframe\">\n",
              "<caption>A matrix: 2 × 3 of type dbl</caption>\n",
              "<thead>\n",
              "\t<tr><th></th><th scope=col>estimate</th><th scope=col>lower</th><th scope=col>upper</th></tr>\n",
              "</thead>\n",
              "<tbody>\n",
              "\t<tr><th scope=row>Exposed1</th><td>1.0000000</td><td>       NA</td><td>       NA</td></tr>\n",
              "\t<tr><th scope=row>Exposed2</th><td>0.9792321</td><td>0.9759064</td><td>0.9825692</td></tr>\n",
              "</tbody>\n",
              "</table>\n",
              "</dd>\n",
              "\t<dt>$p.value</dt>\n",
              "\t\t<dd><table class=\"dataframe\">\n",
              "<caption>A matrix: 2 × 3 of type dbl</caption>\n",
              "<thead>\n",
              "\t<tr><th></th><th scope=col>midp.exact</th><th scope=col>fisher.exact</th><th scope=col>chi.square</th></tr>\n",
              "</thead>\n",
              "<tbody>\n",
              "\t<tr><th scope=row>Exposed1</th><td>NA</td><td>          NA</td><td>          NA</td></tr>\n",
              "\t<tr><th scope=row>Exposed2</th><td> 0</td><td>8.589067e-34</td><td>7.510265e-34</td></tr>\n",
              "</tbody>\n",
              "</table>\n",
              "</dd>\n",
              "\t<dt>$correction</dt>\n",
              "\t\t<dd>FALSE</dd>\n",
              "</dl>\n"
            ],
            "text/markdown": "$data\n:   \nA matrix: 3 × 3 of type dbl\n\n| <!--/--> | Disease1 | Disease2 | Total |\n|---|---|---|---|\n| Exposed1 | 13032 |  92750 | 105782 |\n| Exposed2 | 13824 |  83937 |  97761 |\n| Total | 26856 | 176687 | 203543 |\n\n\n$measure\n:   \nA matrix: 2 × 3 of type dbl\n\n| <!--/--> | estimate | lower | upper |\n|---|---|---|---|\n| Exposed1 | 1.0000000 |        NA |        NA |\n| Exposed2 | 0.9792321 | 0.9759064 | 0.9825692 |\n\n\n$p.value\n:   \nA matrix: 2 × 3 of type dbl\n\n| <!--/--> | midp.exact | fisher.exact | chi.square |\n|---|---|---|---|\n| Exposed1 | NA |           NA |           NA |\n| Exposed2 |  0 | 8.589067e-34 | 7.510265e-34 |\n\n\n$correction\n:   FALSE\n\n\n",
            "text/latex": "\\begin{description}\n\\item[\\$data] A matrix: 3 × 3 of type dbl\n\\begin{tabular}{r|lll}\n  & Disease1 & Disease2 & Total\\\\\n\\hline\n\tExposed1 & 13032 &  92750 & 105782\\\\\n\tExposed2 & 13824 &  83937 &  97761\\\\\n\tTotal & 26856 & 176687 & 203543\\\\\n\\end{tabular}\n\n\\item[\\$measure] A matrix: 2 × 3 of type dbl\n\\begin{tabular}{r|lll}\n  & estimate & lower & upper\\\\\n\\hline\n\tExposed1 & 1.0000000 &        NA &        NA\\\\\n\tExposed2 & 0.9792321 & 0.9759064 & 0.9825692\\\\\n\\end{tabular}\n\n\\item[\\$p.value] A matrix: 2 × 3 of type dbl\n\\begin{tabular}{r|lll}\n  & midp.exact & fisher.exact & chi.square\\\\\n\\hline\n\tExposed1 & NA &           NA &           NA\\\\\n\tExposed2 &  0 & 8.589067e-34 & 7.510265e-34\\\\\n\\end{tabular}\n\n\\item[\\$correction] FALSE\n\\end{description}\n",
            "text/plain": [
              "$data\n",
              "          Outcome\n",
              "Predictor  Disease1 Disease2  Total\n",
              "  Exposed1    13032    92750 105782\n",
              "  Exposed2    13824    83937  97761\n",
              "  Total       26856   176687 203543\n",
              "\n",
              "$measure\n",
              "          risk ratio with 95% C.I.\n",
              "Predictor   estimate     lower     upper\n",
              "  Exposed1 1.0000000        NA        NA\n",
              "  Exposed2 0.9792321 0.9759064 0.9825692\n",
              "\n",
              "$p.value\n",
              "          two-sided\n",
              "Predictor  midp.exact fisher.exact   chi.square\n",
              "  Exposed1         NA           NA           NA\n",
              "  Exposed2          0 8.589067e-34 7.510265e-34\n",
              "\n",
              "$correction\n",
              "[1] FALSE\n",
              "\n",
              "attr(,\"method\")\n",
              "[1] \"Unconditional MLE & normal approximation (Wald) CI\""
            ]
          },
          "metadata": {}
        },
        {
          "output_type": "display_data",
          "data": {
            "text/html": [
              "<dl>\n",
              "\t<dt>$data</dt>\n",
              "\t\t<dd><table class=\"dataframe\">\n",
              "<caption>A matrix: 3 × 3 of type dbl</caption>\n",
              "<thead>\n",
              "\t<tr><th></th><th scope=col>Disease1</th><th scope=col>Disease2</th><th scope=col>Total</th></tr>\n",
              "</thead>\n",
              "<tbody>\n",
              "\t<tr><th scope=row>Exposed1</th><td>101975</td><td>3807</td><td>105782</td></tr>\n",
              "\t<tr><th scope=row>Exposed2</th><td> 92772</td><td>4989</td><td> 97761</td></tr>\n",
              "\t<tr><th scope=row>Total</th><td>194747</td><td>8796</td><td>203543</td></tr>\n",
              "</tbody>\n",
              "</table>\n",
              "</dd>\n",
              "\t<dt>$measure</dt>\n",
              "\t\t<dd><table class=\"dataframe\">\n",
              "<caption>A matrix: 2 × 3 of type dbl</caption>\n",
              "<thead>\n",
              "\t<tr><th></th><th scope=col>estimate</th><th scope=col>lower</th><th scope=col>upper</th></tr>\n",
              "</thead>\n",
              "<tbody>\n",
              "\t<tr><th scope=row>Exposed1</th><td>1.000000</td><td>      NA</td><td>      NA</td></tr>\n",
              "\t<tr><th scope=row>Exposed2</th><td>1.418002</td><td>1.360668</td><td>1.477751</td></tr>\n",
              "</tbody>\n",
              "</table>\n",
              "</dd>\n",
              "\t<dt>$p.value</dt>\n",
              "\t\t<dd><table class=\"dataframe\">\n",
              "<caption>A matrix: 2 × 3 of type dbl</caption>\n",
              "<thead>\n",
              "\t<tr><th></th><th scope=col>midp.exact</th><th scope=col>fisher.exact</th><th scope=col>chi.square</th></tr>\n",
              "</thead>\n",
              "<tbody>\n",
              "\t<tr><th scope=row>Exposed1</th><td>NA</td><td>          NA</td><td>          NA</td></tr>\n",
              "\t<tr><th scope=row>Exposed2</th><td> 0</td><td>1.954755e-62</td><td>1.963964e-62</td></tr>\n",
              "</tbody>\n",
              "</table>\n",
              "</dd>\n",
              "\t<dt>$correction</dt>\n",
              "\t\t<dd>FALSE</dd>\n",
              "</dl>\n"
            ],
            "text/markdown": "$data\n:   \nA matrix: 3 × 3 of type dbl\n\n| <!--/--> | Disease1 | Disease2 | Total |\n|---|---|---|---|\n| Exposed1 | 101975 | 3807 | 105782 |\n| Exposed2 |  92772 | 4989 |  97761 |\n| Total | 194747 | 8796 | 203543 |\n\n\n$measure\n:   \nA matrix: 2 × 3 of type dbl\n\n| <!--/--> | estimate | lower | upper |\n|---|---|---|---|\n| Exposed1 | 1.000000 |       NA |       NA |\n| Exposed2 | 1.418002 | 1.360668 | 1.477751 |\n\n\n$p.value\n:   \nA matrix: 2 × 3 of type dbl\n\n| <!--/--> | midp.exact | fisher.exact | chi.square |\n|---|---|---|---|\n| Exposed1 | NA |           NA |           NA |\n| Exposed2 |  0 | 1.954755e-62 | 1.963964e-62 |\n\n\n$correction\n:   FALSE\n\n\n",
            "text/latex": "\\begin{description}\n\\item[\\$data] A matrix: 3 × 3 of type dbl\n\\begin{tabular}{r|lll}\n  & Disease1 & Disease2 & Total\\\\\n\\hline\n\tExposed1 & 101975 & 3807 & 105782\\\\\n\tExposed2 &  92772 & 4989 &  97761\\\\\n\tTotal & 194747 & 8796 & 203543\\\\\n\\end{tabular}\n\n\\item[\\$measure] A matrix: 2 × 3 of type dbl\n\\begin{tabular}{r|lll}\n  & estimate & lower & upper\\\\\n\\hline\n\tExposed1 & 1.000000 &       NA &       NA\\\\\n\tExposed2 & 1.418002 & 1.360668 & 1.477751\\\\\n\\end{tabular}\n\n\\item[\\$p.value] A matrix: 2 × 3 of type dbl\n\\begin{tabular}{r|lll}\n  & midp.exact & fisher.exact & chi.square\\\\\n\\hline\n\tExposed1 & NA &           NA &           NA\\\\\n\tExposed2 &  0 & 1.954755e-62 & 1.963964e-62\\\\\n\\end{tabular}\n\n\\item[\\$correction] FALSE\n\\end{description}\n",
            "text/plain": [
              "$data\n",
              "          Outcome\n",
              "Predictor  Disease1 Disease2  Total\n",
              "  Exposed1   101975     3807 105782\n",
              "  Exposed2    92772     4989  97761\n",
              "  Total      194747     8796 203543\n",
              "\n",
              "$measure\n",
              "          risk ratio with 95% C.I.\n",
              "Predictor  estimate    lower    upper\n",
              "  Exposed1 1.000000       NA       NA\n",
              "  Exposed2 1.418002 1.360668 1.477751\n",
              "\n",
              "$p.value\n",
              "          two-sided\n",
              "Predictor  midp.exact fisher.exact   chi.square\n",
              "  Exposed1         NA           NA           NA\n",
              "  Exposed2          0 1.954755e-62 1.963964e-62\n",
              "\n",
              "$correction\n",
              "[1] FALSE\n",
              "\n",
              "attr(,\"method\")\n",
              "[1] \"Unconditional MLE & normal approximation (Wald) CI\""
            ]
          },
          "metadata": {}
        },
        {
          "output_type": "display_data",
          "data": {
            "text/html": [
              "<dl>\n",
              "\t<dt>$data</dt>\n",
              "\t\t<dd><table class=\"dataframe\">\n",
              "<caption>A matrix: 3 × 3 of type dbl</caption>\n",
              "<thead>\n",
              "\t<tr><th></th><th scope=col>Disease1</th><th scope=col>Disease2</th><th scope=col>Total</th></tr>\n",
              "</thead>\n",
              "<tbody>\n",
              "\t<tr><th scope=row>Exposed1</th><td> 9225</td><td>3807</td><td>13032</td></tr>\n",
              "\t<tr><th scope=row>Exposed2</th><td> 8835</td><td>4989</td><td>13824</td></tr>\n",
              "\t<tr><th scope=row>Total</th><td>18060</td><td>8796</td><td>26856</td></tr>\n",
              "</tbody>\n",
              "</table>\n",
              "</dd>\n",
              "\t<dt>$measure</dt>\n",
              "\t\t<dd><table class=\"dataframe\">\n",
              "<caption>A matrix: 2 × 3 of type dbl</caption>\n",
              "<thead>\n",
              "\t<tr><th></th><th scope=col>estimate</th><th scope=col>lower</th><th scope=col>upper</th></tr>\n",
              "</thead>\n",
              "<tbody>\n",
              "\t<tr><th scope=row>Exposed1</th><td>1.000000</td><td>      NA</td><td>      NA</td></tr>\n",
              "\t<tr><th scope=row>Exposed2</th><td>1.235401</td><td>1.193228</td><td>1.279064</td></tr>\n",
              "</tbody>\n",
              "</table>\n",
              "</dd>\n",
              "\t<dt>$p.value</dt>\n",
              "\t\t<dd><table class=\"dataframe\">\n",
              "<caption>A matrix: 2 × 3 of type dbl</caption>\n",
              "<thead>\n",
              "\t<tr><th></th><th scope=col>midp.exact</th><th scope=col>fisher.exact</th><th scope=col>chi.square</th></tr>\n",
              "</thead>\n",
              "<tbody>\n",
              "\t<tr><th scope=row>Exposed1</th><td>NA</td><td>          NA</td><td>          NA</td></tr>\n",
              "\t<tr><th scope=row>Exposed2</th><td> 0</td><td>3.009751e-33</td><td>3.505161e-33</td></tr>\n",
              "</tbody>\n",
              "</table>\n",
              "</dd>\n",
              "\t<dt>$correction</dt>\n",
              "\t\t<dd>FALSE</dd>\n",
              "</dl>\n"
            ],
            "text/markdown": "$data\n:   \nA matrix: 3 × 3 of type dbl\n\n| <!--/--> | Disease1 | Disease2 | Total |\n|---|---|---|---|\n| Exposed1 |  9225 | 3807 | 13032 |\n| Exposed2 |  8835 | 4989 | 13824 |\n| Total | 18060 | 8796 | 26856 |\n\n\n$measure\n:   \nA matrix: 2 × 3 of type dbl\n\n| <!--/--> | estimate | lower | upper |\n|---|---|---|---|\n| Exposed1 | 1.000000 |       NA |       NA |\n| Exposed2 | 1.235401 | 1.193228 | 1.279064 |\n\n\n$p.value\n:   \nA matrix: 2 × 3 of type dbl\n\n| <!--/--> | midp.exact | fisher.exact | chi.square |\n|---|---|---|---|\n| Exposed1 | NA |           NA |           NA |\n| Exposed2 |  0 | 3.009751e-33 | 3.505161e-33 |\n\n\n$correction\n:   FALSE\n\n\n",
            "text/latex": "\\begin{description}\n\\item[\\$data] A matrix: 3 × 3 of type dbl\n\\begin{tabular}{r|lll}\n  & Disease1 & Disease2 & Total\\\\\n\\hline\n\tExposed1 &  9225 & 3807 & 13032\\\\\n\tExposed2 &  8835 & 4989 & 13824\\\\\n\tTotal & 18060 & 8796 & 26856\\\\\n\\end{tabular}\n\n\\item[\\$measure] A matrix: 2 × 3 of type dbl\n\\begin{tabular}{r|lll}\n  & estimate & lower & upper\\\\\n\\hline\n\tExposed1 & 1.000000 &       NA &       NA\\\\\n\tExposed2 & 1.235401 & 1.193228 & 1.279064\\\\\n\\end{tabular}\n\n\\item[\\$p.value] A matrix: 2 × 3 of type dbl\n\\begin{tabular}{r|lll}\n  & midp.exact & fisher.exact & chi.square\\\\\n\\hline\n\tExposed1 & NA &           NA &           NA\\\\\n\tExposed2 &  0 & 3.009751e-33 & 3.505161e-33\\\\\n\\end{tabular}\n\n\\item[\\$correction] FALSE\n\\end{description}\n",
            "text/plain": [
              "$data\n",
              "          Outcome\n",
              "Predictor  Disease1 Disease2 Total\n",
              "  Exposed1     9225     3807 13032\n",
              "  Exposed2     8835     4989 13824\n",
              "  Total       18060     8796 26856\n",
              "\n",
              "$measure\n",
              "          risk ratio with 95% C.I.\n",
              "Predictor  estimate    lower    upper\n",
              "  Exposed1 1.000000       NA       NA\n",
              "  Exposed2 1.235401 1.193228 1.279064\n",
              "\n",
              "$p.value\n",
              "          two-sided\n",
              "Predictor  midp.exact fisher.exact   chi.square\n",
              "  Exposed1         NA           NA           NA\n",
              "  Exposed2          0 3.009751e-33 3.505161e-33\n",
              "\n",
              "$correction\n",
              "[1] FALSE\n",
              "\n",
              "attr(,\"method\")\n",
              "[1] \"Unconditional MLE & normal approximation (Wald) CI\""
            ]
          },
          "metadata": {}
        },
        {
          "output_type": "display_data",
          "data": {
            "text/html": [
              "<dl>\n",
              "\t<dt>$data</dt>\n",
              "\t\t<dd><table class=\"dataframe\">\n",
              "<caption>A matrix: 3 × 3 of type dbl</caption>\n",
              "<thead>\n",
              "\t<tr><th></th><th scope=col>Disease1</th><th scope=col>Disease2</th><th scope=col>Total</th></tr>\n",
              "</thead>\n",
              "<tbody>\n",
              "\t<tr><th scope=row>Exposed1</th><td>12932</td><td>100</td><td>13032</td></tr>\n",
              "\t<tr><th scope=row>Exposed2</th><td>13730</td><td> 94</td><td>13824</td></tr>\n",
              "\t<tr><th scope=row>Total</th><td>26662</td><td>194</td><td>26856</td></tr>\n",
              "</tbody>\n",
              "</table>\n",
              "</dd>\n",
              "\t<dt>$measure</dt>\n",
              "\t\t<dd><table class=\"dataframe\">\n",
              "<caption>A matrix: 2 × 3 of type dbl</caption>\n",
              "<thead>\n",
              "\t<tr><th></th><th scope=col>estimate</th><th scope=col>lower</th><th scope=col>upper</th></tr>\n",
              "</thead>\n",
              "<tbody>\n",
              "\t<tr><th scope=row>Exposed1</th><td>1.0000000</td><td>       NA</td><td>      NA</td></tr>\n",
              "\t<tr><th scope=row>Exposed2</th><td>0.8861458</td><td>0.6693661</td><td>1.173131</td></tr>\n",
              "</tbody>\n",
              "</table>\n",
              "</dd>\n",
              "\t<dt>$p.value</dt>\n",
              "\t\t<dd><table class=\"dataframe\">\n",
              "<caption>A matrix: 2 × 3 of type dbl</caption>\n",
              "<thead>\n",
              "\t<tr><th></th><th scope=col>midp.exact</th><th scope=col>fisher.exact</th><th scope=col>chi.square</th></tr>\n",
              "</thead>\n",
              "<tbody>\n",
              "\t<tr><th scope=row>Exposed1</th><td>       NA</td><td>       NA</td><td>       NA</td></tr>\n",
              "\t<tr><th scope=row>Exposed2</th><td>0.3993038</td><td>0.4279488</td><td>0.3981358</td></tr>\n",
              "</tbody>\n",
              "</table>\n",
              "</dd>\n",
              "\t<dt>$correction</dt>\n",
              "\t\t<dd>FALSE</dd>\n",
              "</dl>\n"
            ],
            "text/markdown": "$data\n:   \nA matrix: 3 × 3 of type dbl\n\n| <!--/--> | Disease1 | Disease2 | Total |\n|---|---|---|---|\n| Exposed1 | 12932 | 100 | 13032 |\n| Exposed2 | 13730 |  94 | 13824 |\n| Total | 26662 | 194 | 26856 |\n\n\n$measure\n:   \nA matrix: 2 × 3 of type dbl\n\n| <!--/--> | estimate | lower | upper |\n|---|---|---|---|\n| Exposed1 | 1.0000000 |        NA |       NA |\n| Exposed2 | 0.8861458 | 0.6693661 | 1.173131 |\n\n\n$p.value\n:   \nA matrix: 2 × 3 of type dbl\n\n| <!--/--> | midp.exact | fisher.exact | chi.square |\n|---|---|---|---|\n| Exposed1 |        NA |        NA |        NA |\n| Exposed2 | 0.3993038 | 0.4279488 | 0.3981358 |\n\n\n$correction\n:   FALSE\n\n\n",
            "text/latex": "\\begin{description}\n\\item[\\$data] A matrix: 3 × 3 of type dbl\n\\begin{tabular}{r|lll}\n  & Disease1 & Disease2 & Total\\\\\n\\hline\n\tExposed1 & 12932 & 100 & 13032\\\\\n\tExposed2 & 13730 &  94 & 13824\\\\\n\tTotal & 26662 & 194 & 26856\\\\\n\\end{tabular}\n\n\\item[\\$measure] A matrix: 2 × 3 of type dbl\n\\begin{tabular}{r|lll}\n  & estimate & lower & upper\\\\\n\\hline\n\tExposed1 & 1.0000000 &        NA &       NA\\\\\n\tExposed2 & 0.8861458 & 0.6693661 & 1.173131\\\\\n\\end{tabular}\n\n\\item[\\$p.value] A matrix: 2 × 3 of type dbl\n\\begin{tabular}{r|lll}\n  & midp.exact & fisher.exact & chi.square\\\\\n\\hline\n\tExposed1 &        NA &        NA &        NA\\\\\n\tExposed2 & 0.3993038 & 0.4279488 & 0.3981358\\\\\n\\end{tabular}\n\n\\item[\\$correction] FALSE\n\\end{description}\n",
            "text/plain": [
              "$data\n",
              "          Outcome\n",
              "Predictor  Disease1 Disease2 Total\n",
              "  Exposed1    12932      100 13032\n",
              "  Exposed2    13730       94 13824\n",
              "  Total       26662      194 26856\n",
              "\n",
              "$measure\n",
              "          risk ratio with 95% C.I.\n",
              "Predictor   estimate     lower    upper\n",
              "  Exposed1 1.0000000        NA       NA\n",
              "  Exposed2 0.8861458 0.6693661 1.173131\n",
              "\n",
              "$p.value\n",
              "          two-sided\n",
              "Predictor  midp.exact fisher.exact chi.square\n",
              "  Exposed1         NA           NA         NA\n",
              "  Exposed2  0.3993038    0.4279488  0.3981358\n",
              "\n",
              "$correction\n",
              "[1] FALSE\n",
              "\n",
              "attr(,\"method\")\n",
              "[1] \"Unconditional MLE & normal approximation (Wald) CI\""
            ]
          },
          "metadata": {}
        },
        {
          "output_type": "display_data",
          "data": {
            "text/html": [
              "<dl>\n",
              "\t<dt>$data</dt>\n",
              "\t\t<dd><table class=\"dataframe\">\n",
              "<caption>A matrix: 3 × 3 of type dbl</caption>\n",
              "<thead>\n",
              "\t<tr><th></th><th scope=col>Disease1</th><th scope=col>Disease2</th><th scope=col>Total</th></tr>\n",
              "</thead>\n",
              "<tbody>\n",
              "\t<tr><th scope=row>Exposed1</th><td>105682</td><td>100</td><td>105782</td></tr>\n",
              "\t<tr><th scope=row>Exposed2</th><td> 97667</td><td> 94</td><td> 97761</td></tr>\n",
              "\t<tr><th scope=row>Total</th><td>203349</td><td>194</td><td>203543</td></tr>\n",
              "</tbody>\n",
              "</table>\n",
              "</dd>\n",
              "\t<dt>$measure</dt>\n",
              "\t\t<dd><table class=\"dataframe\">\n",
              "<caption>A matrix: 2 × 3 of type dbl</caption>\n",
              "<thead>\n",
              "\t<tr><th></th><th scope=col>estimate</th><th scope=col>lower</th><th scope=col>upper</th></tr>\n",
              "</thead>\n",
              "<tbody>\n",
              "\t<tr><th scope=row>Exposed1</th><td>1.000000</td><td>       NA</td><td>     NA</td></tr>\n",
              "\t<tr><th scope=row>Exposed2</th><td>1.017124</td><td>0.7676237</td><td>1.34772</td></tr>\n",
              "</tbody>\n",
              "</table>\n",
              "</dd>\n",
              "\t<dt>$p.value</dt>\n",
              "\t\t<dd><table class=\"dataframe\">\n",
              "<caption>A matrix: 2 × 3 of type dbl</caption>\n",
              "<thead>\n",
              "\t<tr><th></th><th scope=col>midp.exact</th><th scope=col>fisher.exact</th><th scope=col>chi.square</th></tr>\n",
              "</thead>\n",
              "<tbody>\n",
              "\t<tr><th scope=row>Exposed1</th><td>       NA</td><td>       NA</td><td>       NA</td></tr>\n",
              "\t<tr><th scope=row>Exposed2</th><td>0.9054196</td><td>0.9427318</td><td>0.9058712</td></tr>\n",
              "</tbody>\n",
              "</table>\n",
              "</dd>\n",
              "\t<dt>$correction</dt>\n",
              "\t\t<dd>FALSE</dd>\n",
              "</dl>\n"
            ],
            "text/markdown": "$data\n:   \nA matrix: 3 × 3 of type dbl\n\n| <!--/--> | Disease1 | Disease2 | Total |\n|---|---|---|---|\n| Exposed1 | 105682 | 100 | 105782 |\n| Exposed2 |  97667 |  94 |  97761 |\n| Total | 203349 | 194 | 203543 |\n\n\n$measure\n:   \nA matrix: 2 × 3 of type dbl\n\n| <!--/--> | estimate | lower | upper |\n|---|---|---|---|\n| Exposed1 | 1.000000 |        NA |      NA |\n| Exposed2 | 1.017124 | 0.7676237 | 1.34772 |\n\n\n$p.value\n:   \nA matrix: 2 × 3 of type dbl\n\n| <!--/--> | midp.exact | fisher.exact | chi.square |\n|---|---|---|---|\n| Exposed1 |        NA |        NA |        NA |\n| Exposed2 | 0.9054196 | 0.9427318 | 0.9058712 |\n\n\n$correction\n:   FALSE\n\n\n",
            "text/latex": "\\begin{description}\n\\item[\\$data] A matrix: 3 × 3 of type dbl\n\\begin{tabular}{r|lll}\n  & Disease1 & Disease2 & Total\\\\\n\\hline\n\tExposed1 & 105682 & 100 & 105782\\\\\n\tExposed2 &  97667 &  94 &  97761\\\\\n\tTotal & 203349 & 194 & 203543\\\\\n\\end{tabular}\n\n\\item[\\$measure] A matrix: 2 × 3 of type dbl\n\\begin{tabular}{r|lll}\n  & estimate & lower & upper\\\\\n\\hline\n\tExposed1 & 1.000000 &        NA &      NA\\\\\n\tExposed2 & 1.017124 & 0.7676237 & 1.34772\\\\\n\\end{tabular}\n\n\\item[\\$p.value] A matrix: 2 × 3 of type dbl\n\\begin{tabular}{r|lll}\n  & midp.exact & fisher.exact & chi.square\\\\\n\\hline\n\tExposed1 &        NA &        NA &        NA\\\\\n\tExposed2 & 0.9054196 & 0.9427318 & 0.9058712\\\\\n\\end{tabular}\n\n\\item[\\$correction] FALSE\n\\end{description}\n",
            "text/plain": [
              "$data\n",
              "          Outcome\n",
              "Predictor  Disease1 Disease2  Total\n",
              "  Exposed1   105682      100 105782\n",
              "  Exposed2    97667       94  97761\n",
              "  Total      203349      194 203543\n",
              "\n",
              "$measure\n",
              "          risk ratio with 95% C.I.\n",
              "Predictor  estimate     lower   upper\n",
              "  Exposed1 1.000000        NA      NA\n",
              "  Exposed2 1.017124 0.7676237 1.34772\n",
              "\n",
              "$p.value\n",
              "          two-sided\n",
              "Predictor  midp.exact fisher.exact chi.square\n",
              "  Exposed1         NA           NA         NA\n",
              "  Exposed2  0.9054196    0.9427318  0.9058712\n",
              "\n",
              "$correction\n",
              "[1] FALSE\n",
              "\n",
              "attr(,\"method\")\n",
              "[1] \"Unconditional MLE & normal approximation (Wald) CI\""
            ]
          },
          "metadata": {}
        }
      ]
    },
    {
      "cell_type": "code",
      "execution_count": 13,
      "metadata": {
        "colab": {
          "base_uri": "https://localhost:8080/",
          "height": 260
        },
        "id": "iGm_CVfctiTV",
        "outputId": "79cadf6d-15dc-4f3a-b60e-8557c13b6617"
      },
      "outputs": [
        {
          "output_type": "display_data",
          "data": {
            "text/html": [
              "<style>\n",
              ".list-inline {list-style: none; margin:0; padding: 0}\n",
              ".list-inline>li {display: inline-block}\n",
              ".list-inline>li:not(:last-child)::after {content: \"\\00b7\"; padding: 0 .5ex}\n",
              "</style>\n",
              "<ol class=list-inline><li>3.86360628462309</li><li>4.22868014852549</li></ol>\n"
            ],
            "text/markdown": "1. 3.86360628462309\n2. 4.22868014852549\n\n\n",
            "text/latex": "\\begin{enumerate*}\n\\item 3.86360628462309\n\\item 4.22868014852549\n\\end{enumerate*}\n",
            "text/plain": [
              "[1] 3.863606 4.228680"
            ]
          },
          "metadata": {}
        },
        {
          "output_type": "display_data",
          "data": {
            "text/html": [
              "<style>\n",
              ".list-inline {list-style: none; margin:0; padding: 0}\n",
              ".list-inline>li {display: inline-block}\n",
              ".list-inline>li:not(:last-child)::after {content: \"\\00b7\"; padding: 0 .5ex}\n",
              "</style>\n",
              "<ol class=list-inline><li>55.5523128556836</li><li>63.0561172901921</li></ol>\n"
            ],
            "text/markdown": "1. 55.5523128556836\n2. 63.0561172901921\n\n\n",
            "text/latex": "\\begin{enumerate*}\n\\item 55.5523128556836\n\\item 63.0561172901921\n\\end{enumerate*}\n",
            "text/plain": [
              "[1] 55.55231 63.05612"
            ]
          },
          "metadata": {}
        },
        {
          "output_type": "display_data",
          "data": {
            "text/html": [
              "<style>\n",
              ".list-inline {list-style: none; margin:0; padding: 0}\n",
              ".list-inline>li {display: inline-block}\n",
              ".list-inline>li:not(:last-child)::after {content: \"\\00b7\"; padding: 0 .5ex}\n",
              "</style>\n",
              "<ol class=list-inline><li>3.59891096783952</li><li>5.10326203700862</li></ol>\n"
            ],
            "text/markdown": "1. 3.59891096783952\n2. 5.10326203700862\n\n\n",
            "text/latex": "\\begin{enumerate*}\n\\item 3.59891096783952\n\\item 5.10326203700862\n\\end{enumerate*}\n",
            "text/plain": [
              "[1] 3.598911 5.103262"
            ]
          },
          "metadata": {}
        },
        {
          "output_type": "display_data",
          "data": {
            "text/html": [
              "<style>\n",
              ".list-inline {list-style: none; margin:0; padding: 0}\n",
              ".list-inline>li {display: inline-block}\n",
              ".list-inline>li:not(:last-child)::after {content: \"\\00b7\"; padding: 0 .5ex}\n",
              "</style>\n",
              "<ol class=list-inline><li>1.45921494236101</li><li>1.18806875631951</li></ol>\n"
            ],
            "text/markdown": "1. 1.45921494236101\n2. 1.18806875631951\n\n\n",
            "text/latex": "\\begin{enumerate*}\n\\item 1.45921494236101\n\\item 1.18806875631951\n\\end{enumerate*}\n",
            "text/plain": [
              "[1] 1.459215 1.188069"
            ]
          },
          "metadata": {}
        },
        {
          "output_type": "display_data",
          "data": {
            "text/html": [
              "<style>\n",
              ".list-inline {list-style: none; margin:0; padding: 0}\n",
              ".list-inline>li {display: inline-block}\n",
              ".list-inline>li:not(:last-child)::after {content: \"\\00b7\"; padding: 0 .5ex}\n",
              "</style>\n",
              "<ol class=list-inline><li>0.0945340417084192</li><li>0.0961528625934677</li></ol>\n"
            ],
            "text/markdown": "1. 0.0945340417084192\n2. 0.0961528625934677\n\n\n",
            "text/latex": "\\begin{enumerate*}\n\\item 0.0945340417084192\n\\item 0.0961528625934677\n\\end{enumerate*}\n",
            "text/plain": [
              "[1] 0.09453404 0.09615286"
            ]
          },
          "metadata": {}
        },
        {
          "output_type": "display_data",
          "data": {
            "text/html": [
              "<style>\n",
              ".list-inline {list-style: none; margin:0; padding: 0}\n",
              ".list-inline>li {display: inline-block}\n",
              ".list-inline>li:not(:last-child)::after {content: \"\\00b7\"; padding: 0 .5ex}\n",
              "</style>\n",
              "<ol class=list-inline><li>13.2350795272144</li><li>11.9565217391304</li></ol>\n"
            ],
            "text/markdown": "1. 13.2350795272144\n2. 11.9565217391304\n\n\n",
            "text/latex": "\\begin{enumerate*}\n\\item 13.2350795272144\n\\item 11.9565217391304\n\\end{enumerate*}\n",
            "text/plain": [
              "[1] 13.23508 11.95652"
            ]
          },
          "metadata": {}
        },
        {
          "output_type": "display_data",
          "data": {
            "text/html": [
              "<style>\n",
              ".list-inline {list-style: none; margin:0; padding: 0}\n",
              ".list-inline>li {display: inline-block}\n",
              ".list-inline>li:not(:last-child)::after {content: \"\\00b7\"; padding: 0 .5ex}\n",
              "</style>\n",
              "<ol class=list-inline><li>0.857423758295362</li><li>0.967666042695963</li></ol>\n"
            ],
            "text/markdown": "1. 0.857423758295362\n2. 0.967666042695963\n\n\n",
            "text/latex": "\\begin{enumerate*}\n\\item 0.857423758295362\n\\item 0.967666042695963\n\\end{enumerate*}\n",
            "text/plain": [
              "[1] 0.8574238 0.9676660"
            ]
          },
          "metadata": {}
        },
        {
          "output_type": "display_data",
          "data": {
            "text/html": [
              "<style>\n",
              ".list-inline {list-style: none; margin:0; padding: 0}\n",
              ".list-inline>li {display: inline-block}\n",
              ".list-inline>li:not(:last-child)::after {content: \"\\00b7\"; padding: 0 .5ex}\n",
              "</style>\n",
              "<ol class=list-inline><li>0.802568218298555</li><li>0.568756319514661</li></ol>\n"
            ],
            "text/markdown": "1. 0.802568218298555\n2. 0.568756319514661\n\n\n",
            "text/latex": "\\begin{enumerate*}\n\\item 0.802568218298555\n\\item 0.568756319514661\n\\end{enumerate*}\n",
            "text/plain": [
              "[1] 0.8025682 0.5687563"
            ]
          },
          "metadata": {}
        },
        {
          "output_type": "display_data",
          "data": {
            "text/html": [
              "<style>\n",
              ".list-inline {list-style: none; margin:0; padding: 0}\n",
              ".list-inline>li {display: inline-block}\n",
              ".list-inline>li:not(:last-child)::after {content: \"\\00b7\"; padding: 0 .5ex}\n",
              "</style>\n",
              "<ol class=list-inline><li>0.0519937229396306</li><li>0.0460306257096388</li></ol>\n"
            ],
            "text/markdown": "1. 0.0519937229396306\n2. 0.0460306257096388\n\n\n",
            "text/latex": "\\begin{enumerate*}\n\\item 0.0519937229396306\n\\item 0.0460306257096388\n\\end{enumerate*}\n",
            "text/plain": [
              "[1] 0.05199372 0.04603063"
            ]
          },
          "metadata": {}
        },
        {
          "output_type": "display_data",
          "data": {
            "text/html": [
              "<style>\n",
              ".list-inline {list-style: none; margin:0; padding: 0}\n",
              ".list-inline>li {display: inline-block}\n",
              ".list-inline>li:not(:last-child)::after {content: \"\\00b7\"; padding: 0 .5ex}\n",
              "</style>\n",
              "<ol class=list-inline><li>4.02687578514599</li><li>3.55313658501127</li></ol>\n"
            ],
            "text/markdown": "1. 4.02687578514599\n2. 3.55313658501127\n\n\n",
            "text/latex": "\\begin{enumerate*}\n\\item 4.02687578514599\n\\item 3.55313658501127\n\\end{enumerate*}\n",
            "text/plain": [
              "[1] 4.026876 3.553137"
            ]
          },
          "metadata": {}
        },
        {
          "output_type": "display_data",
          "data": {
            "text/html": [
              "<style>\n",
              ".list-inline {list-style: none; margin:0; padding: 0}\n",
              ".list-inline>li {display: inline-block}\n",
              ".list-inline>li:not(:last-child)::after {content: \"\\00b7\"; padding: 0 .5ex}\n",
              "</style>\n",
              "<ol class=list-inline><li>39.9177738018196</li><li>33.3939085556444</li></ol>\n"
            ],
            "text/markdown": "1. 39.9177738018196\n2. 33.3939085556444\n\n\n",
            "text/latex": "\\begin{enumerate*}\n\\item 39.9177738018196\n\\item 33.3939085556444\n\\end{enumerate*}\n",
            "text/plain": [
              "[1] 39.91777 33.39391"
            ]
          },
          "metadata": {}
        },
        {
          "output_type": "display_data",
          "data": {
            "text/html": [
              "<style>\n",
              ".list-inline {list-style: none; margin:0; padding: 0}\n",
              ".list-inline>li {display: inline-block}\n",
              ".list-inline>li:not(:last-child)::after {content: \"\\00b7\"; padding: 0 .5ex}\n",
              "</style>\n",
              "<ol class=list-inline><li>5.22669306026114</li><li>57.7778585447409</li></ol>\n"
            ],
            "text/markdown": "1. 5.22669306026114\n2. 57.7778585447409\n\n\n",
            "text/latex": "\\begin{enumerate*}\n\\item 5.22669306026114\n\\item 57.7778585447409\n\\end{enumerate*}\n",
            "text/plain": [
              "[1]  5.226693 57.777859"
            ]
          },
          "metadata": {}
        },
        {
          "output_type": "display_data",
          "data": {
            "text/html": [
              "<style>\n",
              ".list-inline {list-style: none; margin:0; padding: 0}\n",
              ".list-inline>li {display: inline-block}\n",
              ".list-inline>li:not(:last-child)::after {content: \"\\00b7\"; padding: 0 .5ex}\n",
              "</style>\n",
              "<ol class=list-inline><li>0.502493433324451</li><li>0.341644253834412</li></ol>\n"
            ],
            "text/markdown": "1. 0.502493433324451\n2. 0.341644253834412\n\n\n",
            "text/latex": "\\begin{enumerate*}\n\\item 0.502493433324451\n\\item 0.341644253834412\n\\end{enumerate*}\n",
            "text/plain": [
              "[1] 0.5024934 0.3416443"
            ]
          },
          "metadata": {}
        },
        {
          "output_type": "display_data",
          "data": {
            "text/html": [
              "<style>\n",
              ".list-inline {list-style: none; margin:0; padding: 0}\n",
              ".list-inline>li {display: inline-block}\n",
              ".list-inline>li:not(:last-child)::after {content: \"\\00b7\"; padding: 0 .5ex}\n",
              "</style>\n",
              "<ol class=list-inline><li>6.69229890745746</li><li>6.44762666278985</li></ol>\n"
            ],
            "text/markdown": "1. 6.69229890745746\n2. 6.44762666278985\n\n\n",
            "text/latex": "\\begin{enumerate*}\n\\item 6.69229890745746\n\\item 6.44762666278985\n\\end{enumerate*}\n",
            "text/plain": [
              "[1] 6.692299 6.447627"
            ]
          },
          "metadata": {}
        }
      ],
      "source": [
        "#measuring % of cases subject to mechanical restraint in each year out of ALL admissions\n",
        "PercentmechALL <- 100* (df1$`Number of cases subjected to mechanical restraint`)/(df1$`Number of cases`) \n",
        "PercentmechALL\n",
        "\n",
        "#measuring % subject to seclusion out of subset of cases subject to coercive measures\n",
        "Percentsecl <- 100* (df1$`Number of cases subjected to seclusion`)/(df1$`Number of cases subjected to any kind of coercive measures`) \n",
        "Percentsecl \n",
        "\n",
        "#measuring % subject to seclusion out of all cases in each year\n",
        "PercentseclALL <- 100* (df1$`Number of cases subjected to seclusion`)/(df1$`Number of cases`) \n",
        "PercentseclALL\n",
        "\n",
        "#measuring % subject to physical restraint among subset subject to coercive measures\n",
        "Percentphysres <- 100* (df1$`Number of cases subjected to physical restraint`)/(df1$`Number of cases subjected to any kind of coercive measures`) \n",
        "Percentphysres\n",
        "\n",
        "#measuring % subject to physical restraint out of all cases in each year\n",
        "PercentphysresALL <- 100* (df1$`Number of cases subjected to physical restraint`)/(df1$`Number of cases`) \n",
        "PercentphysresALL\n",
        "\n",
        "#measuring % of cases subject to forced/emergency medication out of subset subject to coercive measures\n",
        "Percentforcedmed <- 100* (df1$`Number of cases subjected to emergency or forced medication`)/(df1$`Number of cases subjected to any kind of coercive measures`) \n",
        "Percentforcedmed\n",
        "\n",
        "#measuring % subject to forced/emergency med out of all cases\n",
        "PercentforcedmedALL <- 100* (df1$`Number of cases subjected to emergency or forced medication`)/(df1$`Number of cases`) \n",
        "PercentforcedmedALL\n",
        "\n",
        "# %unspecified coercive measures out of subset of cases with coercive measures \n",
        "Percentunspec <- 100*(df1$`Number of cases subjected to coercive measures not specified`)/(df1$`Number of cases subjected to any kind of coercive measures`) \n",
        "Percentunspec\n",
        "\n",
        "#% of unspecified coercive measures out of all cases\n",
        "PercentunspecALL <-100*(df1$`Number of cases subjected to coercive measures not specified`)/(df1$`Number of cases`) \n",
        "PercentunspecALL\n",
        "\n",
        "#measuring the ratio of total cases to total coercive episodes - how many coercive episodes on average per patient\n",
        "Ratioall <- (df1$`Number of cases`)/(df1$`Total number of coercive episodes of any kind`) \n",
        "Ratioall #the average number of instances of coercion as a ratio to the number of all patient cases declined from 2019 to 2020 \n",
        "\n",
        "#measures % of mechanical restraint episodes out of all coercive episodes\n",
        "Mechresteps <- 100*(df1$`Number of mechanical restraint episodes`)/(df1$`Total number of coercive episodes of any kind`) \n",
        "Mechresteps\n",
        "\n",
        "#% of seclusion episodes as proportion of all coercive episodes\n",
        "Secleps <- 100*(df1$`Number of seclusion episodes`)/(df1$`Total number of coercive episodes of any kind`) \n",
        "Secleps #this is a huge difference - can this be correct? Only 1000 to over 15 thousand? Seems like an error in the data? \n",
        "\n",
        "\n",
        "#By subtracting the other counts it appears the number for 2019 should actually be 13,730 instead of 1,373. Therefore the comparison would be 52.26693 vs 57.7778...\n",
        "# % of physical restraint episodes as proportion of all coercive episodes\n",
        "\n",
        "Physresteps <- 100*(df1$`Number of physical restraint episodes`)/(df1$`Total number of coercive episodes of any kind`) \n",
        "Physresteps\n",
        "\n",
        "# % of emergency/forced medication episodes as proportion of all coercive episodes\n",
        "Forcedmedeps <- 100* (df1$`Number of emergency or forced medications`)/(df1$`Total number of coercive episodes of any kind`) \n",
        "Forcedmedeps\n",
        "\n",
        "# % of unspecified coercive measures as proportion of all episodes of coercion\n",
        "Unspeceps <- 100* (df1$`Number of coercive measures not specified`)/(df1$`Total number of coercive episodes of any kind`) \n",
        "\n"
      ]
    },
    {
      "cell_type": "code",
      "source": [
        "Sheet1 <- data.frame(df1)\n",
        "Sheet1 "
      ],
      "metadata": {
        "colab": {
          "base_uri": "https://localhost:8080/",
          "height": 181
        },
        "id": "waSGex3ZjOcU",
        "outputId": "3aa89a33-d706-435e-d2eb-ab4c7f028495"
      },
      "execution_count": 14,
      "outputs": [
        {
          "output_type": "display_data",
          "data": {
            "text/html": [
              "<table class=\"dataframe\">\n",
              "<caption>A data.frame: 2 × 18</caption>\n",
              "<thead>\n",
              "\t<tr><th scope=col>Year</th><th scope=col>Number.of.cases</th><th scope=col>Number.of.involuntary.cases</th><th scope=col>Number.of.cases.with.caring.detention</th><th scope=col>Number.of.involuntary.cases.according.to.civil.law</th><th scope=col>Number.of.involuntary.cases.according.to.public.law</th><th scope=col>Number.of.cases.subjected.to.any.kind.of.coercive.measures</th><th scope=col>Number.of.cases.subjected.to.mechanical.restraint</th><th scope=col>Number.of.cases.subjected.to.seclusion</th><th scope=col>Number.of.cases.subjected.to.physical.restraint</th><th scope=col>Number.of.cases.subjected.to.emergency.or.forced.medication</th><th scope=col>Number.of.cases.subjected.to.coercive.measures.not.specified</th><th scope=col>Total.number.of.coercive.episodes.of.any.kind</th><th scope=col>Number.of.mechanical.restraint.episodes</th><th scope=col>Number.of.seclusion.episodes</th><th scope=col>Number.of.physical.restraint.episodes</th><th scope=col>Number.of.emergency.or.forced.medications</th><th scope=col>Number.of.coercive.measures.not.specified</th></tr>\n",
              "\t<tr><th scope=col>&lt;dbl&gt;</th><th scope=col>&lt;dbl&gt;</th><th scope=col>&lt;dbl&gt;</th><th scope=col>&lt;dbl&gt;</th><th scope=col>&lt;dbl&gt;</th><th scope=col>&lt;dbl&gt;</th><th scope=col>&lt;dbl&gt;</th><th scope=col>&lt;dbl&gt;</th><th scope=col>&lt;dbl&gt;</th><th scope=col>&lt;dbl&gt;</th><th scope=col>&lt;dbl&gt;</th><th scope=col>&lt;dbl&gt;</th><th scope=col>&lt;dbl&gt;</th><th scope=col>&lt;dbl&gt;</th><th scope=col>&lt;dbl&gt;</th><th scope=col>&lt;dbl&gt;</th><th scope=col>&lt;dbl&gt;</th><th scope=col>&lt;dbl&gt;</th></tr>\n",
              "</thead>\n",
              "<tbody>\n",
              "\t<tr><td>2019</td><td>105782</td><td>13032</td><td>6138</td><td>3321</td><td>3573</td><td>6853</td><td>4087</td><td>3807</td><td>100</td><td>907</td><td>55</td><td>26269</td><td>10486</td><td> 1373</td><td>132</td><td>1758</td><td>163</td></tr>\n",
              "\t<tr><td>2020</td><td> 97761</td><td>13824</td><td>6357</td><td>3590</td><td>3877</td><td>7912</td><td>4134</td><td>4989</td><td> 94</td><td>946</td><td>45</td><td>27514</td><td> 9188</td><td>15897</td><td> 94</td><td>1774</td><td>488</td></tr>\n",
              "</tbody>\n",
              "</table>\n"
            ],
            "text/markdown": "\nA data.frame: 2 × 18\n\n| Year &lt;dbl&gt; | Number.of.cases &lt;dbl&gt; | Number.of.involuntary.cases &lt;dbl&gt; | Number.of.cases.with.caring.detention &lt;dbl&gt; | Number.of.involuntary.cases.according.to.civil.law &lt;dbl&gt; | Number.of.involuntary.cases.according.to.public.law &lt;dbl&gt; | Number.of.cases.subjected.to.any.kind.of.coercive.measures &lt;dbl&gt; | Number.of.cases.subjected.to.mechanical.restraint &lt;dbl&gt; | Number.of.cases.subjected.to.seclusion &lt;dbl&gt; | Number.of.cases.subjected.to.physical.restraint &lt;dbl&gt; | Number.of.cases.subjected.to.emergency.or.forced.medication &lt;dbl&gt; | Number.of.cases.subjected.to.coercive.measures.not.specified &lt;dbl&gt; | Total.number.of.coercive.episodes.of.any.kind &lt;dbl&gt; | Number.of.mechanical.restraint.episodes &lt;dbl&gt; | Number.of.seclusion.episodes &lt;dbl&gt; | Number.of.physical.restraint.episodes &lt;dbl&gt; | Number.of.emergency.or.forced.medications &lt;dbl&gt; | Number.of.coercive.measures.not.specified &lt;dbl&gt; |\n|---|---|---|---|---|---|---|---|---|---|---|---|---|---|---|---|---|---|\n| 2019 | 105782 | 13032 | 6138 | 3321 | 3573 | 6853 | 4087 | 3807 | 100 | 907 | 55 | 26269 | 10486 |  1373 | 132 | 1758 | 163 |\n| 2020 |  97761 | 13824 | 6357 | 3590 | 3877 | 7912 | 4134 | 4989 |  94 | 946 | 45 | 27514 |  9188 | 15897 |  94 | 1774 | 488 |\n\n",
            "text/latex": "A data.frame: 2 × 18\n\\begin{tabular}{llllllllllllllllll}\n Year & Number.of.cases & Number.of.involuntary.cases & Number.of.cases.with.caring.detention & Number.of.involuntary.cases.according.to.civil.law & Number.of.involuntary.cases.according.to.public.law & Number.of.cases.subjected.to.any.kind.of.coercive.measures & Number.of.cases.subjected.to.mechanical.restraint & Number.of.cases.subjected.to.seclusion & Number.of.cases.subjected.to.physical.restraint & Number.of.cases.subjected.to.emergency.or.forced.medication & Number.of.cases.subjected.to.coercive.measures.not.specified & Total.number.of.coercive.episodes.of.any.kind & Number.of.mechanical.restraint.episodes & Number.of.seclusion.episodes & Number.of.physical.restraint.episodes & Number.of.emergency.or.forced.medications & Number.of.coercive.measures.not.specified\\\\\n <dbl> & <dbl> & <dbl> & <dbl> & <dbl> & <dbl> & <dbl> & <dbl> & <dbl> & <dbl> & <dbl> & <dbl> & <dbl> & <dbl> & <dbl> & <dbl> & <dbl> & <dbl>\\\\\n\\hline\n\t 2019 & 105782 & 13032 & 6138 & 3321 & 3573 & 6853 & 4087 & 3807 & 100 & 907 & 55 & 26269 & 10486 &  1373 & 132 & 1758 & 163\\\\\n\t 2020 &  97761 & 13824 & 6357 & 3590 & 3877 & 7912 & 4134 & 4989 &  94 & 946 & 45 & 27514 &  9188 & 15897 &  94 & 1774 & 488\\\\\n\\end{tabular}\n",
            "text/plain": [
              "  Year Number.of.cases Number.of.involuntary.cases\n",
              "1 2019 105782          13032                      \n",
              "2 2020  97761          13824                      \n",
              "  Number.of.cases.with.caring.detention\n",
              "1 6138                                 \n",
              "2 6357                                 \n",
              "  Number.of.involuntary.cases.according.to.civil.law\n",
              "1 3321                                              \n",
              "2 3590                                              \n",
              "  Number.of.involuntary.cases.according.to.public.law\n",
              "1 3573                                               \n",
              "2 3877                                               \n",
              "  Number.of.cases.subjected.to.any.kind.of.coercive.measures\n",
              "1 6853                                                      \n",
              "2 7912                                                      \n",
              "  Number.of.cases.subjected.to.mechanical.restraint\n",
              "1 4087                                             \n",
              "2 4134                                             \n",
              "  Number.of.cases.subjected.to.seclusion\n",
              "1 3807                                  \n",
              "2 4989                                  \n",
              "  Number.of.cases.subjected.to.physical.restraint\n",
              "1 100                                            \n",
              "2  94                                            \n",
              "  Number.of.cases.subjected.to.emergency.or.forced.medication\n",
              "1 907                                                        \n",
              "2 946                                                        \n",
              "  Number.of.cases.subjected.to.coercive.measures.not.specified\n",
              "1 55                                                          \n",
              "2 45                                                          \n",
              "  Total.number.of.coercive.episodes.of.any.kind\n",
              "1 26269                                        \n",
              "2 27514                                        \n",
              "  Number.of.mechanical.restraint.episodes Number.of.seclusion.episodes\n",
              "1 10486                                    1373                       \n",
              "2  9188                                   15897                       \n",
              "  Number.of.physical.restraint.episodes\n",
              "1 132                                  \n",
              "2  94                                  \n",
              "  Number.of.emergency.or.forced.medications\n",
              "1 1758                                     \n",
              "2 1774                                     \n",
              "  Number.of.coercive.measures.not.specified\n",
              "1 163                                      \n",
              "2 488                                      "
            ]
          },
          "metadata": {}
        }
      ]
    },
    {
      "cell_type": "code",
      "source": [
        "#creating contingency table comparing those \"unexposed\" to the pandemic and those \"exposed\" in terms of involuntary (\"disease\") vs voluntary detentions (no \"disease\") \n",
        "InvoluntaryRRtable <-matrix(c(92750, 83937, 13032, 13824), nrow=2, ncol=2) \n",
        "InvoluntaryRRtable"
      ],
      "metadata": {
        "colab": {
          "base_uri": "https://localhost:8080/",
          "height": 114
        },
        "id": "Yp4yq37bjPWD",
        "outputId": "d21e5918-135c-47c7-ab96-f87df041927a"
      },
      "execution_count": 15,
      "outputs": [
        {
          "output_type": "display_data",
          "data": {
            "text/html": [
              "<table class=\"dataframe\">\n",
              "<caption>A matrix: 2 × 2 of type dbl</caption>\n",
              "<tbody>\n",
              "\t<tr><td>92750</td><td>13032</td></tr>\n",
              "\t<tr><td>83937</td><td>13824</td></tr>\n",
              "</tbody>\n",
              "</table>\n"
            ],
            "text/markdown": "\nA matrix: 2 × 2 of type dbl\n\n| 92750 | 13032 |\n| 83937 | 13824 |\n\n",
            "text/latex": "A matrix: 2 × 2 of type dbl\n\\begin{tabular}{ll}\n\t 92750 & 13032\\\\\n\t 83937 & 13824\\\\\n\\end{tabular}\n",
            "text/plain": [
              "     [,1]  [,2] \n",
              "[1,] 92750 13032\n",
              "[2,] 83937 13824"
            ]
          },
          "metadata": {}
        }
      ]
    }
  ],
  "metadata": {
    "colab": {
      "provenance": [],
      "toc_visible": true,
      "include_colab_link": true
    },
    "kernelspec": {
      "display_name": "R",
      "name": "ir"
    },
    "language_info": {
      "name": "R"
    }
  },
  "nbformat": 4,
  "nbformat_minor": 0
}